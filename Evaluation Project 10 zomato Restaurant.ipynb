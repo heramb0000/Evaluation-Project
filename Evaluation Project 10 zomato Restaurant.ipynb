{
 "cells": [
  {
   "cell_type": "markdown",
   "id": "e9ce6a42-7a29-43ea-8975-312ddf22ffc9",
   "metadata": {},
   "source": [
    "# Zomato Restaurant\n",
    "#### By: Heramb Gadgil "
   ]
  },
  {
   "cell_type": "markdown",
   "id": "780a92d9-7d74-487b-93bc-011b2c4b2efb",
   "metadata": {},
   "source": [
    "### Project Description\n",
    "\n",
    "Zomato Data Analysis is one of the most useful analysis for foodies who want to taste the best\n",
    "cuisines of every part of the world which lies in their budget. This analysis is also for those who\n",
    "want to find the value for money restaurants in various parts of the country for the cuisines.\n",
    "Additionally, this analysis caters the needs of people who are striving to get the best cuisine of\n",
    "the country and which locality of that country serves that cuisines with maximum number of\n",
    "restaurants.\n",
    "\n",
    "### Data Storage:\n",
    "This problem statement contains two datasets- Zomato.csv and country_code.csv.\n",
    "Country_code.csv contains two variables:\n",
    "\n",
    "• Country code\n",
    "\n",
    "• Country name\n",
    "\n",
    "The collected data has been stored in the Comma Separated Value file Zomato.csv. Each\n",
    "restaurant in the dataset is uniquely identified by its Restaurant Id. Every Restaurant contains the following variables:\n",
    "\n",
    "• Restaurant Id: Unique id of every restaurant across various cities of the world\n",
    "\n",
    "• Restaurant Name: Name of the restaurant\n",
    "\n",
    "• Country Code: Country in which restaurant is located\n",
    "\n",
    "• City: City in which restaurant is located\n",
    "\n",
    "• Address: Address of the restaurant\n",
    "\n",
    "• Locality: Location in the city\n",
    "\n",
    "• Locality Verbose: Detailed description of the locality\n",
    "\n",
    "• Longitude: Longitude coordinate of the restaurant&#39;s location\n",
    "\n",
    "• Latitude: Latitude coordinate of the restaurant&#39;s location\n",
    "\n",
    "• Cuisines: Cuisines offered by the restaurant\n",
    "\n",
    "• Average Cost for two: Cost for two people in different currencies ��\n",
    "\n",
    "• Currency: Currency of the country\n",
    "\n",
    "• Has Table booking: yes/no\n",
    "\n",
    "• Has Online delivery: yes/ no\n",
    "\n",
    "• Is delivering: yes/ no\n",
    "\n",
    "• Switch to order menu: yes/no\n",
    "\n",
    "• Price range: range of price of food\n",
    "\n",
    "• Aggregate Rating: Average rating out of 5\n",
    "\n",
    "• Rating color: depending upon the average rating color\n",
    "\n",
    "• Rating text: text on the basis of rating of rating\n",
    "\n",
    "• Votes: Number of ratings casted by people\n",
    "\n",
    "### Problem statement : In this dataset predict 2 things –\n",
    "1) Average Cost for two\n",
    "2) Price range\n",
    "\n",
    "\n",
    "\n",
    "#### Dataset Link-  \n",
    "•\thttps://github.com/FlipRoboTechnologies/ML_-Datasets/blob/main/Z_Restaurant/Country-Code.xlsx\n",
    "\n",
    "•\thttps://raw.githubusercontent.com/FlipRoboTechnologies/ML_-Datasets/main/Z_Restaurant/zomato.csv\n"
   ]
  },
  {
   "cell_type": "code",
   "execution_count": 405,
   "id": "f57c24d6-d83f-47f3-9e8b-ea1e27cca9a7",
   "metadata": {},
   "outputs": [],
   "source": [
    "import numpy as np\n",
    "import pandas as pd\n",
    "import matplotlib.pyplot as plt\n",
    "import plotly.express as px\n",
    "import seaborn as sns\n",
    "import warnings\n",
    "warnings.filterwarnings('ignore')"
   ]
  },
  {
   "cell_type": "code",
   "execution_count": 406,
   "id": "ce1a36b6-c740-4dfe-9c6e-58a9448b8525",
   "metadata": {
    "scrolled": true
   },
   "outputs": [
    {
     "data": {
      "text/html": [
       "<div>\n",
       "<style scoped>\n",
       "    .dataframe tbody tr th:only-of-type {\n",
       "        vertical-align: middle;\n",
       "    }\n",
       "\n",
       "    .dataframe tbody tr th {\n",
       "        vertical-align: top;\n",
       "    }\n",
       "\n",
       "    .dataframe thead th {\n",
       "        text-align: right;\n",
       "    }\n",
       "</style>\n",
       "<table border=\"1\" class=\"dataframe\">\n",
       "  <thead>\n",
       "    <tr style=\"text-align: right;\">\n",
       "      <th></th>\n",
       "      <th>Restaurant ID</th>\n",
       "      <th>Restaurant Name</th>\n",
       "      <th>Country Code</th>\n",
       "      <th>City</th>\n",
       "      <th>Address</th>\n",
       "      <th>Locality</th>\n",
       "      <th>Locality Verbose</th>\n",
       "      <th>Longitude</th>\n",
       "      <th>Latitude</th>\n",
       "      <th>Cuisines</th>\n",
       "      <th>Average Cost for two</th>\n",
       "      <th>Currency</th>\n",
       "      <th>Has Table booking</th>\n",
       "      <th>Has Online delivery</th>\n",
       "      <th>Is delivering now</th>\n",
       "      <th>Switch to order menu</th>\n",
       "      <th>Price range</th>\n",
       "      <th>Aggregate rating</th>\n",
       "      <th>Rating color</th>\n",
       "      <th>Rating text</th>\n",
       "      <th>Votes</th>\n",
       "    </tr>\n",
       "  </thead>\n",
       "  <tbody>\n",
       "    <tr>\n",
       "      <th>0</th>\n",
       "      <td>6317637</td>\n",
       "      <td>Le Petit Souffle</td>\n",
       "      <td>162</td>\n",
       "      <td>Makati City</td>\n",
       "      <td>Third Floor, Century City Mall, Kalayaan Avenu...</td>\n",
       "      <td>Century City Mall, Poblacion, Makati City</td>\n",
       "      <td>Century City Mall, Poblacion, Makati City, Mak...</td>\n",
       "      <td>121.027535</td>\n",
       "      <td>14.565443</td>\n",
       "      <td>French, Japanese, Desserts</td>\n",
       "      <td>1100</td>\n",
       "      <td>Botswana Pula(P)</td>\n",
       "      <td>Yes</td>\n",
       "      <td>No</td>\n",
       "      <td>No</td>\n",
       "      <td>No</td>\n",
       "      <td>3</td>\n",
       "      <td>4.8</td>\n",
       "      <td>Dark Green</td>\n",
       "      <td>Excellent</td>\n",
       "      <td>314</td>\n",
       "    </tr>\n",
       "    <tr>\n",
       "      <th>1</th>\n",
       "      <td>6304287</td>\n",
       "      <td>Izakaya Kikufuji</td>\n",
       "      <td>162</td>\n",
       "      <td>Makati City</td>\n",
       "      <td>Little Tokyo, 2277 Chino Roces Avenue, Legaspi...</td>\n",
       "      <td>Little Tokyo, Legaspi Village, Makati City</td>\n",
       "      <td>Little Tokyo, Legaspi Village, Makati City, Ma...</td>\n",
       "      <td>121.014101</td>\n",
       "      <td>14.553708</td>\n",
       "      <td>Japanese</td>\n",
       "      <td>1200</td>\n",
       "      <td>Botswana Pula(P)</td>\n",
       "      <td>Yes</td>\n",
       "      <td>No</td>\n",
       "      <td>No</td>\n",
       "      <td>No</td>\n",
       "      <td>3</td>\n",
       "      <td>4.5</td>\n",
       "      <td>Dark Green</td>\n",
       "      <td>Excellent</td>\n",
       "      <td>591</td>\n",
       "    </tr>\n",
       "    <tr>\n",
       "      <th>2</th>\n",
       "      <td>6300002</td>\n",
       "      <td>Heat - Edsa Shangri-La</td>\n",
       "      <td>162</td>\n",
       "      <td>Mandaluyong City</td>\n",
       "      <td>Edsa Shangri-La, 1 Garden Way, Ortigas, Mandal...</td>\n",
       "      <td>Edsa Shangri-La, Ortigas, Mandaluyong City</td>\n",
       "      <td>Edsa Shangri-La, Ortigas, Mandaluyong City, Ma...</td>\n",
       "      <td>121.056831</td>\n",
       "      <td>14.581404</td>\n",
       "      <td>Seafood, Asian, Filipino, Indian</td>\n",
       "      <td>4000</td>\n",
       "      <td>Botswana Pula(P)</td>\n",
       "      <td>Yes</td>\n",
       "      <td>No</td>\n",
       "      <td>No</td>\n",
       "      <td>No</td>\n",
       "      <td>4</td>\n",
       "      <td>4.4</td>\n",
       "      <td>Green</td>\n",
       "      <td>Very Good</td>\n",
       "      <td>270</td>\n",
       "    </tr>\n",
       "    <tr>\n",
       "      <th>3</th>\n",
       "      <td>6318506</td>\n",
       "      <td>Ooma</td>\n",
       "      <td>162</td>\n",
       "      <td>Mandaluyong City</td>\n",
       "      <td>Third Floor, Mega Fashion Hall, SM Megamall, O...</td>\n",
       "      <td>SM Megamall, Ortigas, Mandaluyong City</td>\n",
       "      <td>SM Megamall, Ortigas, Mandaluyong City, Mandal...</td>\n",
       "      <td>121.056475</td>\n",
       "      <td>14.585318</td>\n",
       "      <td>Japanese, Sushi</td>\n",
       "      <td>1500</td>\n",
       "      <td>Botswana Pula(P)</td>\n",
       "      <td>No</td>\n",
       "      <td>No</td>\n",
       "      <td>No</td>\n",
       "      <td>No</td>\n",
       "      <td>4</td>\n",
       "      <td>4.9</td>\n",
       "      <td>Dark Green</td>\n",
       "      <td>Excellent</td>\n",
       "      <td>365</td>\n",
       "    </tr>\n",
       "    <tr>\n",
       "      <th>4</th>\n",
       "      <td>6314302</td>\n",
       "      <td>Sambo Kojin</td>\n",
       "      <td>162</td>\n",
       "      <td>Mandaluyong City</td>\n",
       "      <td>Third Floor, Mega Atrium, SM Megamall, Ortigas...</td>\n",
       "      <td>SM Megamall, Ortigas, Mandaluyong City</td>\n",
       "      <td>SM Megamall, Ortigas, Mandaluyong City, Mandal...</td>\n",
       "      <td>121.057508</td>\n",
       "      <td>14.584450</td>\n",
       "      <td>Japanese, Korean</td>\n",
       "      <td>1500</td>\n",
       "      <td>Botswana Pula(P)</td>\n",
       "      <td>Yes</td>\n",
       "      <td>No</td>\n",
       "      <td>No</td>\n",
       "      <td>No</td>\n",
       "      <td>4</td>\n",
       "      <td>4.8</td>\n",
       "      <td>Dark Green</td>\n",
       "      <td>Excellent</td>\n",
       "      <td>229</td>\n",
       "    </tr>\n",
       "  </tbody>\n",
       "</table>\n",
       "</div>"
      ],
      "text/plain": [
       "   Restaurant ID         Restaurant Name  Country Code              City  \\\n",
       "0        6317637        Le Petit Souffle           162       Makati City   \n",
       "1        6304287        Izakaya Kikufuji           162       Makati City   \n",
       "2        6300002  Heat - Edsa Shangri-La           162  Mandaluyong City   \n",
       "3        6318506                    Ooma           162  Mandaluyong City   \n",
       "4        6314302             Sambo Kojin           162  Mandaluyong City   \n",
       "\n",
       "                                             Address  \\\n",
       "0  Third Floor, Century City Mall, Kalayaan Avenu...   \n",
       "1  Little Tokyo, 2277 Chino Roces Avenue, Legaspi...   \n",
       "2  Edsa Shangri-La, 1 Garden Way, Ortigas, Mandal...   \n",
       "3  Third Floor, Mega Fashion Hall, SM Megamall, O...   \n",
       "4  Third Floor, Mega Atrium, SM Megamall, Ortigas...   \n",
       "\n",
       "                                     Locality  \\\n",
       "0   Century City Mall, Poblacion, Makati City   \n",
       "1  Little Tokyo, Legaspi Village, Makati City   \n",
       "2  Edsa Shangri-La, Ortigas, Mandaluyong City   \n",
       "3      SM Megamall, Ortigas, Mandaluyong City   \n",
       "4      SM Megamall, Ortigas, Mandaluyong City   \n",
       "\n",
       "                                    Locality Verbose   Longitude   Latitude  \\\n",
       "0  Century City Mall, Poblacion, Makati City, Mak...  121.027535  14.565443   \n",
       "1  Little Tokyo, Legaspi Village, Makati City, Ma...  121.014101  14.553708   \n",
       "2  Edsa Shangri-La, Ortigas, Mandaluyong City, Ma...  121.056831  14.581404   \n",
       "3  SM Megamall, Ortigas, Mandaluyong City, Mandal...  121.056475  14.585318   \n",
       "4  SM Megamall, Ortigas, Mandaluyong City, Mandal...  121.057508  14.584450   \n",
       "\n",
       "                           Cuisines  Average Cost for two          Currency  \\\n",
       "0        French, Japanese, Desserts                  1100  Botswana Pula(P)   \n",
       "1                          Japanese                  1200  Botswana Pula(P)   \n",
       "2  Seafood, Asian, Filipino, Indian                  4000  Botswana Pula(P)   \n",
       "3                   Japanese, Sushi                  1500  Botswana Pula(P)   \n",
       "4                  Japanese, Korean                  1500  Botswana Pula(P)   \n",
       "\n",
       "  Has Table booking Has Online delivery Is delivering now  \\\n",
       "0               Yes                  No                No   \n",
       "1               Yes                  No                No   \n",
       "2               Yes                  No                No   \n",
       "3                No                  No                No   \n",
       "4               Yes                  No                No   \n",
       "\n",
       "  Switch to order menu  Price range  Aggregate rating Rating color  \\\n",
       "0                   No            3               4.8   Dark Green   \n",
       "1                   No            3               4.5   Dark Green   \n",
       "2                   No            4               4.4        Green   \n",
       "3                   No            4               4.9   Dark Green   \n",
       "4                   No            4               4.8   Dark Green   \n",
       "\n",
       "  Rating text  Votes  \n",
       "0   Excellent    314  \n",
       "1   Excellent    591  \n",
       "2   Very Good    270  \n",
       "3   Excellent    365  \n",
       "4   Excellent    229  "
      ]
     },
     "execution_count": 406,
     "metadata": {},
     "output_type": "execute_result"
    }
   ],
   "source": [
    "#loading dataset\n",
    "pd.set_option('display.max_columns', None)\n",
    "df1= pd.read_csv('https://raw.githubusercontent.com/FlipRoboTechnologies/ML_-Datasets/main/Z_Restaurant/zomato.csv', encoding='latin1')\n",
    "df1.head()"
   ]
  },
  {
   "cell_type": "code",
   "execution_count": 407,
   "id": "aa6dcf78-b980-44a3-bf6c-8ed82164aac9",
   "metadata": {},
   "outputs": [
    {
     "data": {
      "text/plain": [
       "(9551, 21)"
      ]
     },
     "execution_count": 407,
     "metadata": {},
     "output_type": "execute_result"
    }
   ],
   "source": [
    "df1.shape"
   ]
  },
  {
   "cell_type": "code",
   "execution_count": 408,
   "id": "c5e15790-c644-4bf2-b285-221d8902f190",
   "metadata": {},
   "outputs": [
    {
     "data": {
      "text/html": [
       "<div>\n",
       "<style scoped>\n",
       "    .dataframe tbody tr th:only-of-type {\n",
       "        vertical-align: middle;\n",
       "    }\n",
       "\n",
       "    .dataframe tbody tr th {\n",
       "        vertical-align: top;\n",
       "    }\n",
       "\n",
       "    .dataframe thead th {\n",
       "        text-align: right;\n",
       "    }\n",
       "</style>\n",
       "<table border=\"1\" class=\"dataframe\">\n",
       "  <thead>\n",
       "    <tr style=\"text-align: right;\">\n",
       "      <th></th>\n",
       "      <th>Country Code</th>\n",
       "      <th>Country</th>\n",
       "    </tr>\n",
       "  </thead>\n",
       "  <tbody>\n",
       "    <tr>\n",
       "      <th>0</th>\n",
       "      <td>1</td>\n",
       "      <td>India</td>\n",
       "    </tr>\n",
       "    <tr>\n",
       "      <th>1</th>\n",
       "      <td>14</td>\n",
       "      <td>Australia</td>\n",
       "    </tr>\n",
       "    <tr>\n",
       "      <th>2</th>\n",
       "      <td>30</td>\n",
       "      <td>Brazil</td>\n",
       "    </tr>\n",
       "    <tr>\n",
       "      <th>3</th>\n",
       "      <td>37</td>\n",
       "      <td>Canada</td>\n",
       "    </tr>\n",
       "    <tr>\n",
       "      <th>4</th>\n",
       "      <td>94</td>\n",
       "      <td>Indonesia</td>\n",
       "    </tr>\n",
       "  </tbody>\n",
       "</table>\n",
       "</div>"
      ],
      "text/plain": [
       "   Country Code    Country\n",
       "0             1      India\n",
       "1            14  Australia\n",
       "2            30     Brazil\n",
       "3            37     Canada\n",
       "4            94  Indonesia"
      ]
     },
     "execution_count": 408,
     "metadata": {},
     "output_type": "execute_result"
    }
   ],
   "source": [
    "df2 = pd.read_excel(\"Country-Code.xlsx\")\n",
    "df2.head()"
   ]
  },
  {
   "cell_type": "code",
   "execution_count": 409,
   "id": "31933382-40e8-4bbe-ac59-a78bc710287c",
   "metadata": {},
   "outputs": [
    {
     "data": {
      "text/html": [
       "<div>\n",
       "<style scoped>\n",
       "    .dataframe tbody tr th:only-of-type {\n",
       "        vertical-align: middle;\n",
       "    }\n",
       "\n",
       "    .dataframe tbody tr th {\n",
       "        vertical-align: top;\n",
       "    }\n",
       "\n",
       "    .dataframe thead th {\n",
       "        text-align: right;\n",
       "    }\n",
       "</style>\n",
       "<table border=\"1\" class=\"dataframe\">\n",
       "  <thead>\n",
       "    <tr style=\"text-align: right;\">\n",
       "      <th></th>\n",
       "      <th>Restaurant ID</th>\n",
       "      <th>Restaurant Name</th>\n",
       "      <th>Country Code</th>\n",
       "      <th>City</th>\n",
       "      <th>Address</th>\n",
       "      <th>Locality</th>\n",
       "      <th>Locality Verbose</th>\n",
       "      <th>Longitude</th>\n",
       "      <th>Latitude</th>\n",
       "      <th>Cuisines</th>\n",
       "      <th>Average Cost for two</th>\n",
       "      <th>Currency</th>\n",
       "      <th>Has Table booking</th>\n",
       "      <th>Has Online delivery</th>\n",
       "      <th>Is delivering now</th>\n",
       "      <th>Switch to order menu</th>\n",
       "      <th>Price range</th>\n",
       "      <th>Aggregate rating</th>\n",
       "      <th>Rating color</th>\n",
       "      <th>Rating text</th>\n",
       "      <th>Votes</th>\n",
       "      <th>Country</th>\n",
       "    </tr>\n",
       "  </thead>\n",
       "  <tbody>\n",
       "    <tr>\n",
       "      <th>0</th>\n",
       "      <td>3400025</td>\n",
       "      <td>Jahanpanah</td>\n",
       "      <td>1</td>\n",
       "      <td>Agra</td>\n",
       "      <td>E 23, Shopping Arcade, Sadar Bazaar, Agra Cant...</td>\n",
       "      <td>Agra Cantt</td>\n",
       "      <td>Agra Cantt, Agra</td>\n",
       "      <td>78.011544</td>\n",
       "      <td>27.161661</td>\n",
       "      <td>North Indian, Mughlai</td>\n",
       "      <td>850</td>\n",
       "      <td>Indian Rupees(Rs.)</td>\n",
       "      <td>No</td>\n",
       "      <td>No</td>\n",
       "      <td>No</td>\n",
       "      <td>No</td>\n",
       "      <td>3</td>\n",
       "      <td>3.9</td>\n",
       "      <td>Yellow</td>\n",
       "      <td>Good</td>\n",
       "      <td>140</td>\n",
       "      <td>India</td>\n",
       "    </tr>\n",
       "    <tr>\n",
       "      <th>1</th>\n",
       "      <td>3400341</td>\n",
       "      <td>Rangrezz Restaurant</td>\n",
       "      <td>1</td>\n",
       "      <td>Agra</td>\n",
       "      <td>E-20, Shopping Arcade, Sadar Bazaar, Agra Cant...</td>\n",
       "      <td>Agra Cantt</td>\n",
       "      <td>Agra Cantt, Agra</td>\n",
       "      <td>0.000000</td>\n",
       "      <td>0.000000</td>\n",
       "      <td>North Indian, Mughlai</td>\n",
       "      <td>700</td>\n",
       "      <td>Indian Rupees(Rs.)</td>\n",
       "      <td>No</td>\n",
       "      <td>No</td>\n",
       "      <td>No</td>\n",
       "      <td>No</td>\n",
       "      <td>2</td>\n",
       "      <td>3.5</td>\n",
       "      <td>Yellow</td>\n",
       "      <td>Good</td>\n",
       "      <td>71</td>\n",
       "      <td>India</td>\n",
       "    </tr>\n",
       "    <tr>\n",
       "      <th>2</th>\n",
       "      <td>3400005</td>\n",
       "      <td>Time2Eat - Mama Chicken</td>\n",
       "      <td>1</td>\n",
       "      <td>Agra</td>\n",
       "      <td>Main Market, Sadar Bazaar, Agra Cantt, Agra</td>\n",
       "      <td>Agra Cantt</td>\n",
       "      <td>Agra Cantt, Agra</td>\n",
       "      <td>78.011608</td>\n",
       "      <td>27.160832</td>\n",
       "      <td>North Indian</td>\n",
       "      <td>500</td>\n",
       "      <td>Indian Rupees(Rs.)</td>\n",
       "      <td>No</td>\n",
       "      <td>No</td>\n",
       "      <td>No</td>\n",
       "      <td>No</td>\n",
       "      <td>2</td>\n",
       "      <td>3.6</td>\n",
       "      <td>Yellow</td>\n",
       "      <td>Good</td>\n",
       "      <td>94</td>\n",
       "      <td>India</td>\n",
       "    </tr>\n",
       "    <tr>\n",
       "      <th>3</th>\n",
       "      <td>3400021</td>\n",
       "      <td>Chokho Jeeman Marwari Jain Bhojanalya</td>\n",
       "      <td>1</td>\n",
       "      <td>Agra</td>\n",
       "      <td>1/48, Delhi Gate, Station Road, Raja Mandi, Ci...</td>\n",
       "      <td>Civil Lines</td>\n",
       "      <td>Civil Lines, Agra</td>\n",
       "      <td>77.998092</td>\n",
       "      <td>27.195928</td>\n",
       "      <td>Rajasthani</td>\n",
       "      <td>400</td>\n",
       "      <td>Indian Rupees(Rs.)</td>\n",
       "      <td>No</td>\n",
       "      <td>No</td>\n",
       "      <td>No</td>\n",
       "      <td>No</td>\n",
       "      <td>2</td>\n",
       "      <td>4.0</td>\n",
       "      <td>Green</td>\n",
       "      <td>Very Good</td>\n",
       "      <td>87</td>\n",
       "      <td>India</td>\n",
       "    </tr>\n",
       "    <tr>\n",
       "      <th>4</th>\n",
       "      <td>3400017</td>\n",
       "      <td>Pinch Of Spice</td>\n",
       "      <td>1</td>\n",
       "      <td>Agra</td>\n",
       "      <td>23/453, Opposite Sanjay Cinema, Wazipura Road,...</td>\n",
       "      <td>Civil Lines</td>\n",
       "      <td>Civil Lines, Agra</td>\n",
       "      <td>78.007553</td>\n",
       "      <td>27.201725</td>\n",
       "      <td>North Indian, Chinese, Mughlai</td>\n",
       "      <td>1000</td>\n",
       "      <td>Indian Rupees(Rs.)</td>\n",
       "      <td>No</td>\n",
       "      <td>No</td>\n",
       "      <td>No</td>\n",
       "      <td>No</td>\n",
       "      <td>3</td>\n",
       "      <td>4.2</td>\n",
       "      <td>Green</td>\n",
       "      <td>Very Good</td>\n",
       "      <td>177</td>\n",
       "      <td>India</td>\n",
       "    </tr>\n",
       "  </tbody>\n",
       "</table>\n",
       "</div>"
      ],
      "text/plain": [
       "   Restaurant ID                        Restaurant Name  Country Code  City  \\\n",
       "0        3400025                             Jahanpanah             1  Agra   \n",
       "1        3400341                    Rangrezz Restaurant             1  Agra   \n",
       "2        3400005                Time2Eat - Mama Chicken             1  Agra   \n",
       "3        3400021  Chokho Jeeman Marwari Jain Bhojanalya             1  Agra   \n",
       "4        3400017                         Pinch Of Spice             1  Agra   \n",
       "\n",
       "                                             Address     Locality  \\\n",
       "0  E 23, Shopping Arcade, Sadar Bazaar, Agra Cant...   Agra Cantt   \n",
       "1  E-20, Shopping Arcade, Sadar Bazaar, Agra Cant...   Agra Cantt   \n",
       "2        Main Market, Sadar Bazaar, Agra Cantt, Agra   Agra Cantt   \n",
       "3  1/48, Delhi Gate, Station Road, Raja Mandi, Ci...  Civil Lines   \n",
       "4  23/453, Opposite Sanjay Cinema, Wazipura Road,...  Civil Lines   \n",
       "\n",
       "    Locality Verbose  Longitude   Latitude                        Cuisines  \\\n",
       "0   Agra Cantt, Agra  78.011544  27.161661           North Indian, Mughlai   \n",
       "1   Agra Cantt, Agra   0.000000   0.000000           North Indian, Mughlai   \n",
       "2   Agra Cantt, Agra  78.011608  27.160832                    North Indian   \n",
       "3  Civil Lines, Agra  77.998092  27.195928                      Rajasthani   \n",
       "4  Civil Lines, Agra  78.007553  27.201725  North Indian, Chinese, Mughlai   \n",
       "\n",
       "   Average Cost for two            Currency Has Table booking  \\\n",
       "0                   850  Indian Rupees(Rs.)                No   \n",
       "1                   700  Indian Rupees(Rs.)                No   \n",
       "2                   500  Indian Rupees(Rs.)                No   \n",
       "3                   400  Indian Rupees(Rs.)                No   \n",
       "4                  1000  Indian Rupees(Rs.)                No   \n",
       "\n",
       "  Has Online delivery Is delivering now Switch to order menu  Price range  \\\n",
       "0                  No                No                   No            3   \n",
       "1                  No                No                   No            2   \n",
       "2                  No                No                   No            2   \n",
       "3                  No                No                   No            2   \n",
       "4                  No                No                   No            3   \n",
       "\n",
       "   Aggregate rating Rating color Rating text  Votes Country  \n",
       "0               3.9       Yellow        Good    140   India  \n",
       "1               3.5       Yellow        Good     71   India  \n",
       "2               3.6       Yellow        Good     94   India  \n",
       "3               4.0        Green   Very Good     87   India  \n",
       "4               4.2        Green   Very Good    177   India  "
      ]
     },
     "execution_count": 409,
     "metadata": {},
     "output_type": "execute_result"
    }
   ],
   "source": [
    "df = pd.merge(df1, df2, on='Country Code', how='right')\n",
    "df.head()"
   ]
  },
  {
   "cell_type": "code",
   "execution_count": 410,
   "id": "1956528a-ab03-4cfc-aa45-00d7cd66a89c",
   "metadata": {},
   "outputs": [
    {
     "data": {
      "text/plain": [
       "(9551, 22)"
      ]
     },
     "execution_count": 410,
     "metadata": {},
     "output_type": "execute_result"
    }
   ],
   "source": [
    "df.shape"
   ]
  },
  {
   "cell_type": "code",
   "execution_count": 411,
   "id": "76321142-3dd9-485a-ada3-7c33e0865758",
   "metadata": {},
   "outputs": [
    {
     "data": {
      "text/plain": [
       "0"
      ]
     },
     "execution_count": 411,
     "metadata": {},
     "output_type": "execute_result"
    }
   ],
   "source": [
    "df.duplicated().sum()"
   ]
  },
  {
   "cell_type": "markdown",
   "id": "90db01a3-401b-4b44-95b5-a7c51d0f0e8d",
   "metadata": {},
   "source": [
    "### Dropping unwanted columns"
   ]
  },
  {
   "cell_type": "code",
   "execution_count": 412,
   "id": "cd4cda84-f778-4260-90f4-a0d89828d2f2",
   "metadata": {},
   "outputs": [
    {
     "data": {
      "text/html": [
       "<div>\n",
       "<style scoped>\n",
       "    .dataframe tbody tr th:only-of-type {\n",
       "        vertical-align: middle;\n",
       "    }\n",
       "\n",
       "    .dataframe tbody tr th {\n",
       "        vertical-align: top;\n",
       "    }\n",
       "\n",
       "    .dataframe thead th {\n",
       "        text-align: right;\n",
       "    }\n",
       "</style>\n",
       "<table border=\"1\" class=\"dataframe\">\n",
       "  <thead>\n",
       "    <tr style=\"text-align: right;\">\n",
       "      <th></th>\n",
       "      <th>Country Code</th>\n",
       "      <th>City</th>\n",
       "      <th>Address</th>\n",
       "      <th>Locality</th>\n",
       "      <th>Locality Verbose</th>\n",
       "      <th>Cuisines</th>\n",
       "      <th>Average Cost for two</th>\n",
       "      <th>Currency</th>\n",
       "      <th>Has Table booking</th>\n",
       "      <th>Has Online delivery</th>\n",
       "      <th>Is delivering now</th>\n",
       "      <th>Switch to order menu</th>\n",
       "      <th>Price range</th>\n",
       "      <th>Aggregate rating</th>\n",
       "      <th>Rating color</th>\n",
       "      <th>Rating text</th>\n",
       "      <th>Votes</th>\n",
       "      <th>Country</th>\n",
       "    </tr>\n",
       "  </thead>\n",
       "  <tbody>\n",
       "    <tr>\n",
       "      <th>0</th>\n",
       "      <td>1</td>\n",
       "      <td>Agra</td>\n",
       "      <td>E 23, Shopping Arcade, Sadar Bazaar, Agra Cant...</td>\n",
       "      <td>Agra Cantt</td>\n",
       "      <td>Agra Cantt, Agra</td>\n",
       "      <td>North Indian, Mughlai</td>\n",
       "      <td>850</td>\n",
       "      <td>Indian Rupees(Rs.)</td>\n",
       "      <td>No</td>\n",
       "      <td>No</td>\n",
       "      <td>No</td>\n",
       "      <td>No</td>\n",
       "      <td>3</td>\n",
       "      <td>3.9</td>\n",
       "      <td>Yellow</td>\n",
       "      <td>Good</td>\n",
       "      <td>140</td>\n",
       "      <td>India</td>\n",
       "    </tr>\n",
       "    <tr>\n",
       "      <th>1</th>\n",
       "      <td>1</td>\n",
       "      <td>Agra</td>\n",
       "      <td>E-20, Shopping Arcade, Sadar Bazaar, Agra Cant...</td>\n",
       "      <td>Agra Cantt</td>\n",
       "      <td>Agra Cantt, Agra</td>\n",
       "      <td>North Indian, Mughlai</td>\n",
       "      <td>700</td>\n",
       "      <td>Indian Rupees(Rs.)</td>\n",
       "      <td>No</td>\n",
       "      <td>No</td>\n",
       "      <td>No</td>\n",
       "      <td>No</td>\n",
       "      <td>2</td>\n",
       "      <td>3.5</td>\n",
       "      <td>Yellow</td>\n",
       "      <td>Good</td>\n",
       "      <td>71</td>\n",
       "      <td>India</td>\n",
       "    </tr>\n",
       "    <tr>\n",
       "      <th>2</th>\n",
       "      <td>1</td>\n",
       "      <td>Agra</td>\n",
       "      <td>Main Market, Sadar Bazaar, Agra Cantt, Agra</td>\n",
       "      <td>Agra Cantt</td>\n",
       "      <td>Agra Cantt, Agra</td>\n",
       "      <td>North Indian</td>\n",
       "      <td>500</td>\n",
       "      <td>Indian Rupees(Rs.)</td>\n",
       "      <td>No</td>\n",
       "      <td>No</td>\n",
       "      <td>No</td>\n",
       "      <td>No</td>\n",
       "      <td>2</td>\n",
       "      <td>3.6</td>\n",
       "      <td>Yellow</td>\n",
       "      <td>Good</td>\n",
       "      <td>94</td>\n",
       "      <td>India</td>\n",
       "    </tr>\n",
       "    <tr>\n",
       "      <th>3</th>\n",
       "      <td>1</td>\n",
       "      <td>Agra</td>\n",
       "      <td>1/48, Delhi Gate, Station Road, Raja Mandi, Ci...</td>\n",
       "      <td>Civil Lines</td>\n",
       "      <td>Civil Lines, Agra</td>\n",
       "      <td>Rajasthani</td>\n",
       "      <td>400</td>\n",
       "      <td>Indian Rupees(Rs.)</td>\n",
       "      <td>No</td>\n",
       "      <td>No</td>\n",
       "      <td>No</td>\n",
       "      <td>No</td>\n",
       "      <td>2</td>\n",
       "      <td>4.0</td>\n",
       "      <td>Green</td>\n",
       "      <td>Very Good</td>\n",
       "      <td>87</td>\n",
       "      <td>India</td>\n",
       "    </tr>\n",
       "    <tr>\n",
       "      <th>4</th>\n",
       "      <td>1</td>\n",
       "      <td>Agra</td>\n",
       "      <td>23/453, Opposite Sanjay Cinema, Wazipura Road,...</td>\n",
       "      <td>Civil Lines</td>\n",
       "      <td>Civil Lines, Agra</td>\n",
       "      <td>North Indian, Chinese, Mughlai</td>\n",
       "      <td>1000</td>\n",
       "      <td>Indian Rupees(Rs.)</td>\n",
       "      <td>No</td>\n",
       "      <td>No</td>\n",
       "      <td>No</td>\n",
       "      <td>No</td>\n",
       "      <td>3</td>\n",
       "      <td>4.2</td>\n",
       "      <td>Green</td>\n",
       "      <td>Very Good</td>\n",
       "      <td>177</td>\n",
       "      <td>India</td>\n",
       "    </tr>\n",
       "  </tbody>\n",
       "</table>\n",
       "</div>"
      ],
      "text/plain": [
       "   Country Code  City                                            Address  \\\n",
       "0             1  Agra  E 23, Shopping Arcade, Sadar Bazaar, Agra Cant...   \n",
       "1             1  Agra  E-20, Shopping Arcade, Sadar Bazaar, Agra Cant...   \n",
       "2             1  Agra        Main Market, Sadar Bazaar, Agra Cantt, Agra   \n",
       "3             1  Agra  1/48, Delhi Gate, Station Road, Raja Mandi, Ci...   \n",
       "4             1  Agra  23/453, Opposite Sanjay Cinema, Wazipura Road,...   \n",
       "\n",
       "      Locality   Locality Verbose                        Cuisines  \\\n",
       "0   Agra Cantt   Agra Cantt, Agra           North Indian, Mughlai   \n",
       "1   Agra Cantt   Agra Cantt, Agra           North Indian, Mughlai   \n",
       "2   Agra Cantt   Agra Cantt, Agra                    North Indian   \n",
       "3  Civil Lines  Civil Lines, Agra                      Rajasthani   \n",
       "4  Civil Lines  Civil Lines, Agra  North Indian, Chinese, Mughlai   \n",
       "\n",
       "   Average Cost for two            Currency Has Table booking  \\\n",
       "0                   850  Indian Rupees(Rs.)                No   \n",
       "1                   700  Indian Rupees(Rs.)                No   \n",
       "2                   500  Indian Rupees(Rs.)                No   \n",
       "3                   400  Indian Rupees(Rs.)                No   \n",
       "4                  1000  Indian Rupees(Rs.)                No   \n",
       "\n",
       "  Has Online delivery Is delivering now Switch to order menu  Price range  \\\n",
       "0                  No                No                   No            3   \n",
       "1                  No                No                   No            2   \n",
       "2                  No                No                   No            2   \n",
       "3                  No                No                   No            2   \n",
       "4                  No                No                   No            3   \n",
       "\n",
       "   Aggregate rating Rating color Rating text  Votes Country  \n",
       "0               3.9       Yellow        Good    140   India  \n",
       "1               3.5       Yellow        Good     71   India  \n",
       "2               3.6       Yellow        Good     94   India  \n",
       "3               4.0        Green   Very Good     87   India  \n",
       "4               4.2        Green   Very Good    177   India  "
      ]
     },
     "execution_count": 412,
     "metadata": {},
     "output_type": "execute_result"
    }
   ],
   "source": [
    "df.drop(columns=[\"Restaurant ID\",\"Restaurant Name\",\"Longitude\",\"Latitude\"],axis=1,inplace=True)\n",
    "df.head()"
   ]
  },
  {
   "cell_type": "code",
   "execution_count": 413,
   "id": "c804f9a3-01f8-4585-9d7b-6c29b2b10929",
   "metadata": {},
   "outputs": [
    {
     "data": {
      "text/html": [
       "<div>\n",
       "<style scoped>\n",
       "    .dataframe tbody tr th:only-of-type {\n",
       "        vertical-align: middle;\n",
       "    }\n",
       "\n",
       "    .dataframe tbody tr th {\n",
       "        vertical-align: top;\n",
       "    }\n",
       "\n",
       "    .dataframe thead th {\n",
       "        text-align: right;\n",
       "    }\n",
       "</style>\n",
       "<table border=\"1\" class=\"dataframe\">\n",
       "  <thead>\n",
       "    <tr style=\"text-align: right;\">\n",
       "      <th></th>\n",
       "      <th>City</th>\n",
       "      <th>Address</th>\n",
       "      <th>Locality</th>\n",
       "      <th>Locality Verbose</th>\n",
       "      <th>Cuisines</th>\n",
       "      <th>Average Cost for two</th>\n",
       "      <th>Currency</th>\n",
       "      <th>Has Table booking</th>\n",
       "      <th>Has Online delivery</th>\n",
       "      <th>Is delivering now</th>\n",
       "      <th>Switch to order menu</th>\n",
       "      <th>Price range</th>\n",
       "      <th>Aggregate rating</th>\n",
       "      <th>Rating color</th>\n",
       "      <th>Rating text</th>\n",
       "      <th>Votes</th>\n",
       "      <th>Country</th>\n",
       "    </tr>\n",
       "  </thead>\n",
       "  <tbody>\n",
       "    <tr>\n",
       "      <th>0</th>\n",
       "      <td>Agra</td>\n",
       "      <td>E 23, Shopping Arcade, Sadar Bazaar, Agra Cant...</td>\n",
       "      <td>Agra Cantt</td>\n",
       "      <td>Agra Cantt, Agra</td>\n",
       "      <td>North Indian, Mughlai</td>\n",
       "      <td>850</td>\n",
       "      <td>Indian Rupees(Rs.)</td>\n",
       "      <td>No</td>\n",
       "      <td>No</td>\n",
       "      <td>No</td>\n",
       "      <td>No</td>\n",
       "      <td>3</td>\n",
       "      <td>3.9</td>\n",
       "      <td>Yellow</td>\n",
       "      <td>Good</td>\n",
       "      <td>140</td>\n",
       "      <td>India</td>\n",
       "    </tr>\n",
       "    <tr>\n",
       "      <th>1</th>\n",
       "      <td>Agra</td>\n",
       "      <td>E-20, Shopping Arcade, Sadar Bazaar, Agra Cant...</td>\n",
       "      <td>Agra Cantt</td>\n",
       "      <td>Agra Cantt, Agra</td>\n",
       "      <td>North Indian, Mughlai</td>\n",
       "      <td>700</td>\n",
       "      <td>Indian Rupees(Rs.)</td>\n",
       "      <td>No</td>\n",
       "      <td>No</td>\n",
       "      <td>No</td>\n",
       "      <td>No</td>\n",
       "      <td>2</td>\n",
       "      <td>3.5</td>\n",
       "      <td>Yellow</td>\n",
       "      <td>Good</td>\n",
       "      <td>71</td>\n",
       "      <td>India</td>\n",
       "    </tr>\n",
       "    <tr>\n",
       "      <th>2</th>\n",
       "      <td>Agra</td>\n",
       "      <td>Main Market, Sadar Bazaar, Agra Cantt, Agra</td>\n",
       "      <td>Agra Cantt</td>\n",
       "      <td>Agra Cantt, Agra</td>\n",
       "      <td>North Indian</td>\n",
       "      <td>500</td>\n",
       "      <td>Indian Rupees(Rs.)</td>\n",
       "      <td>No</td>\n",
       "      <td>No</td>\n",
       "      <td>No</td>\n",
       "      <td>No</td>\n",
       "      <td>2</td>\n",
       "      <td>3.6</td>\n",
       "      <td>Yellow</td>\n",
       "      <td>Good</td>\n",
       "      <td>94</td>\n",
       "      <td>India</td>\n",
       "    </tr>\n",
       "    <tr>\n",
       "      <th>3</th>\n",
       "      <td>Agra</td>\n",
       "      <td>1/48, Delhi Gate, Station Road, Raja Mandi, Ci...</td>\n",
       "      <td>Civil Lines</td>\n",
       "      <td>Civil Lines, Agra</td>\n",
       "      <td>Rajasthani</td>\n",
       "      <td>400</td>\n",
       "      <td>Indian Rupees(Rs.)</td>\n",
       "      <td>No</td>\n",
       "      <td>No</td>\n",
       "      <td>No</td>\n",
       "      <td>No</td>\n",
       "      <td>2</td>\n",
       "      <td>4.0</td>\n",
       "      <td>Green</td>\n",
       "      <td>Very Good</td>\n",
       "      <td>87</td>\n",
       "      <td>India</td>\n",
       "    </tr>\n",
       "    <tr>\n",
       "      <th>4</th>\n",
       "      <td>Agra</td>\n",
       "      <td>23/453, Opposite Sanjay Cinema, Wazipura Road,...</td>\n",
       "      <td>Civil Lines</td>\n",
       "      <td>Civil Lines, Agra</td>\n",
       "      <td>North Indian, Chinese, Mughlai</td>\n",
       "      <td>1000</td>\n",
       "      <td>Indian Rupees(Rs.)</td>\n",
       "      <td>No</td>\n",
       "      <td>No</td>\n",
       "      <td>No</td>\n",
       "      <td>No</td>\n",
       "      <td>3</td>\n",
       "      <td>4.2</td>\n",
       "      <td>Green</td>\n",
       "      <td>Very Good</td>\n",
       "      <td>177</td>\n",
       "      <td>India</td>\n",
       "    </tr>\n",
       "  </tbody>\n",
       "</table>\n",
       "</div>"
      ],
      "text/plain": [
       "   City                                            Address     Locality  \\\n",
       "0  Agra  E 23, Shopping Arcade, Sadar Bazaar, Agra Cant...   Agra Cantt   \n",
       "1  Agra  E-20, Shopping Arcade, Sadar Bazaar, Agra Cant...   Agra Cantt   \n",
       "2  Agra        Main Market, Sadar Bazaar, Agra Cantt, Agra   Agra Cantt   \n",
       "3  Agra  1/48, Delhi Gate, Station Road, Raja Mandi, Ci...  Civil Lines   \n",
       "4  Agra  23/453, Opposite Sanjay Cinema, Wazipura Road,...  Civil Lines   \n",
       "\n",
       "    Locality Verbose                        Cuisines  Average Cost for two  \\\n",
       "0   Agra Cantt, Agra           North Indian, Mughlai                   850   \n",
       "1   Agra Cantt, Agra           North Indian, Mughlai                   700   \n",
       "2   Agra Cantt, Agra                    North Indian                   500   \n",
       "3  Civil Lines, Agra                      Rajasthani                   400   \n",
       "4  Civil Lines, Agra  North Indian, Chinese, Mughlai                  1000   \n",
       "\n",
       "             Currency Has Table booking Has Online delivery Is delivering now  \\\n",
       "0  Indian Rupees(Rs.)                No                  No                No   \n",
       "1  Indian Rupees(Rs.)                No                  No                No   \n",
       "2  Indian Rupees(Rs.)                No                  No                No   \n",
       "3  Indian Rupees(Rs.)                No                  No                No   \n",
       "4  Indian Rupees(Rs.)                No                  No                No   \n",
       "\n",
       "  Switch to order menu  Price range  Aggregate rating Rating color  \\\n",
       "0                   No            3               3.9       Yellow   \n",
       "1                   No            2               3.5       Yellow   \n",
       "2                   No            2               3.6       Yellow   \n",
       "3                   No            2               4.0        Green   \n",
       "4                   No            3               4.2        Green   \n",
       "\n",
       "  Rating text  Votes Country  \n",
       "0        Good    140   India  \n",
       "1        Good     71   India  \n",
       "2        Good     94   India  \n",
       "3   Very Good     87   India  \n",
       "4   Very Good    177   India  "
      ]
     },
     "execution_count": 413,
     "metadata": {},
     "output_type": "execute_result"
    }
   ],
   "source": [
    "df.drop(columns=[\"Country Code\"],axis=1,inplace=True)\n",
    "df.head()"
   ]
  },
  {
   "cell_type": "code",
   "execution_count": 414,
   "id": "bfcccf18-8e9c-4c45-82d1-3e0b2772f1ee",
   "metadata": {},
   "outputs": [
    {
     "name": "stdout",
     "output_type": "stream",
     "text": [
      "<class 'pandas.core.frame.DataFrame'>\n",
      "RangeIndex: 9551 entries, 0 to 9550\n",
      "Data columns (total 17 columns):\n",
      " #   Column                Non-Null Count  Dtype  \n",
      "---  ------                --------------  -----  \n",
      " 0   City                  9551 non-null   object \n",
      " 1   Address               9551 non-null   object \n",
      " 2   Locality              9551 non-null   object \n",
      " 3   Locality Verbose      9551 non-null   object \n",
      " 4   Cuisines              9542 non-null   object \n",
      " 5   Average Cost for two  9551 non-null   int64  \n",
      " 6   Currency              9551 non-null   object \n",
      " 7   Has Table booking     9551 non-null   object \n",
      " 8   Has Online delivery   9551 non-null   object \n",
      " 9   Is delivering now     9551 non-null   object \n",
      " 10  Switch to order menu  9551 non-null   object \n",
      " 11  Price range           9551 non-null   int64  \n",
      " 12  Aggregate rating      9551 non-null   float64\n",
      " 13  Rating color          9551 non-null   object \n",
      " 14  Rating text           9551 non-null   object \n",
      " 15  Votes                 9551 non-null   int64  \n",
      " 16  Country               9551 non-null   object \n",
      "dtypes: float64(1), int64(3), object(13)\n",
      "memory usage: 1.2+ MB\n"
     ]
    }
   ],
   "source": [
    "df.info()"
   ]
  },
  {
   "cell_type": "markdown",
   "id": "3e36af05-ca77-4483-91e8-5b4e96b1b322",
   "metadata": {},
   "source": [
    "### Handeling the currency columns so that the average cost for two will be in Rs"
   ]
  },
  {
   "cell_type": "code",
   "execution_count": 415,
   "id": "bff4072d-efc3-45ec-88d5-0ebdeb72d512",
   "metadata": {},
   "outputs": [
    {
     "data": {
      "text/plain": [
       "array(['Indian Rupees(Rs.)', 'Dollar($)', 'Brazilian Real(R$)',\n",
       "       'Indonesian Rupiah(IDR)', 'NewZealand($)', 'Botswana Pula(P)',\n",
       "       'Qatari Rial(QR)', 'Rand(R)', 'Sri Lankan Rupee(LKR)',\n",
       "       'Turkish Lira(TL)', 'Emirati Diram(AED)', 'Pounds(\\x8c£)'],\n",
       "      dtype=object)"
      ]
     },
     "execution_count": 415,
     "metadata": {},
     "output_type": "execute_result"
    }
   ],
   "source": [
    "df[\"Currency\"].unique()"
   ]
  },
  {
   "cell_type": "markdown",
   "id": "0bf0b580-fc05-4c36-94c1-8d9bede3cdb0",
   "metadata": {},
   "source": [
    "#### to convert the currency we need folowing conversions\n",
    "- Dollar($) = i *83.13\n",
    "- Brazilian Real(R$) = i * 16\n",
    "- Indonesian Rupiah(IDR) =i/193\n",
    "- NewZealand($) = i* 51\n",
    "- Botswana Pula(P) = i * 6.12\n",
    "- Qatari Rial(QR) = i * 22.83\n",
    "- Rand(R) = i / 15.7\n",
    "- 'Sri Lankan Rupee(LKR)= i / 3.6\n",
    "- Turkish Lira(TL) = i * 2.58\n",
    "- Emirati Diram(AED) = i * 22.63\n",
    "- Pounds(\\x8c£) = i* 106"
   ]
  },
  {
   "cell_type": "code",
   "execution_count": 416,
   "id": "1f3be099-33bf-4239-934b-3579a51d1b29",
   "metadata": {},
   "outputs": [],
   "source": [
    "exchange_rates = {\n",
    "    \"Indian Rupees(Rs.)\": 1,\n",
    "    'Dollar($)': 83.13,\n",
    "    'Brazilian Real(R$)':16,\n",
    "    'Indonesian Rupiah(IDR)':0.00517,\n",
    "    'NewZealand($)':51,\n",
    "    'Botswana Pula(P)':6.12,\n",
    "    'Qatari Rial(QR)':22.83,\n",
    "    'Rand(R)': 4.52,\n",
    "    'Sri Lankan Rupee(LKR)':0.27,\n",
    "    'Turkish Lira(TL)':2.58,\n",
    "    'Emirati Diram(AED)':22.63,\n",
    "    'Pounds(\\x8c£)':106\n",
    "    \n",
    "}"
   ]
  },
  {
   "cell_type": "code",
   "execution_count": 417,
   "id": "c1dcfde9-dcdc-477c-83dc-e1014422e839",
   "metadata": {},
   "outputs": [
    {
     "data": {
      "text/html": [
       "<div>\n",
       "<style scoped>\n",
       "    .dataframe tbody tr th:only-of-type {\n",
       "        vertical-align: middle;\n",
       "    }\n",
       "\n",
       "    .dataframe tbody tr th {\n",
       "        vertical-align: top;\n",
       "    }\n",
       "\n",
       "    .dataframe thead th {\n",
       "        text-align: right;\n",
       "    }\n",
       "</style>\n",
       "<table border=\"1\" class=\"dataframe\">\n",
       "  <thead>\n",
       "    <tr style=\"text-align: right;\">\n",
       "      <th></th>\n",
       "      <th>City</th>\n",
       "      <th>Address</th>\n",
       "      <th>Locality</th>\n",
       "      <th>Locality Verbose</th>\n",
       "      <th>Cuisines</th>\n",
       "      <th>Average Cost for two</th>\n",
       "      <th>Currency</th>\n",
       "      <th>Has Table booking</th>\n",
       "      <th>Has Online delivery</th>\n",
       "      <th>Is delivering now</th>\n",
       "      <th>Switch to order menu</th>\n",
       "      <th>Price range</th>\n",
       "      <th>Aggregate rating</th>\n",
       "      <th>Rating color</th>\n",
       "      <th>Rating text</th>\n",
       "      <th>Votes</th>\n",
       "      <th>Country</th>\n",
       "      <th>Average Cost for two in INR</th>\n",
       "    </tr>\n",
       "  </thead>\n",
       "  <tbody>\n",
       "    <tr>\n",
       "      <th>0</th>\n",
       "      <td>Agra</td>\n",
       "      <td>E 23, Shopping Arcade, Sadar Bazaar, Agra Cant...</td>\n",
       "      <td>Agra Cantt</td>\n",
       "      <td>Agra Cantt, Agra</td>\n",
       "      <td>North Indian, Mughlai</td>\n",
       "      <td>850</td>\n",
       "      <td>Indian Rupees(Rs.)</td>\n",
       "      <td>No</td>\n",
       "      <td>No</td>\n",
       "      <td>No</td>\n",
       "      <td>No</td>\n",
       "      <td>3</td>\n",
       "      <td>3.9</td>\n",
       "      <td>Yellow</td>\n",
       "      <td>Good</td>\n",
       "      <td>140</td>\n",
       "      <td>India</td>\n",
       "      <td>850.0</td>\n",
       "    </tr>\n",
       "    <tr>\n",
       "      <th>1</th>\n",
       "      <td>Agra</td>\n",
       "      <td>E-20, Shopping Arcade, Sadar Bazaar, Agra Cant...</td>\n",
       "      <td>Agra Cantt</td>\n",
       "      <td>Agra Cantt, Agra</td>\n",
       "      <td>North Indian, Mughlai</td>\n",
       "      <td>700</td>\n",
       "      <td>Indian Rupees(Rs.)</td>\n",
       "      <td>No</td>\n",
       "      <td>No</td>\n",
       "      <td>No</td>\n",
       "      <td>No</td>\n",
       "      <td>2</td>\n",
       "      <td>3.5</td>\n",
       "      <td>Yellow</td>\n",
       "      <td>Good</td>\n",
       "      <td>71</td>\n",
       "      <td>India</td>\n",
       "      <td>700.0</td>\n",
       "    </tr>\n",
       "    <tr>\n",
       "      <th>2</th>\n",
       "      <td>Agra</td>\n",
       "      <td>Main Market, Sadar Bazaar, Agra Cantt, Agra</td>\n",
       "      <td>Agra Cantt</td>\n",
       "      <td>Agra Cantt, Agra</td>\n",
       "      <td>North Indian</td>\n",
       "      <td>500</td>\n",
       "      <td>Indian Rupees(Rs.)</td>\n",
       "      <td>No</td>\n",
       "      <td>No</td>\n",
       "      <td>No</td>\n",
       "      <td>No</td>\n",
       "      <td>2</td>\n",
       "      <td>3.6</td>\n",
       "      <td>Yellow</td>\n",
       "      <td>Good</td>\n",
       "      <td>94</td>\n",
       "      <td>India</td>\n",
       "      <td>500.0</td>\n",
       "    </tr>\n",
       "    <tr>\n",
       "      <th>3</th>\n",
       "      <td>Agra</td>\n",
       "      <td>1/48, Delhi Gate, Station Road, Raja Mandi, Ci...</td>\n",
       "      <td>Civil Lines</td>\n",
       "      <td>Civil Lines, Agra</td>\n",
       "      <td>Rajasthani</td>\n",
       "      <td>400</td>\n",
       "      <td>Indian Rupees(Rs.)</td>\n",
       "      <td>No</td>\n",
       "      <td>No</td>\n",
       "      <td>No</td>\n",
       "      <td>No</td>\n",
       "      <td>2</td>\n",
       "      <td>4.0</td>\n",
       "      <td>Green</td>\n",
       "      <td>Very Good</td>\n",
       "      <td>87</td>\n",
       "      <td>India</td>\n",
       "      <td>400.0</td>\n",
       "    </tr>\n",
       "    <tr>\n",
       "      <th>4</th>\n",
       "      <td>Agra</td>\n",
       "      <td>23/453, Opposite Sanjay Cinema, Wazipura Road,...</td>\n",
       "      <td>Civil Lines</td>\n",
       "      <td>Civil Lines, Agra</td>\n",
       "      <td>North Indian, Chinese, Mughlai</td>\n",
       "      <td>1000</td>\n",
       "      <td>Indian Rupees(Rs.)</td>\n",
       "      <td>No</td>\n",
       "      <td>No</td>\n",
       "      <td>No</td>\n",
       "      <td>No</td>\n",
       "      <td>3</td>\n",
       "      <td>4.2</td>\n",
       "      <td>Green</td>\n",
       "      <td>Very Good</td>\n",
       "      <td>177</td>\n",
       "      <td>India</td>\n",
       "      <td>1000.0</td>\n",
       "    </tr>\n",
       "  </tbody>\n",
       "</table>\n",
       "</div>"
      ],
      "text/plain": [
       "   City                                            Address     Locality  \\\n",
       "0  Agra  E 23, Shopping Arcade, Sadar Bazaar, Agra Cant...   Agra Cantt   \n",
       "1  Agra  E-20, Shopping Arcade, Sadar Bazaar, Agra Cant...   Agra Cantt   \n",
       "2  Agra        Main Market, Sadar Bazaar, Agra Cantt, Agra   Agra Cantt   \n",
       "3  Agra  1/48, Delhi Gate, Station Road, Raja Mandi, Ci...  Civil Lines   \n",
       "4  Agra  23/453, Opposite Sanjay Cinema, Wazipura Road,...  Civil Lines   \n",
       "\n",
       "    Locality Verbose                        Cuisines  Average Cost for two  \\\n",
       "0   Agra Cantt, Agra           North Indian, Mughlai                   850   \n",
       "1   Agra Cantt, Agra           North Indian, Mughlai                   700   \n",
       "2   Agra Cantt, Agra                    North Indian                   500   \n",
       "3  Civil Lines, Agra                      Rajasthani                   400   \n",
       "4  Civil Lines, Agra  North Indian, Chinese, Mughlai                  1000   \n",
       "\n",
       "             Currency Has Table booking Has Online delivery Is delivering now  \\\n",
       "0  Indian Rupees(Rs.)                No                  No                No   \n",
       "1  Indian Rupees(Rs.)                No                  No                No   \n",
       "2  Indian Rupees(Rs.)                No                  No                No   \n",
       "3  Indian Rupees(Rs.)                No                  No                No   \n",
       "4  Indian Rupees(Rs.)                No                  No                No   \n",
       "\n",
       "  Switch to order menu  Price range  Aggregate rating Rating color  \\\n",
       "0                   No            3               3.9       Yellow   \n",
       "1                   No            2               3.5       Yellow   \n",
       "2                   No            2               3.6       Yellow   \n",
       "3                   No            2               4.0        Green   \n",
       "4                   No            3               4.2        Green   \n",
       "\n",
       "  Rating text  Votes Country  Average Cost for two in INR  \n",
       "0        Good    140   India                        850.0  \n",
       "1        Good     71   India                        700.0  \n",
       "2        Good     94   India                        500.0  \n",
       "3   Very Good     87   India                        400.0  \n",
       "4   Very Good    177   India                       1000.0  "
      ]
     },
     "execution_count": 417,
     "metadata": {},
     "output_type": "execute_result"
    }
   ],
   "source": [
    "# Assuming your data frame is named 'df'\n",
    "df['Average Cost for two in INR'] = df.apply(\n",
    "    lambda row: row['Average Cost for two'] * exchange_rates.get(row['Currency'], 1.0),\n",
    "    axis=1\n",
    ")\n",
    "df.head()"
   ]
  },
  {
   "cell_type": "markdown",
   "id": "741b713a-f282-4071-b364-1f7e266c0cd1",
   "metadata": {},
   "source": [
    "#### Now we can drop the average cost of two and currency, address and locality verbose columns"
   ]
  },
  {
   "cell_type": "code",
   "execution_count": 418,
   "id": "e7f70725-bb76-4fb0-9fa4-3e7e07d3999a",
   "metadata": {},
   "outputs": [],
   "source": [
    "df.drop(columns=[\"Average Cost for two\",\"Currency\",\"Address\",\"Locality Verbose\"],axis=1,inplace=True)"
   ]
  },
  {
   "cell_type": "code",
   "execution_count": 419,
   "id": "6f6eab32-0148-4eb6-8eb2-c3b35e4b8ed9",
   "metadata": {},
   "outputs": [
    {
     "data": {
      "text/html": [
       "<div>\n",
       "<style scoped>\n",
       "    .dataframe tbody tr th:only-of-type {\n",
       "        vertical-align: middle;\n",
       "    }\n",
       "\n",
       "    .dataframe tbody tr th {\n",
       "        vertical-align: top;\n",
       "    }\n",
       "\n",
       "    .dataframe thead th {\n",
       "        text-align: right;\n",
       "    }\n",
       "</style>\n",
       "<table border=\"1\" class=\"dataframe\">\n",
       "  <thead>\n",
       "    <tr style=\"text-align: right;\">\n",
       "      <th></th>\n",
       "      <th>City</th>\n",
       "      <th>Locality</th>\n",
       "      <th>Cuisines</th>\n",
       "      <th>Has Table booking</th>\n",
       "      <th>Has Online delivery</th>\n",
       "      <th>Is delivering now</th>\n",
       "      <th>Switch to order menu</th>\n",
       "      <th>Price range</th>\n",
       "      <th>Aggregate rating</th>\n",
       "      <th>Rating color</th>\n",
       "      <th>Rating text</th>\n",
       "      <th>Votes</th>\n",
       "      <th>Country</th>\n",
       "      <th>Average Cost for two in INR</th>\n",
       "    </tr>\n",
       "  </thead>\n",
       "  <tbody>\n",
       "    <tr>\n",
       "      <th>0</th>\n",
       "      <td>Agra</td>\n",
       "      <td>Agra Cantt</td>\n",
       "      <td>North Indian, Mughlai</td>\n",
       "      <td>No</td>\n",
       "      <td>No</td>\n",
       "      <td>No</td>\n",
       "      <td>No</td>\n",
       "      <td>3</td>\n",
       "      <td>3.9</td>\n",
       "      <td>Yellow</td>\n",
       "      <td>Good</td>\n",
       "      <td>140</td>\n",
       "      <td>India</td>\n",
       "      <td>850.0</td>\n",
       "    </tr>\n",
       "    <tr>\n",
       "      <th>1</th>\n",
       "      <td>Agra</td>\n",
       "      <td>Agra Cantt</td>\n",
       "      <td>North Indian, Mughlai</td>\n",
       "      <td>No</td>\n",
       "      <td>No</td>\n",
       "      <td>No</td>\n",
       "      <td>No</td>\n",
       "      <td>2</td>\n",
       "      <td>3.5</td>\n",
       "      <td>Yellow</td>\n",
       "      <td>Good</td>\n",
       "      <td>71</td>\n",
       "      <td>India</td>\n",
       "      <td>700.0</td>\n",
       "    </tr>\n",
       "    <tr>\n",
       "      <th>2</th>\n",
       "      <td>Agra</td>\n",
       "      <td>Agra Cantt</td>\n",
       "      <td>North Indian</td>\n",
       "      <td>No</td>\n",
       "      <td>No</td>\n",
       "      <td>No</td>\n",
       "      <td>No</td>\n",
       "      <td>2</td>\n",
       "      <td>3.6</td>\n",
       "      <td>Yellow</td>\n",
       "      <td>Good</td>\n",
       "      <td>94</td>\n",
       "      <td>India</td>\n",
       "      <td>500.0</td>\n",
       "    </tr>\n",
       "    <tr>\n",
       "      <th>3</th>\n",
       "      <td>Agra</td>\n",
       "      <td>Civil Lines</td>\n",
       "      <td>Rajasthani</td>\n",
       "      <td>No</td>\n",
       "      <td>No</td>\n",
       "      <td>No</td>\n",
       "      <td>No</td>\n",
       "      <td>2</td>\n",
       "      <td>4.0</td>\n",
       "      <td>Green</td>\n",
       "      <td>Very Good</td>\n",
       "      <td>87</td>\n",
       "      <td>India</td>\n",
       "      <td>400.0</td>\n",
       "    </tr>\n",
       "    <tr>\n",
       "      <th>4</th>\n",
       "      <td>Agra</td>\n",
       "      <td>Civil Lines</td>\n",
       "      <td>North Indian, Chinese, Mughlai</td>\n",
       "      <td>No</td>\n",
       "      <td>No</td>\n",
       "      <td>No</td>\n",
       "      <td>No</td>\n",
       "      <td>3</td>\n",
       "      <td>4.2</td>\n",
       "      <td>Green</td>\n",
       "      <td>Very Good</td>\n",
       "      <td>177</td>\n",
       "      <td>India</td>\n",
       "      <td>1000.0</td>\n",
       "    </tr>\n",
       "  </tbody>\n",
       "</table>\n",
       "</div>"
      ],
      "text/plain": [
       "   City     Locality                        Cuisines Has Table booking  \\\n",
       "0  Agra   Agra Cantt           North Indian, Mughlai                No   \n",
       "1  Agra   Agra Cantt           North Indian, Mughlai                No   \n",
       "2  Agra   Agra Cantt                    North Indian                No   \n",
       "3  Agra  Civil Lines                      Rajasthani                No   \n",
       "4  Agra  Civil Lines  North Indian, Chinese, Mughlai                No   \n",
       "\n",
       "  Has Online delivery Is delivering now Switch to order menu  Price range  \\\n",
       "0                  No                No                   No            3   \n",
       "1                  No                No                   No            2   \n",
       "2                  No                No                   No            2   \n",
       "3                  No                No                   No            2   \n",
       "4                  No                No                   No            3   \n",
       "\n",
       "   Aggregate rating Rating color Rating text  Votes Country  \\\n",
       "0               3.9       Yellow        Good    140   India   \n",
       "1               3.5       Yellow        Good     71   India   \n",
       "2               3.6       Yellow        Good     94   India   \n",
       "3               4.0        Green   Very Good     87   India   \n",
       "4               4.2        Green   Very Good    177   India   \n",
       "\n",
       "   Average Cost for two in INR  \n",
       "0                        850.0  \n",
       "1                        700.0  \n",
       "2                        500.0  \n",
       "3                        400.0  \n",
       "4                       1000.0  "
      ]
     },
     "execution_count": 419,
     "metadata": {},
     "output_type": "execute_result"
    }
   ],
   "source": [
    "df.head()"
   ]
  },
  {
   "cell_type": "code",
   "execution_count": 420,
   "id": "24f6e402-1087-4afd-8c6a-1d1d68d6a866",
   "metadata": {},
   "outputs": [],
   "source": [
    "### Lets check each column to check weather there is more work for data cleaning"
   ]
  },
  {
   "cell_type": "code",
   "execution_count": 421,
   "id": "0facdf8f-b6fd-4802-8f42-1379a3d2a6ab",
   "metadata": {},
   "outputs": [
    {
     "data": {
      "text/plain": [
       "array(['Agra', 'Ahmedabad', 'Allahabad', 'Amritsar', 'Aurangabad',\n",
       "       'Bangalore', 'Bhopal', 'Bhubaneshwar', 'Chandigarh', 'Chennai',\n",
       "       'Coimbatore', 'Dehradun', 'Faridabad', 'Ghaziabad', 'Goa',\n",
       "       'Gurgaon', 'Guwahati', 'Hyderabad', 'Indore', 'Jaipur', 'Kanpur',\n",
       "       'Kochi', 'Kolkata', 'Lucknow', 'Ludhiana', 'Mangalore', 'Mohali',\n",
       "       'Mumbai', 'Mysore', 'Nagpur', 'Nashik', 'New Delhi', 'Noida',\n",
       "       'Panchkula', 'Patna', 'Puducherry', 'Pune', 'Ranchi',\n",
       "       'Secunderabad', 'Surat', 'Vadodara', 'Varanasi', 'Vizag',\n",
       "       'Armidale', 'Balingup', 'Beechworth', 'Dicky Beach',\n",
       "       'East Ballina', 'Flaxton', 'Forrest', 'Hepburn Springs',\n",
       "       'Huskisson', 'Inverloch', 'Lakes Entrance', 'Lorn', 'Macedon',\n",
       "       'Mayfield', 'Middleton Beach', 'Montville', 'Palm Cove',\n",
       "       'Paynesville', 'Penola', 'Phillip Island', 'Tanunda',\n",
       "       'Trentham East', 'Victor Harbor', 'Brasí_lia', 'Rio de Janeiro',\n",
       "       'Sí£o Paulo', 'Chatham-Kent', 'Consort', 'Vineland Station',\n",
       "       'Yorkton', 'Bandung', 'Bogor', 'Jakarta', 'Tangerang', 'Auckland',\n",
       "       'Wellington City', 'Makati City', 'Mandaluyong City', 'Pasay City',\n",
       "       'Pasig City', 'Quezon City', 'San Juan City', 'Santa Rosa',\n",
       "       'Tagaytay City', 'Taguig City', 'Doha', 'Singapore', 'Cape Town',\n",
       "       'Inner City', 'Johannesburg', 'Pretoria', 'Randburg', 'Sandton',\n",
       "       'Colombo', 'Ankara', 'ÛÁstanbul', 'Abu Dhabi', 'Dubai', 'Sharjah',\n",
       "       'Birmingham', 'Edinburgh', 'London', 'Manchester', 'Albany',\n",
       "       'Athens', 'Augusta', 'Boise', 'Cedar Rapids/Iowa City',\n",
       "       'Clatskanie', 'Cochrane', 'Columbus', 'Dalton', 'Davenport',\n",
       "       'Des Moines', 'Dubuque', 'Fernley', 'Gainesville', 'Lakeview',\n",
       "       'Lincoln', 'Macon', 'Mc Millan', 'Miller', 'Monroe',\n",
       "       'Ojo Caliente', 'Orlando', 'Pensacola', 'Pocatello', 'Potrero',\n",
       "       'Princeton', 'Rest of Hawaii', 'Savannah', 'Sioux City',\n",
       "       'Tampa Bay', 'Valdosta', 'Vernonia', 'Waterloo', 'Weirton',\n",
       "       'Winchester Bay'], dtype=object)"
      ]
     },
     "execution_count": 421,
     "metadata": {},
     "output_type": "execute_result"
    }
   ],
   "source": [
    "df[\"City\"].unique()"
   ]
  },
  {
   "cell_type": "code",
   "execution_count": 422,
   "id": "462140de",
   "metadata": {},
   "outputs": [
    {
     "data": {
      "text/plain": [
       "City\n",
       "New Delhi           5473\n",
       "Gurgaon             1118\n",
       "Noida               1080\n",
       "Faridabad            251\n",
       "Ghaziabad             25\n",
       "                    ... \n",
       "Vineland Station       1\n",
       "Yorkton                1\n",
       "Bandung                1\n",
       "Quezon City            1\n",
       "Winchester Bay         1\n",
       "Name: count, Length: 141, dtype: int64"
      ]
     },
     "execution_count": 422,
     "metadata": {},
     "output_type": "execute_result"
    }
   ],
   "source": [
    "df[\"City\"].value_counts()"
   ]
  },
  {
   "cell_type": "code",
   "execution_count": 423,
   "id": "ea2d184d-8582-452e-bfb3-5cf1cc3a51d3",
   "metadata": {},
   "outputs": [
    {
     "data": {
      "text/plain": [
       "Has Table booking\n",
       "No     8393\n",
       "Yes    1158\n",
       "Name: count, dtype: int64"
      ]
     },
     "execution_count": 423,
     "metadata": {},
     "output_type": "execute_result"
    }
   ],
   "source": [
    "df[\"Has Table booking\"].value_counts()"
   ]
  },
  {
   "cell_type": "code",
   "execution_count": 424,
   "id": "0bf94adc",
   "metadata": {},
   "outputs": [
    {
     "data": {
      "text/plain": [
       "Is delivering now\n",
       "No     9517\n",
       "Yes      34\n",
       "Name: count, dtype: int64"
      ]
     },
     "execution_count": 424,
     "metadata": {},
     "output_type": "execute_result"
    }
   ],
   "source": [
    "df[\"Is delivering now\"].value_counts()"
   ]
  },
  {
   "cell_type": "code",
   "execution_count": 425,
   "id": "36420d6a",
   "metadata": {},
   "outputs": [
    {
     "data": {
      "text/plain": [
       "Switch to order menu\n",
       "No    9551\n",
       "Name: count, dtype: int64"
      ]
     },
     "execution_count": 425,
     "metadata": {},
     "output_type": "execute_result"
    }
   ],
   "source": [
    "df[\"Switch to order menu\"].value_counts()"
   ]
  },
  {
   "cell_type": "code",
   "execution_count": 426,
   "id": "01090471-6f6e-4258-b5ab-a6e013c43147",
   "metadata": {},
   "outputs": [],
   "source": [
    "# deleting (Switch to order menu) column as whole data contains single value\n",
    "df.drop(\"Switch to order menu\",axis=1,inplace=True)"
   ]
  },
  {
   "cell_type": "code",
   "execution_count": 427,
   "id": "32d310d7-829e-439e-9e68-1e75f9651f56",
   "metadata": {},
   "outputs": [
    {
     "data": {
      "text/plain": [
       "Price range\n",
       "1    4444\n",
       "2    3113\n",
       "3    1408\n",
       "4     586\n",
       "Name: count, dtype: int64"
      ]
     },
     "execution_count": 427,
     "metadata": {},
     "output_type": "execute_result"
    }
   ],
   "source": [
    "df[\"Price range\"].value_counts()"
   ]
  },
  {
   "cell_type": "code",
   "execution_count": 428,
   "id": "de22a5c2",
   "metadata": {},
   "outputs": [
    {
     "data": {
      "text/plain": [
       "Aggregate rating\n",
       "0.0    2148\n",
       "3.2     522\n",
       "3.1     519\n",
       "3.4     498\n",
       "3.3     483\n",
       "3.5     480\n",
       "3.0     468\n",
       "3.6     458\n",
       "3.7     427\n",
       "3.8     400\n",
       "2.9     381\n",
       "3.9     335\n",
       "2.8     315\n",
       "4.1     274\n",
       "4.0     266\n",
       "2.7     250\n",
       "4.2     221\n",
       "2.6     191\n",
       "4.3     174\n",
       "4.4     144\n",
       "2.5     110\n",
       "4.5      95\n",
       "2.4      87\n",
       "4.6      78\n",
       "4.9      61\n",
       "2.3      47\n",
       "4.7      42\n",
       "2.2      27\n",
       "4.8      25\n",
       "2.1      15\n",
       "2.0       7\n",
       "1.9       2\n",
       "1.8       1\n",
       "Name: count, dtype: int64"
      ]
     },
     "execution_count": 428,
     "metadata": {},
     "output_type": "execute_result"
    }
   ],
   "source": [
    "df[\"Aggregate rating\"].value_counts()"
   ]
  },
  {
   "cell_type": "code",
   "execution_count": 429,
   "id": "60ee5b1a",
   "metadata": {},
   "outputs": [
    {
     "data": {
      "text/plain": [
       "Rating color\n",
       "Orange        3737\n",
       "White         2148\n",
       "Yellow        2100\n",
       "Green         1079\n",
       "Dark Green     301\n",
       "Red            186\n",
       "Name: count, dtype: int64"
      ]
     },
     "execution_count": 429,
     "metadata": {},
     "output_type": "execute_result"
    }
   ],
   "source": [
    "df[\"Rating color\"].value_counts()"
   ]
  },
  {
   "cell_type": "code",
   "execution_count": 430,
   "id": "f358c600",
   "metadata": {},
   "outputs": [
    {
     "data": {
      "text/plain": [
       "Rating text\n",
       "Average      3737\n",
       "Not rated    2148\n",
       "Good         2100\n",
       "Very Good    1079\n",
       "Excellent     301\n",
       "Poor          186\n",
       "Name: count, dtype: int64"
      ]
     },
     "execution_count": 430,
     "metadata": {},
     "output_type": "execute_result"
    }
   ],
   "source": [
    "df[\"Rating text\"].value_counts()"
   ]
  },
  {
   "cell_type": "code",
   "execution_count": 431,
   "id": "25330597-3a25-4d27-95fd-fb7c648c41b5",
   "metadata": {},
   "outputs": [],
   "source": [
    "# as both the columns Rating text and Rating color shows the dame data so we can delete one of them so lets delete Rating color\n",
    "df.drop(\"Rating color\",axis=1,inplace=True)"
   ]
  },
  {
   "cell_type": "code",
   "execution_count": 432,
   "id": "b8ee3050-dc4d-473f-ad39-fc56b48816a9",
   "metadata": {
    "scrolled": true
   },
   "outputs": [
    {
     "data": {
      "text/plain": [
       "Votes\n",
       "0       1094\n",
       "1        483\n",
       "2        327\n",
       "3        244\n",
       "4        207\n",
       "        ... \n",
       "1801       1\n",
       "1333       1\n",
       "1863       1\n",
       "1134       1\n",
       "575        1\n",
       "Name: count, Length: 1012, dtype: int64"
      ]
     },
     "execution_count": 432,
     "metadata": {},
     "output_type": "execute_result"
    }
   ],
   "source": [
    "df[\"Votes\"].value_counts()"
   ]
  },
  {
   "cell_type": "code",
   "execution_count": 433,
   "id": "5efcf2a3-5431-4f27-94ec-d8d5d83078ba",
   "metadata": {},
   "outputs": [],
   "source": [
    "# Deleting vote columns also as it dont seem to contribute to out target variable \n",
    "df.drop(\"Votes\",axis=1,inplace=True)"
   ]
  },
  {
   "cell_type": "code",
   "execution_count": 434,
   "id": "b21b3586-62f3-440d-a58b-df7b4273c10a",
   "metadata": {},
   "outputs": [
    {
     "data": {
      "text/plain": [
       "array([3.9, 3.5, 3.6, 4. , 4.2, 4.3, 3.8, 4.1, 3.4, 4.9, 3.7, 4.4, 4.5,\n",
       "       4.6, 3.3, 3.2, 3.1, 4.7, 4.8, 2.9, 2.8, 3. , 0. , 2.1, 2.7, 2.4,\n",
       "       2.6, 2.5, 1.8, 2.2, 2. , 2.3, 1.9])"
      ]
     },
     "execution_count": 434,
     "metadata": {},
     "output_type": "execute_result"
    }
   ],
   "source": [
    "df[\"Aggregate rating\"].unique()"
   ]
  },
  {
   "cell_type": "code",
   "execution_count": 435,
   "id": "2daba741-fc3d-46f5-b3ad-3bfe37d34e11",
   "metadata": {},
   "outputs": [
    {
     "data": {
      "text/plain": [
       "Country\n",
       "India             8652\n",
       "United States      434\n",
       "United Kingdom      80\n",
       "Brazil              60\n",
       "South Africa        60\n",
       "UAE                 60\n",
       "New Zealand         40\n",
       "Turkey              34\n",
       "Australia           24\n",
       "Phillipines         22\n",
       "Indonesia           21\n",
       "Qatar               20\n",
       "Singapore           20\n",
       "Sri Lanka           20\n",
       "Canada               4\n",
       "Name: count, dtype: int64"
      ]
     },
     "execution_count": 435,
     "metadata": {},
     "output_type": "execute_result"
    }
   ],
   "source": [
    "df[\"Country\"].value_counts()"
   ]
  },
  {
   "cell_type": "markdown",
   "id": "599a6086-06ee-45b3-9960-748cc541b835",
   "metadata": {},
   "source": [
    "#### As zomato is a startup from india so most of the data  contains the greater portion in india"
   ]
  },
  {
   "cell_type": "code",
   "execution_count": 436,
   "id": "96d402ae-49ff-40ad-84a0-f6104c43f150",
   "metadata": {},
   "outputs": [
    {
     "data": {
      "text/html": [
       "<div>\n",
       "<style scoped>\n",
       "    .dataframe tbody tr th:only-of-type {\n",
       "        vertical-align: middle;\n",
       "    }\n",
       "\n",
       "    .dataframe tbody tr th {\n",
       "        vertical-align: top;\n",
       "    }\n",
       "\n",
       "    .dataframe thead th {\n",
       "        text-align: right;\n",
       "    }\n",
       "</style>\n",
       "<table border=\"1\" class=\"dataframe\">\n",
       "  <thead>\n",
       "    <tr style=\"text-align: right;\">\n",
       "      <th></th>\n",
       "      <th>City</th>\n",
       "      <th>Locality</th>\n",
       "      <th>Cuisines</th>\n",
       "      <th>Has Table booking</th>\n",
       "      <th>Has Online delivery</th>\n",
       "      <th>Is delivering now</th>\n",
       "      <th>Price range</th>\n",
       "      <th>Aggregate rating</th>\n",
       "      <th>Rating text</th>\n",
       "      <th>Country</th>\n",
       "      <th>Average Cost for two in INR</th>\n",
       "    </tr>\n",
       "  </thead>\n",
       "  <tbody>\n",
       "    <tr>\n",
       "      <th>0</th>\n",
       "      <td>Agra</td>\n",
       "      <td>Agra Cantt</td>\n",
       "      <td>North Indian, Mughlai</td>\n",
       "      <td>No</td>\n",
       "      <td>No</td>\n",
       "      <td>No</td>\n",
       "      <td>3</td>\n",
       "      <td>3.9</td>\n",
       "      <td>Good</td>\n",
       "      <td>India</td>\n",
       "      <td>850.0</td>\n",
       "    </tr>\n",
       "    <tr>\n",
       "      <th>1</th>\n",
       "      <td>Agra</td>\n",
       "      <td>Agra Cantt</td>\n",
       "      <td>North Indian, Mughlai</td>\n",
       "      <td>No</td>\n",
       "      <td>No</td>\n",
       "      <td>No</td>\n",
       "      <td>2</td>\n",
       "      <td>3.5</td>\n",
       "      <td>Good</td>\n",
       "      <td>India</td>\n",
       "      <td>700.0</td>\n",
       "    </tr>\n",
       "    <tr>\n",
       "      <th>2</th>\n",
       "      <td>Agra</td>\n",
       "      <td>Agra Cantt</td>\n",
       "      <td>North Indian</td>\n",
       "      <td>No</td>\n",
       "      <td>No</td>\n",
       "      <td>No</td>\n",
       "      <td>2</td>\n",
       "      <td>3.6</td>\n",
       "      <td>Good</td>\n",
       "      <td>India</td>\n",
       "      <td>500.0</td>\n",
       "    </tr>\n",
       "    <tr>\n",
       "      <th>3</th>\n",
       "      <td>Agra</td>\n",
       "      <td>Civil Lines</td>\n",
       "      <td>Rajasthani</td>\n",
       "      <td>No</td>\n",
       "      <td>No</td>\n",
       "      <td>No</td>\n",
       "      <td>2</td>\n",
       "      <td>4.0</td>\n",
       "      <td>Very Good</td>\n",
       "      <td>India</td>\n",
       "      <td>400.0</td>\n",
       "    </tr>\n",
       "    <tr>\n",
       "      <th>4</th>\n",
       "      <td>Agra</td>\n",
       "      <td>Civil Lines</td>\n",
       "      <td>North Indian, Chinese, Mughlai</td>\n",
       "      <td>No</td>\n",
       "      <td>No</td>\n",
       "      <td>No</td>\n",
       "      <td>3</td>\n",
       "      <td>4.2</td>\n",
       "      <td>Very Good</td>\n",
       "      <td>India</td>\n",
       "      <td>1000.0</td>\n",
       "    </tr>\n",
       "  </tbody>\n",
       "</table>\n",
       "</div>"
      ],
      "text/plain": [
       "   City     Locality                        Cuisines Has Table booking  \\\n",
       "0  Agra   Agra Cantt           North Indian, Mughlai                No   \n",
       "1  Agra   Agra Cantt           North Indian, Mughlai                No   \n",
       "2  Agra   Agra Cantt                    North Indian                No   \n",
       "3  Agra  Civil Lines                      Rajasthani                No   \n",
       "4  Agra  Civil Lines  North Indian, Chinese, Mughlai                No   \n",
       "\n",
       "  Has Online delivery Is delivering now  Price range  Aggregate rating  \\\n",
       "0                  No                No            3               3.9   \n",
       "1                  No                No            2               3.5   \n",
       "2                  No                No            2               3.6   \n",
       "3                  No                No            2               4.0   \n",
       "4                  No                No            3               4.2   \n",
       "\n",
       "  Rating text Country  Average Cost for two in INR  \n",
       "0        Good   India                        850.0  \n",
       "1        Good   India                        700.0  \n",
       "2        Good   India                        500.0  \n",
       "3   Very Good   India                        400.0  \n",
       "4   Very Good   India                       1000.0  "
      ]
     },
     "execution_count": 436,
     "metadata": {},
     "output_type": "execute_result"
    }
   ],
   "source": [
    "# lets check the dataframe after all the data cleaning \n",
    "df.head()"
   ]
  },
  {
   "cell_type": "code",
   "execution_count": 437,
   "id": "f2a70d07-3ac2-4b0a-b20e-fa4c731a44f2",
   "metadata": {},
   "outputs": [
    {
     "data": {
      "text/plain": [
       "array([  850.  ,   700.  ,   500.  ,   400.  ,  1000.  ,  2000.  ,\n",
       "        2500.  ,   800.  ,  3600.  ,     0.  ,   550.  ,  1100.  ,\n",
       "        1500.  ,   900.  ,  1800.  ,   300.  ,  1400.  ,   350.  ,\n",
       "         450.  ,   600.  ,   950.  ,  1200.  ,   200.  ,   100.  ,\n",
       "         150.  ,   650.  ,  1300.  ,  2400.  ,   250.  ,  1600.  ,\n",
       "        2200.  ,   750.  ,  1700.  ,  1250.  ,  1900.  ,  2700.  ,\n",
       "        3500.  ,  5000.  ,  2300.  ,  1750.  ,  3200.  ,  3000.  ,\n",
       "        2100.  ,  1850.  ,  4500.  ,  4000.  ,  3300.  ,   120.  ,\n",
       "        1350.  ,  1650.  ,  1950.  ,  1050.  ,   290.  ,    50.  ,\n",
       "        1450.  ,  2800.  ,   260.  ,  3650.  ,  4800.  ,  1550.  ,\n",
       "         720.  ,  6500.  ,  7000.  ,  1150.  ,  2900.  ,  2600.  ,\n",
       "        4700.  ,  3700.  ,  3800.  ,  4100.  ,  4300.  ,  2650.  ,\n",
       "        6000.  ,  5100.  ,  5500.  ,  4400.  ,  4200.  ,  8000.  ,\n",
       "        2350.  ,  1662.6 ,   581.91,  2493.9 ,  9975.6 ,   880.  ,\n",
       "         480.  ,   960.  ,  1280.  ,  1440.  ,  3680.  ,  3840.  ,\n",
       "        5600.  ,  2240.  ,  2720.  ,  1920.  ,   640.  ,  1120.  ,\n",
       "        1360.  ,  6400.  ,  1040.  ,  2078.25,  5819.1 ,   775.5 ,\n",
       "         361.9 ,  1292.5 ,  1034.  ,   853.05,  4136.  ,  2585.  ,\n",
       "        1551.  ,  2326.5 ,   620.4 ,   517.  ,  1809.5 ,  2040.  ,\n",
       "        1020.  ,  2550.  ,  3315.  ,  4590.  ,  3060.  ,  1275.  ,\n",
       "        2295.  ,  1785.  ,  3570.  ,  2805.  ,  9690.  ,  6120.  ,\n",
       "        5355.  , 10200.  ,  4080.  ,  5610.  ,  6732.  ,  7344.  ,\n",
       "       24480.  ,  9180.  , 12240.  , 36720.  ,  4896.  ,  5508.  ,\n",
       "        4284.  ,  5202.  ,  3672.  , 18360.  , 11016.  ,  3424.5 ,\n",
       "        1826.4 ,  6849.  ,  1369.8 ,  3881.1 ,  2283.  ,  5022.6 ,\n",
       "        5707.5 ,  2511.3 ,  1141.5 , 11415.  ,  4566.  , 12556.5 ,\n",
       "       10159.35,  9132.  ,  3652.8 , 24939.  , 22445.1 , 41565.  ,\n",
       "        6650.4 , 35745.9 , 26185.95,  8313.  ,  4156.5 ,  3325.2 ,\n",
       "       18288.6 ,  4987.8 ,  7897.35,  6234.75,  1328.88,  1356.  ,\n",
       "        1627.2 ,   813.6 ,   678.  ,  1130.  ,   904.  ,  1582.  ,\n",
       "        2260.  ,   497.2 ,  2418.2 ,  1039.6 ,   565.  ,  2034.  ,\n",
       "        1446.4 ,  1220.4 ,  2576.4 ,  6960.8 ,  3164.  ,  2327.8 ,\n",
       "        4316.6 ,  1762.8 ,  2712.  ,  1808.  ,  1853.2 ,  1288.2 ,\n",
       "       14509.2 ,  2463.4 ,  1491.6 ,   540.  ,   486.  ,   675.  ,\n",
       "         405.  ,  1080.  ,   351.  ,   945.  ,   648.  ,   270.  ,\n",
       "         810.  ,  1215.  ,   180.6 ,   258.  ,    90.3 ,   129.  ,\n",
       "         154.8 ,   206.4 ,   387.  ,  1032.  ,   103.2 ,    77.4 ,\n",
       "         335.4 ,   193.5 ,   232.2 ,   270.9 ,   438.6 ,   309.6 ,\n",
       "         141.9 ,  4299.7 ,  5883.8 ,  3394.5 ,  1584.1 ,  2263.  ,\n",
       "        4073.4 ,  5204.9 ,  7920.5 ,  2715.6 ,  1357.8 ,  5657.5 ,\n",
       "        1131.5 ,  1810.4 ,  7467.9 , 11315.  ,  4526.  ,  6336.4 ,\n",
       "        2036.7 ,  3620.8 ,  6789.  ,  3168.2 ,  6449.55,  6110.1 ,\n",
       "        3847.1 ,  2941.9 ,  1923.55,  1470.95,  2489.3 ,   905.2 ,\n",
       "        1060.  ,  1590.  ,  6360.  ,  3180.  ,  3710.  ,  5300.  ,\n",
       "        4240.  ,  4770.  , 12720.  ,  2120.  ,  8480.  ,  9540.  ,\n",
       "       10600.  ,  5830.  , 24380.  ,  9010.  ,  7420.  , 16960.  ,\n",
       "         831.3 ,  2909.55,  3740.85])"
      ]
     },
     "execution_count": 437,
     "metadata": {},
     "output_type": "execute_result"
    }
   ],
   "source": [
    "df[\"Average Cost for two in INR\"].unique()"
   ]
  },
  {
   "cell_type": "code",
   "execution_count": 438,
   "id": "4e7ee7b2",
   "metadata": {},
   "outputs": [],
   "source": [
    "# lets round off the values to neariest multiple of 50\n",
    "df[\"Average Cost for two in INR\"]=(df['Average Cost for two in INR'] / 50).astype(int) * 50"
   ]
  },
  {
   "cell_type": "code",
   "execution_count": 439,
   "id": "bcd5dcfa-f33f-4616-a16c-cbcec3b44fd4",
   "metadata": {},
   "outputs": [
    {
     "data": {
      "text/plain": [
       "array([  850,   700,   500,   400,  1000,  2000,  2500,   800,  3600,\n",
       "           0,   550,  1100,  1500,   900,  1800,   300,  1400,   350,\n",
       "         450,   600,   950,  1200,   200,   100,   150,   650,  1300,\n",
       "        2400,   250,  1600,  2200,   750,  1700,  1250,  1900,  2700,\n",
       "        3500,  5000,  2300,  1750,  3200,  3000,  2100,  1850,  4500,\n",
       "        4000,  3300,  1350,  1650,  1950,  1050,    50,  1450,  2800,\n",
       "        3650,  4800,  1550,  6500,  7000,  1150,  2900,  2600,  4700,\n",
       "        3700,  3800,  4100,  4300,  2650,  6000,  5100,  5500,  4400,\n",
       "        4200,  8000,  2350,  2450,  9950,  5600,  6400,  2050,  5800,\n",
       "        2550,  4550,  3050,  2250,  3550,  9650,  6100,  5350, 10200,\n",
       "        4050,  6700,  7300, 24450,  9150, 12200, 36700,  4850,  4250,\n",
       "        5200, 18350, 11000,  3400,  6800,  3850,  5700, 11400, 12550,\n",
       "       10150,  9100, 24900, 22400, 41550,  6650, 35700, 26150,  8300,\n",
       "        4150, 18250,  4950,  7850,  6200,  6950,  3150, 14500,  5850,\n",
       "        3350,  7900,  5650,  7450, 11300,  6300,  6750,  6350,  5300,\n",
       "        4750, 12700,  8450,  9500, 10600, 24350,  9000,  7400, 16950])"
      ]
     },
     "execution_count": 439,
     "metadata": {},
     "output_type": "execute_result"
    }
   ],
   "source": [
    "df[\"Average Cost for two in INR\"].unique()"
   ]
  },
  {
   "cell_type": "markdown",
   "id": "4d525d0d-f122-450a-8b9b-d28e8318f051",
   "metadata": {},
   "source": [
    "####  NOW lets clean the Cuisines columns"
   ]
  },
  {
   "cell_type": "code",
   "execution_count": 440,
   "id": "dbec5709-a58f-4111-bd86-3a6e3643c3c0",
   "metadata": {},
   "outputs": [
    {
     "data": {
      "text/plain": [
       "Cuisines\n",
       "North Indian                                 936\n",
       "North Indian, Chinese                        511\n",
       "Fast Food                                    354\n",
       "Chinese                                      354\n",
       "North Indian, Mughlai                        334\n",
       "                                            ... \n",
       "Cafe, Mexican, Continental                     1\n",
       "North Indian, Continental, Asian, Italian      1\n",
       "Continental, Cafe                              1\n",
       "North Indian, Biryani, Mughlai                 1\n",
       "Burger, Greek, Sandwich                        1\n",
       "Name: count, Length: 1825, dtype: int64"
      ]
     },
     "execution_count": 440,
     "metadata": {},
     "output_type": "execute_result"
    }
   ],
   "source": [
    "### NOW lets clean the Cuisines columns\n",
    "df[\"Cuisines\"].value_counts()"
   ]
  },
  {
   "cell_type": "code",
   "execution_count": null,
   "id": "554ac2b6-b9f2-4208-93fb-34251039b878",
   "metadata": {},
   "outputs": [],
   "source": []
  },
  {
   "cell_type": "code",
   "execution_count": 441,
   "id": "665b1328-a076-4409-b33d-b7da1c87640a",
   "metadata": {},
   "outputs": [
    {
     "data": {
      "text/html": [
       "<div>\n",
       "<style scoped>\n",
       "    .dataframe tbody tr th:only-of-type {\n",
       "        vertical-align: middle;\n",
       "    }\n",
       "\n",
       "    .dataframe tbody tr th {\n",
       "        vertical-align: top;\n",
       "    }\n",
       "\n",
       "    .dataframe thead th {\n",
       "        text-align: right;\n",
       "    }\n",
       "</style>\n",
       "<table border=\"1\" class=\"dataframe\">\n",
       "  <thead>\n",
       "    <tr style=\"text-align: right;\">\n",
       "      <th></th>\n",
       "      <th>City</th>\n",
       "      <th>Locality</th>\n",
       "      <th>Cuisines</th>\n",
       "      <th>Has Table booking</th>\n",
       "      <th>Has Online delivery</th>\n",
       "      <th>Is delivering now</th>\n",
       "      <th>Price range</th>\n",
       "      <th>Aggregate rating</th>\n",
       "      <th>Rating text</th>\n",
       "      <th>Country</th>\n",
       "      <th>Average Cost for two in INR</th>\n",
       "    </tr>\n",
       "  </thead>\n",
       "  <tbody>\n",
       "    <tr>\n",
       "      <th>0</th>\n",
       "      <td>Agra</td>\n",
       "      <td>Agra Cantt</td>\n",
       "      <td>North Indian, Mughlai</td>\n",
       "      <td>No</td>\n",
       "      <td>No</td>\n",
       "      <td>No</td>\n",
       "      <td>3</td>\n",
       "      <td>3.9</td>\n",
       "      <td>Good</td>\n",
       "      <td>India</td>\n",
       "      <td>850</td>\n",
       "    </tr>\n",
       "    <tr>\n",
       "      <th>1</th>\n",
       "      <td>Agra</td>\n",
       "      <td>Agra Cantt</td>\n",
       "      <td>North Indian, Mughlai</td>\n",
       "      <td>No</td>\n",
       "      <td>No</td>\n",
       "      <td>No</td>\n",
       "      <td>2</td>\n",
       "      <td>3.5</td>\n",
       "      <td>Good</td>\n",
       "      <td>India</td>\n",
       "      <td>700</td>\n",
       "    </tr>\n",
       "    <tr>\n",
       "      <th>2</th>\n",
       "      <td>Agra</td>\n",
       "      <td>Agra Cantt</td>\n",
       "      <td>North Indian</td>\n",
       "      <td>No</td>\n",
       "      <td>No</td>\n",
       "      <td>No</td>\n",
       "      <td>2</td>\n",
       "      <td>3.6</td>\n",
       "      <td>Good</td>\n",
       "      <td>India</td>\n",
       "      <td>500</td>\n",
       "    </tr>\n",
       "    <tr>\n",
       "      <th>3</th>\n",
       "      <td>Agra</td>\n",
       "      <td>Civil Lines</td>\n",
       "      <td>Rajasthani</td>\n",
       "      <td>No</td>\n",
       "      <td>No</td>\n",
       "      <td>No</td>\n",
       "      <td>2</td>\n",
       "      <td>4.0</td>\n",
       "      <td>Very Good</td>\n",
       "      <td>India</td>\n",
       "      <td>400</td>\n",
       "    </tr>\n",
       "    <tr>\n",
       "      <th>4</th>\n",
       "      <td>Agra</td>\n",
       "      <td>Civil Lines</td>\n",
       "      <td>North Indian, Chinese, Mughlai</td>\n",
       "      <td>No</td>\n",
       "      <td>No</td>\n",
       "      <td>No</td>\n",
       "      <td>3</td>\n",
       "      <td>4.2</td>\n",
       "      <td>Very Good</td>\n",
       "      <td>India</td>\n",
       "      <td>1000</td>\n",
       "    </tr>\n",
       "  </tbody>\n",
       "</table>\n",
       "</div>"
      ],
      "text/plain": [
       "   City     Locality                        Cuisines Has Table booking  \\\n",
       "0  Agra   Agra Cantt           North Indian, Mughlai                No   \n",
       "1  Agra   Agra Cantt           North Indian, Mughlai                No   \n",
       "2  Agra   Agra Cantt                    North Indian                No   \n",
       "3  Agra  Civil Lines                      Rajasthani                No   \n",
       "4  Agra  Civil Lines  North Indian, Chinese, Mughlai                No   \n",
       "\n",
       "  Has Online delivery Is delivering now  Price range  Aggregate rating  \\\n",
       "0                  No                No            3               3.9   \n",
       "1                  No                No            2               3.5   \n",
       "2                  No                No            2               3.6   \n",
       "3                  No                No            2               4.0   \n",
       "4                  No                No            3               4.2   \n",
       "\n",
       "  Rating text Country  Average Cost for two in INR  \n",
       "0        Good   India                          850  \n",
       "1        Good   India                          700  \n",
       "2        Good   India                          500  \n",
       "3   Very Good   India                          400  \n",
       "4   Very Good   India                         1000  "
      ]
     },
     "execution_count": 441,
     "metadata": {},
     "output_type": "execute_result"
    }
   ],
   "source": [
    "df.head()"
   ]
  },
  {
   "cell_type": "markdown",
   "id": "da75b452-8a14-4ad2-95eb-3d59b0eee1df",
   "metadata": {},
   "source": [
    "#### Now the data is clean so Lets visualise the data"
   ]
  },
  {
   "cell_type": "code",
   "execution_count": 442,
   "id": "cb72f868-1fe4-4b43-a1f7-f546319f287c",
   "metadata": {},
   "outputs": [
    {
     "data": {
      "text/html": [
       "<div>\n",
       "<style scoped>\n",
       "    .dataframe tbody tr th:only-of-type {\n",
       "        vertical-align: middle;\n",
       "    }\n",
       "\n",
       "    .dataframe tbody tr th {\n",
       "        vertical-align: top;\n",
       "    }\n",
       "\n",
       "    .dataframe thead th {\n",
       "        text-align: right;\n",
       "    }\n",
       "</style>\n",
       "<table border=\"1\" class=\"dataframe\">\n",
       "  <thead>\n",
       "    <tr style=\"text-align: right;\">\n",
       "      <th></th>\n",
       "      <th>Price range</th>\n",
       "      <th>Aggregate rating</th>\n",
       "      <th>Average Cost for two in INR</th>\n",
       "    </tr>\n",
       "  </thead>\n",
       "  <tbody>\n",
       "    <tr>\n",
       "      <th>count</th>\n",
       "      <td>9551.000000</td>\n",
       "      <td>9551.000000</td>\n",
       "      <td>9551.000000</td>\n",
       "    </tr>\n",
       "    <tr>\n",
       "      <th>mean</th>\n",
       "      <td>1.804837</td>\n",
       "      <td>2.666370</td>\n",
       "      <td>839.707884</td>\n",
       "    </tr>\n",
       "    <tr>\n",
       "      <th>std</th>\n",
       "      <td>0.905609</td>\n",
       "      <td>1.516378</td>\n",
       "      <td>1400.179618</td>\n",
       "    </tr>\n",
       "    <tr>\n",
       "      <th>min</th>\n",
       "      <td>1.000000</td>\n",
       "      <td>0.000000</td>\n",
       "      <td>0.000000</td>\n",
       "    </tr>\n",
       "    <tr>\n",
       "      <th>25%</th>\n",
       "      <td>1.000000</td>\n",
       "      <td>2.500000</td>\n",
       "      <td>300.000000</td>\n",
       "    </tr>\n",
       "    <tr>\n",
       "      <th>50%</th>\n",
       "      <td>2.000000</td>\n",
       "      <td>3.200000</td>\n",
       "      <td>500.000000</td>\n",
       "    </tr>\n",
       "    <tr>\n",
       "      <th>75%</th>\n",
       "      <td>2.000000</td>\n",
       "      <td>3.700000</td>\n",
       "      <td>800.000000</td>\n",
       "    </tr>\n",
       "    <tr>\n",
       "      <th>max</th>\n",
       "      <td>4.000000</td>\n",
       "      <td>4.900000</td>\n",
       "      <td>41550.000000</td>\n",
       "    </tr>\n",
       "  </tbody>\n",
       "</table>\n",
       "</div>"
      ],
      "text/plain": [
       "       Price range  Aggregate rating  Average Cost for two in INR\n",
       "count  9551.000000       9551.000000                  9551.000000\n",
       "mean      1.804837          2.666370                   839.707884\n",
       "std       0.905609          1.516378                  1400.179618\n",
       "min       1.000000          0.000000                     0.000000\n",
       "25%       1.000000          2.500000                   300.000000\n",
       "50%       2.000000          3.200000                   500.000000\n",
       "75%       2.000000          3.700000                   800.000000\n",
       "max       4.000000          4.900000                 41550.000000"
      ]
     },
     "execution_count": 442,
     "metadata": {},
     "output_type": "execute_result"
    }
   ],
   "source": [
    "df.describe()"
   ]
  },
  {
   "cell_type": "markdown",
   "id": "fd6b153d-f5fd-4b90-8a5d-789dda278336",
   "metadata": {},
   "source": [
    "# Data visualisation"
   ]
  },
  {
   "cell_type": "markdown",
   "id": "1f4e2679-56f2-4ac9-a898-c3130a226d2b",
   "metadata": {},
   "source": [
    "## Visualizing individual columns first"
   ]
  },
  {
   "cell_type": "code",
   "execution_count": 443,
   "id": "8caacafe-2347-47e9-9cc6-fc1b51cb5894",
   "metadata": {},
   "outputs": [
    {
     "data": {
      "image/png": "[encoded data removed]",
      "text/plain": [
       "<Figure size 1000x1000 with 1 Axes>"
      ]
     },
     "metadata": {},
     "output_type": "display_data"
    }
   ],
   "source": [
    "plt.figure(figsize=(10,10))\n",
    "filtered_df = df['City'].value_counts()\n",
    "filtered_df = filtered_df[filtered_df >= 25]\n",
    "sns.countplot(x=\"City\",data=df,order=filtered_df.index)\n",
    "plt.xlabel('City')\n",
    "plt.ylabel('Count')\n",
    "plt.title('Count of Cities (with at least 25 occurrences)')\n",
    "plt.xticks(rotation=90)\n",
    "plt.show()"
   ]
  },
  {
   "cell_type": "code",
   "execution_count": 444,
   "id": "be539d47-82bf-4142-9ab7-f856fae7653e",
   "metadata": {},
   "outputs": [
    {
     "data": {
      "text/plain": [
       "City\n",
       "New Delhi           5473\n",
       "Gurgaon             1118\n",
       "Noida               1080\n",
       "Faridabad            251\n",
       "Ghaziabad             25\n",
       "                    ... \n",
       "Vineland Station       1\n",
       "Yorkton                1\n",
       "Bandung                1\n",
       "Quezon City            1\n",
       "Winchester Bay         1\n",
       "Name: count, Length: 141, dtype: int64"
      ]
     },
     "execution_count": 444,
     "metadata": {},
     "output_type": "execute_result"
    }
   ],
   "source": [
    "df[\"City\"].value_counts(ascending=False)"
   ]
  },
  {
   "cell_type": "markdown",
   "id": "d3690d41-3fce-40d9-8af0-de3081b628cc",
   "metadata": {},
   "source": [
    "#### Observations and conclusions:\n",
    "- almost 57 % of the dataset contributes to the restaurant in New Delhi which is almost 5473 followed by Gurgaon (1118) followed by Noida and so on."
   ]
  },
  {
   "cell_type": "code",
   "execution_count": 445,
   "id": "3990dc9f-adad-4b82-83c7-026a95960a36",
   "metadata": {},
   "outputs": [
    {
     "data": {
      "image/png": "[encoded data removed]",
      "text/plain": [
       "<Figure size 800x500 with 1 Axes>"
      ]
     },
     "metadata": {},
     "output_type": "display_data"
    }
   ],
   "source": [
    "plt.figure(figsize=(8,5))\n",
    "sns.countplot(x='Has Online delivery',data=df,palette=\"inferno\")\n",
    "plt.xlabel('Has Online delivery')\n",
    "plt.ylabel('Count')\n",
    "plt.title('Count of restaurant having online delivery')\n",
    "plt.xticks(rotation=90)\n",
    "plt.show()"
   ]
  },
  {
   "cell_type": "code",
   "execution_count": 446,
   "id": "1fb45cf9-c495-4e74-b247-e027c9734e20",
   "metadata": {},
   "outputs": [
    {
     "data": {
      "text/plain": [
       "Has Online delivery\n",
       "No     7100\n",
       "Yes    2451\n",
       "Name: count, dtype: int64"
      ]
     },
     "execution_count": 446,
     "metadata": {},
     "output_type": "execute_result"
    }
   ],
   "source": [
    "df[\"Has Online delivery\"].value_counts()"
   ]
  },
  {
   "cell_type": "markdown",
   "id": "bb8bd855-dc70-4510-86dd-7532638969d1",
   "metadata": {},
   "source": [
    "#### Observation and conclusion:\n",
    "- 74% of restaurants dont have onlive delivery.\n",
    "- thus only small percent of all restaurant has the facility of online delivery"
   ]
  },
  {
   "cell_type": "code",
   "execution_count": 447,
   "id": "0af6832d-fb41-465f-bfee-4c47d20ef9ab",
   "metadata": {},
   "outputs": [
    {
     "data": {
      "image/png": "[encoded data removed]",
      "text/plain": [
       "<Figure size 800x500 with 1 Axes>"
      ]
     },
     "metadata": {},
     "output_type": "display_data"
    }
   ],
   "source": [
    "plt.figure(figsize=(8,5))\n",
    "sns.countplot(x='Has Table booking',data=df,palette=\"inferno\")\n",
    "plt.xlabel('Has Table Booking')\n",
    "plt.ylabel('Count')\n",
    "plt.title('Count of restaurant having Table Booking')\n",
    "plt.show()"
   ]
  },
  {
   "cell_type": "code",
   "execution_count": 448,
   "id": "43d05991-3ac1-4c95-a6e8-488e42265e3b",
   "metadata": {},
   "outputs": [
    {
     "data": {
      "text/plain": [
       "Has Table booking\n",
       "No     8393\n",
       "Yes    1158\n",
       "Name: count, dtype: int64"
      ]
     },
     "execution_count": 448,
     "metadata": {},
     "output_type": "execute_result"
    }
   ],
   "source": [
    "df[\"Has Table booking\"].value_counts()"
   ]
  },
  {
   "cell_type": "markdown",
   "id": "7d3fb6f2-3fac-4ee1-b196-1369dfded1db",
   "metadata": {},
   "source": [
    "#### Observation and conclusion:\n",
    "- almost 87 Percent of restaurants dont have table booking\n",
    "- only 1158 restaurant have the table booking system.\n",
    "- So if someone having a large family or arranging a party should preferably book the table for the convenience."
   ]
  },
  {
   "cell_type": "code",
   "execution_count": 449,
   "id": "198205c7-5651-4c9c-8dac-7d3151d60044",
   "metadata": {},
   "outputs": [
    {
     "data": {
      "image/png": "[encoded data removed]",
      "text/plain": [
       "<Figure size 800x500 with 1 Axes>"
      ]
     },
     "metadata": {},
     "output_type": "display_data"
    }
   ],
   "source": [
    "plt.figure(figsize=(8,5))\n",
    "sns.countplot(x='Price range',data=df,palette=\"inferno\")\n",
    "plt.xlabel('Price range')\n",
    "plt.ylabel('Count')\n",
    "plt.title('Count of Price range')\n",
    "plt.show()"
   ]
  },
  {
   "cell_type": "code",
   "execution_count": 450,
   "id": "2b890596-53ae-460d-be03-3be840999fbe",
   "metadata": {},
   "outputs": [
    {
     "data": {
      "text/plain": [
       "Price range\n",
       "1    4444\n",
       "2    3113\n",
       "3    1408\n",
       "4     586\n",
       "Name: count, dtype: int64"
      ]
     },
     "execution_count": 450,
     "metadata": {},
     "output_type": "execute_result"
    }
   ],
   "source": [
    "df[\"Price range\"].value_counts()"
   ]
  },
  {
   "cell_type": "markdown",
   "id": "684db8e6-02ce-4c55-9c8a-62f65f440b2c",
   "metadata": {},
   "source": [
    "## Now visualizing feature vs target variable "
   ]
  },
  {
   "cell_type": "code",
   "execution_count": 451,
   "id": "1dd5c901-362a-4fbb-a3b8-9205d0dee4fa",
   "metadata": {},
   "outputs": [
    {
     "data": {
      "image/png": "[encoded data removed]",
      "text/plain": [
       "<Figure size 600x600 with 1 Axes>"
      ]
     },
     "metadata": {},
     "output_type": "display_data"
    }
   ],
   "source": [
    "plt.figure(figsize=(6,6))\n",
    "sns.barplot(x='Has Online delivery',y=\"Average Cost for two in INR\",data=df)\n",
    "plt.xlabel('Has Online delivery')\n",
    "plt.ylabel('Average Cost for two in INR')\n",
    "plt.show()"
   ]
  },
  {
   "cell_type": "code",
   "execution_count": 452,
   "id": "b1bf5850-5e30-4a80-9155-cbc5dbfdd61e",
   "metadata": {},
   "outputs": [
    {
     "data": {
      "text/plain": [
       "<Axes: xlabel='Price range', ylabel='Average Cost for two in INR'>"
      ]
     },
     "execution_count": 452,
     "metadata": {},
     "output_type": "execute_result"
    },
    {
     "data": {
      "image/png": "[encoded data removed]",
      "text/plain": [
       "<Figure size 640x480 with 1 Axes>"
      ]
     },
     "metadata": {},
     "output_type": "display_data"
    }
   ],
   "source": [
    "sns.barplot( x=\"Price range\",y=\"Average Cost for two in INR\" ,data=df)"
   ]
  },
  {
   "cell_type": "markdown",
   "id": "1028670c-c375-4236-9dcc-888af9557593",
   "metadata": {},
   "source": [
    "## Feature Engineering"
   ]
  },
  {
   "cell_type": "code",
   "execution_count": 453,
   "id": "cc75fa5c-41a0-4a16-80d3-ebef0b34e8ad",
   "metadata": {},
   "outputs": [],
   "source": [
    "# dropping the locality column for the further process\n",
    "df.drop(\"Locality\",axis=1,inplace=True)"
   ]
  },
  {
   "cell_type": "code",
   "execution_count": 454,
   "id": "dd51504f-0013-430b-8f2f-f92f7031b0ce",
   "metadata": {},
   "outputs": [
    {
     "data": {
      "text/plain": [
       "Index(['City', 'Cuisines', 'Has Table booking', 'Has Online delivery',\n",
       "       'Is delivering now', 'Price range', 'Aggregate rating', 'Rating text',\n",
       "       'Country', 'Average Cost for two in INR'],\n",
       "      dtype='object')"
      ]
     },
     "execution_count": 454,
     "metadata": {},
     "output_type": "execute_result"
    }
   ],
   "source": [
    "df.columns"
   ]
  },
  {
   "cell_type": "markdown",
   "id": "c190b9b5-05d9-418c-9152-f1d3c508bb88",
   "metadata": {},
   "source": [
    "### Lets encode categorical data"
   ]
  },
  {
   "cell_type": "code",
   "execution_count": 455,
   "id": "d40c0b23-3ab6-46fc-ac17-9df787f5fc65",
   "metadata": {},
   "outputs": [],
   "source": [
    "category = ['City', 'Cuisines', 'Has Table booking', 'Has Online delivery',\n",
    "       'Is delivering now', 'Price range', 'Aggregate rating', 'Rating text',\n",
    "       'Country']"
   ]
  },
  {
   "cell_type": "code",
   "execution_count": 456,
   "id": "8d4e314a-dc2a-4759-a266-fd442e71ad94",
   "metadata": {},
   "outputs": [
    {
     "data": {
      "text/html": [
       "<div>\n",
       "<style scoped>\n",
       "    .dataframe tbody tr th:only-of-type {\n",
       "        vertical-align: middle;\n",
       "    }\n",
       "\n",
       "    .dataframe tbody tr th {\n",
       "        vertical-align: top;\n",
       "    }\n",
       "\n",
       "    .dataframe thead th {\n",
       "        text-align: right;\n",
       "    }\n",
       "</style>\n",
       "<table border=\"1\" class=\"dataframe\">\n",
       "  <thead>\n",
       "    <tr style=\"text-align: right;\">\n",
       "      <th></th>\n",
       "      <th>City</th>\n",
       "      <th>Cuisines</th>\n",
       "      <th>Has Table booking</th>\n",
       "      <th>Has Online delivery</th>\n",
       "      <th>Is delivering now</th>\n",
       "      <th>Price range</th>\n",
       "      <th>Aggregate rating</th>\n",
       "      <th>Rating text</th>\n",
       "      <th>Country</th>\n",
       "      <th>Average Cost for two in INR</th>\n",
       "    </tr>\n",
       "  </thead>\n",
       "  <tbody>\n",
       "    <tr>\n",
       "      <th>0</th>\n",
       "      <td>1</td>\n",
       "      <td>1514</td>\n",
       "      <td>0</td>\n",
       "      <td>0</td>\n",
       "      <td>0</td>\n",
       "      <td>2</td>\n",
       "      <td>22</td>\n",
       "      <td>2</td>\n",
       "      <td>3</td>\n",
       "      <td>850</td>\n",
       "    </tr>\n",
       "    <tr>\n",
       "      <th>1</th>\n",
       "      <td>1</td>\n",
       "      <td>1514</td>\n",
       "      <td>0</td>\n",
       "      <td>0</td>\n",
       "      <td>0</td>\n",
       "      <td>1</td>\n",
       "      <td>18</td>\n",
       "      <td>2</td>\n",
       "      <td>3</td>\n",
       "      <td>700</td>\n",
       "    </tr>\n",
       "    <tr>\n",
       "      <th>2</th>\n",
       "      <td>1</td>\n",
       "      <td>1306</td>\n",
       "      <td>0</td>\n",
       "      <td>0</td>\n",
       "      <td>0</td>\n",
       "      <td>1</td>\n",
       "      <td>19</td>\n",
       "      <td>2</td>\n",
       "      <td>3</td>\n",
       "      <td>500</td>\n",
       "    </tr>\n",
       "    <tr>\n",
       "      <th>3</th>\n",
       "      <td>1</td>\n",
       "      <td>1645</td>\n",
       "      <td>0</td>\n",
       "      <td>0</td>\n",
       "      <td>0</td>\n",
       "      <td>1</td>\n",
       "      <td>23</td>\n",
       "      <td>5</td>\n",
       "      <td>3</td>\n",
       "      <td>400</td>\n",
       "    </tr>\n",
       "    <tr>\n",
       "      <th>4</th>\n",
       "      <td>1</td>\n",
       "      <td>1373</td>\n",
       "      <td>0</td>\n",
       "      <td>0</td>\n",
       "      <td>0</td>\n",
       "      <td>2</td>\n",
       "      <td>25</td>\n",
       "      <td>5</td>\n",
       "      <td>3</td>\n",
       "      <td>1000</td>\n",
       "    </tr>\n",
       "  </tbody>\n",
       "</table>\n",
       "</div>"
      ],
      "text/plain": [
       "   City  Cuisines  Has Table booking  Has Online delivery  Is delivering now  \\\n",
       "0     1      1514                  0                    0                  0   \n",
       "1     1      1514                  0                    0                  0   \n",
       "2     1      1306                  0                    0                  0   \n",
       "3     1      1645                  0                    0                  0   \n",
       "4     1      1373                  0                    0                  0   \n",
       "\n",
       "   Price range  Aggregate rating  Rating text  Country  \\\n",
       "0            2                22            2        3   \n",
       "1            1                18            2        3   \n",
       "2            1                19            2        3   \n",
       "3            1                23            5        3   \n",
       "4            2                25            5        3   \n",
       "\n",
       "   Average Cost for two in INR  \n",
       "0                          850  \n",
       "1                          700  \n",
       "2                          500  \n",
       "3                          400  \n",
       "4                         1000  "
      ]
     },
     "execution_count": 456,
     "metadata": {},
     "output_type": "execute_result"
    }
   ],
   "source": [
    "# Using Label Encoder on categorical variable\n",
    "from sklearn.preprocessing import LabelEncoder\n",
    "le = LabelEncoder()\n",
    "for i in category:\n",
    "    df[i] = le.fit_transform(df[i])\n",
    "df.head()"
   ]
  },
  {
   "cell_type": "code",
   "execution_count": 457,
   "id": "4a0b9ace-c0b3-4463-96f5-546ccc4a8266",
   "metadata": {},
   "outputs": [
    {
     "data": {
      "text/plain": [
       "{int32: ['City', 'Cuisines', 'Has Table booking', 'Has Online delivery', 'Is delivering now', 'Rating text', 'Country', 'Average Cost for two in INR'], int64: ['Price range', 'Aggregate rating']}"
      ]
     },
     "execution_count": 457,
     "metadata": {},
     "output_type": "execute_result"
    }
   ],
   "source": [
    "# Sort columns by datatypes\n",
    "df.columns.to_series().groupby(df.dtypes).groups"
   ]
  },
  {
   "cell_type": "markdown",
   "id": "cf835783-f12f-48fd-afa5-99fb5dc0adda",
   "metadata": {},
   "source": [
    "## Corrrleation"
   ]
  },
  {
   "cell_type": "code",
   "execution_count": 458,
   "id": "89da148d-488a-4fb6-8a6e-ddde289e4ee9",
   "metadata": {},
   "outputs": [
    {
     "data": {
      "text/html": [
       "<div>\n",
       "<style scoped>\n",
       "    .dataframe tbody tr th:only-of-type {\n",
       "        vertical-align: middle;\n",
       "    }\n",
       "\n",
       "    .dataframe tbody tr th {\n",
       "        vertical-align: top;\n",
       "    }\n",
       "\n",
       "    .dataframe thead th {\n",
       "        text-align: right;\n",
       "    }\n",
       "</style>\n",
       "<table border=\"1\" class=\"dataframe\">\n",
       "  <thead>\n",
       "    <tr style=\"text-align: right;\">\n",
       "      <th></th>\n",
       "      <th>City</th>\n",
       "      <th>Cuisines</th>\n",
       "      <th>Has Table booking</th>\n",
       "      <th>Has Online delivery</th>\n",
       "      <th>Is delivering now</th>\n",
       "      <th>Price range</th>\n",
       "      <th>Aggregate rating</th>\n",
       "      <th>Rating text</th>\n",
       "      <th>Country</th>\n",
       "      <th>Average Cost for two in INR</th>\n",
       "    </tr>\n",
       "  </thead>\n",
       "  <tbody>\n",
       "    <tr>\n",
       "      <th>City</th>\n",
       "      <td>1.000000</td>\n",
       "      <td>0.025764</td>\n",
       "      <td>-0.003762</td>\n",
       "      <td>0.012723</td>\n",
       "      <td>-0.014039</td>\n",
       "      <td>-0.105759</td>\n",
       "      <td>-0.160241</td>\n",
       "      <td>-0.098985</td>\n",
       "      <td>-0.180959</td>\n",
       "      <td>-0.051267</td>\n",
       "    </tr>\n",
       "    <tr>\n",
       "      <th>Cuisines</th>\n",
       "      <td>0.025764</td>\n",
       "      <td>1.000000</td>\n",
       "      <td>0.050232</td>\n",
       "      <td>-0.017180</td>\n",
       "      <td>0.007708</td>\n",
       "      <td>-0.005489</td>\n",
       "      <td>-0.106243</td>\n",
       "      <td>-0.080025</td>\n",
       "      <td>-0.124141</td>\n",
       "      <td>-0.057541</td>\n",
       "    </tr>\n",
       "    <tr>\n",
       "      <th>Has Table booking</th>\n",
       "      <td>-0.003762</td>\n",
       "      <td>0.050232</td>\n",
       "      <td>1.000000</td>\n",
       "      <td>0.101224</td>\n",
       "      <td>-0.016816</td>\n",
       "      <td>0.501925</td>\n",
       "      <td>0.196435</td>\n",
       "      <td>0.044043</td>\n",
       "      <td>-0.062076</td>\n",
       "      <td>0.259953</td>\n",
       "    </tr>\n",
       "    <tr>\n",
       "      <th>Has Online delivery</th>\n",
       "      <td>0.012723</td>\n",
       "      <td>-0.017180</td>\n",
       "      <td>0.101224</td>\n",
       "      <td>1.000000</td>\n",
       "      <td>0.101730</td>\n",
       "      <td>0.077918</td>\n",
       "      <td>0.179281</td>\n",
       "      <td>-0.080937</td>\n",
       "      <td>-0.140464</td>\n",
       "      <td>-0.053320</td>\n",
       "    </tr>\n",
       "    <tr>\n",
       "      <th>Is delivering now</th>\n",
       "      <td>-0.014039</td>\n",
       "      <td>0.007708</td>\n",
       "      <td>-0.016816</td>\n",
       "      <td>0.101730</td>\n",
       "      <td>1.000000</td>\n",
       "      <td>0.010940</td>\n",
       "      <td>0.010547</td>\n",
       "      <td>-0.031970</td>\n",
       "      <td>-0.016607</td>\n",
       "      <td>-0.006090</td>\n",
       "    </tr>\n",
       "    <tr>\n",
       "      <th>Price range</th>\n",
       "      <td>-0.105759</td>\n",
       "      <td>-0.005489</td>\n",
       "      <td>0.501925</td>\n",
       "      <td>0.077918</td>\n",
       "      <td>0.010940</td>\n",
       "      <td>1.000000</td>\n",
       "      <td>0.484499</td>\n",
       "      <td>0.164242</td>\n",
       "      <td>0.178035</td>\n",
       "      <td>0.566410</td>\n",
       "    </tr>\n",
       "    <tr>\n",
       "      <th>Aggregate rating</th>\n",
       "      <td>-0.160241</td>\n",
       "      <td>-0.106243</td>\n",
       "      <td>0.196435</td>\n",
       "      <td>0.179281</td>\n",
       "      <td>0.010547</td>\n",
       "      <td>0.484499</td>\n",
       "      <td>1.000000</td>\n",
       "      <td>-0.004208</td>\n",
       "      <td>0.324372</td>\n",
       "      <td>0.336269</td>\n",
       "    </tr>\n",
       "    <tr>\n",
       "      <th>Rating text</th>\n",
       "      <td>-0.098985</td>\n",
       "      <td>-0.080025</td>\n",
       "      <td>0.044043</td>\n",
       "      <td>-0.080937</td>\n",
       "      <td>-0.031970</td>\n",
       "      <td>0.164242</td>\n",
       "      <td>-0.004208</td>\n",
       "      <td>1.000000</td>\n",
       "      <td>0.203846</td>\n",
       "      <td>0.132990</td>\n",
       "    </tr>\n",
       "    <tr>\n",
       "      <th>Country</th>\n",
       "      <td>-0.180959</td>\n",
       "      <td>-0.124141</td>\n",
       "      <td>-0.062076</td>\n",
       "      <td>-0.140464</td>\n",
       "      <td>-0.016607</td>\n",
       "      <td>0.178035</td>\n",
       "      <td>0.324372</td>\n",
       "      <td>0.203846</td>\n",
       "      <td>1.000000</td>\n",
       "      <td>0.379595</td>\n",
       "    </tr>\n",
       "    <tr>\n",
       "      <th>Average Cost for two in INR</th>\n",
       "      <td>-0.051267</td>\n",
       "      <td>-0.057541</td>\n",
       "      <td>0.259953</td>\n",
       "      <td>-0.053320</td>\n",
       "      <td>-0.006090</td>\n",
       "      <td>0.566410</td>\n",
       "      <td>0.336269</td>\n",
       "      <td>0.132990</td>\n",
       "      <td>0.379595</td>\n",
       "      <td>1.000000</td>\n",
       "    </tr>\n",
       "  </tbody>\n",
       "</table>\n",
       "</div>"
      ],
      "text/plain": [
       "                                 City  Cuisines  Has Table booking  \\\n",
       "City                         1.000000  0.025764          -0.003762   \n",
       "Cuisines                     0.025764  1.000000           0.050232   \n",
       "Has Table booking           -0.003762  0.050232           1.000000   \n",
       "Has Online delivery          0.012723 -0.017180           0.101224   \n",
       "Is delivering now           -0.014039  0.007708          -0.016816   \n",
       "Price range                 -0.105759 -0.005489           0.501925   \n",
       "Aggregate rating            -0.160241 -0.106243           0.196435   \n",
       "Rating text                 -0.098985 -0.080025           0.044043   \n",
       "Country                     -0.180959 -0.124141          -0.062076   \n",
       "Average Cost for two in INR -0.051267 -0.057541           0.259953   \n",
       "\n",
       "                             Has Online delivery  Is delivering now  \\\n",
       "City                                    0.012723          -0.014039   \n",
       "Cuisines                               -0.017180           0.007708   \n",
       "Has Table booking                       0.101224          -0.016816   \n",
       "Has Online delivery                     1.000000           0.101730   \n",
       "Is delivering now                       0.101730           1.000000   \n",
       "Price range                             0.077918           0.010940   \n",
       "Aggregate rating                        0.179281           0.010547   \n",
       "Rating text                            -0.080937          -0.031970   \n",
       "Country                                -0.140464          -0.016607   \n",
       "Average Cost for two in INR            -0.053320          -0.006090   \n",
       "\n",
       "                             Price range  Aggregate rating  Rating text  \\\n",
       "City                           -0.105759         -0.160241    -0.098985   \n",
       "Cuisines                       -0.005489         -0.106243    -0.080025   \n",
       "Has Table booking               0.501925          0.196435     0.044043   \n",
       "Has Online delivery             0.077918          0.179281    -0.080937   \n",
       "Is delivering now               0.010940          0.010547    -0.031970   \n",
       "Price range                     1.000000          0.484499     0.164242   \n",
       "Aggregate rating                0.484499          1.000000    -0.004208   \n",
       "Rating text                     0.164242         -0.004208     1.000000   \n",
       "Country                         0.178035          0.324372     0.203846   \n",
       "Average Cost for two in INR     0.566410          0.336269     0.132990   \n",
       "\n",
       "                              Country  Average Cost for two in INR  \n",
       "City                        -0.180959                    -0.051267  \n",
       "Cuisines                    -0.124141                    -0.057541  \n",
       "Has Table booking           -0.062076                     0.259953  \n",
       "Has Online delivery         -0.140464                    -0.053320  \n",
       "Is delivering now           -0.016607                    -0.006090  \n",
       "Price range                  0.178035                     0.566410  \n",
       "Aggregate rating             0.324372                     0.336269  \n",
       "Rating text                  0.203846                     0.132990  \n",
       "Country                      1.000000                     0.379595  \n",
       "Average Cost for two in INR  0.379595                     1.000000  "
      ]
     },
     "execution_count": 458,
     "metadata": {},
     "output_type": "execute_result"
    }
   ],
   "source": [
    "df.corr()"
   ]
  },
  {
   "cell_type": "code",
   "execution_count": 459,
   "id": "6af76e3b-89d2-4992-9ce8-b8068fb8176a",
   "metadata": {},
   "outputs": [
    {
     "data": {
      "image/png": "[encoded data removed]",
      "text/plain": [
       "<Figure size 2000x2000 with 2 Axes>"
      ]
     },
     "metadata": {},
     "output_type": "display_data"
    }
   ],
   "source": [
    "plt.figure(figsize=(20,20))\n",
    "sns.heatmap(df.corr(), vmin=-1, vmax=1, annot=True, square=True, fmt='0.3f', cmap=\"gist_stern\")\n",
    "plt.show()"
   ]
  },
  {
   "cell_type": "code",
   "execution_count": 460,
   "id": "043d0186-6e24-4c69-8ffe-9a229e8d933a",
   "metadata": {},
   "outputs": [
    {
     "data": {
      "image/png": "[encoded data removed]",
      "text/plain": [
       "<Figure size 2200x1000 with 1 Axes>"
      ]
     },
     "metadata": {},
     "output_type": "display_data"
    }
   ],
   "source": [
    "plt.figure(figsize=(22,10))\n",
    "df.corr()['Average Cost for two in INR'].sort_values(ascending=False).drop(['Average Cost for two in INR']).plot(kind='bar',color='y')\n",
    "plt.xlabel('Feature',fontsize=14,fontweight='bold')\n",
    "plt.ylabel('Target',fontsize=14,fontweight='bold')\n",
    "plt.title('Correlation of features with Target Variable Average Cost for two in INR',fontsize=20,fontweight='bold')\n",
    "plt.show()"
   ]
  },
  {
   "cell_type": "markdown",
   "id": "bbb01bdf-da5a-4490-bb1e-ccc0fe7d5e9b",
   "metadata": {},
   "source": [
    "#### Observation and conclusion:\n",
    "- Price range is directly proportion to Average Cost for two in INR i.e. the are positively corelated with each other\n",
    "- Other features like country, Aggregate rating, table booking is also postively correlated with the target variable."
   ]
  },
  {
   "cell_type": "markdown",
   "id": "4bb14d73-81ef-4ee2-a712-ed0c6642b06b",
   "metadata": {},
   "source": [
    "# 1) Regression model for the predictions of Average cost of two "
   ]
  },
  {
   "cell_type": "code",
   "execution_count": 461,
   "id": "6854290b-87ba-4b39-9afa-dc674a776b2d",
   "metadata": {},
   "outputs": [],
   "source": [
    "X = df.drop(['Average Cost for two in INR'], axis =1)\n",
    "Y = df['Average Cost for two in INR']"
   ]
  },
  {
   "cell_type": "markdown",
   "id": "8178252a-8c88-4a95-975b-1b5d33c6d184",
   "metadata": {},
   "source": [
    "## Standard Scaling"
   ]
  },
  {
   "cell_type": "code",
   "execution_count": 462,
   "id": "9474b145-4461-40b9-9d99-08b91d472bc2",
   "metadata": {},
   "outputs": [],
   "source": [
    "from sklearn.preprocessing import StandardScaler\n",
    "scaler= StandardScaler()\n",
    "X_scale = scaler.fit_transform(X)"
   ]
  },
  {
   "cell_type": "markdown",
   "id": "fd2e08b5-d3d0-4e85-9abe-890fee9b6cc2",
   "metadata": {},
   "source": [
    "## VIF factor"
   ]
  },
  {
   "cell_type": "code",
   "execution_count": 463,
   "id": "1251030a-5140-4a1d-a67e-b62da97396db",
   "metadata": {},
   "outputs": [
    {
     "data": {
      "text/html": [
       "<div>\n",
       "<style scoped>\n",
       "    .dataframe tbody tr th:only-of-type {\n",
       "        vertical-align: middle;\n",
       "    }\n",
       "\n",
       "    .dataframe tbody tr th {\n",
       "        vertical-align: top;\n",
       "    }\n",
       "\n",
       "    .dataframe thead th {\n",
       "        text-align: right;\n",
       "    }\n",
       "</style>\n",
       "<table border=\"1\" class=\"dataframe\">\n",
       "  <thead>\n",
       "    <tr style=\"text-align: right;\">\n",
       "      <th></th>\n",
       "      <th>VIF values</th>\n",
       "      <th>Features</th>\n",
       "    </tr>\n",
       "  </thead>\n",
       "  <tbody>\n",
       "    <tr>\n",
       "      <th>0</th>\n",
       "      <td>1.053514</td>\n",
       "      <td>City</td>\n",
       "    </tr>\n",
       "    <tr>\n",
       "      <th>1</th>\n",
       "      <td>1.031665</td>\n",
       "      <td>Cuisines</td>\n",
       "    </tr>\n",
       "    <tr>\n",
       "      <th>2</th>\n",
       "      <td>1.389123</td>\n",
       "      <td>Has Table booking</td>\n",
       "    </tr>\n",
       "    <tr>\n",
       "      <th>3</th>\n",
       "      <td>1.098334</td>\n",
       "      <td>Has Online delivery</td>\n",
       "    </tr>\n",
       "    <tr>\n",
       "      <th>4</th>\n",
       "      <td>1.012905</td>\n",
       "      <td>Is delivering now</td>\n",
       "    </tr>\n",
       "    <tr>\n",
       "      <th>5</th>\n",
       "      <td>1.763183</td>\n",
       "      <td>Price range</td>\n",
       "    </tr>\n",
       "    <tr>\n",
       "      <th>6</th>\n",
       "      <td>1.543896</td>\n",
       "      <td>Aggregate rating</td>\n",
       "    </tr>\n",
       "    <tr>\n",
       "      <th>7</th>\n",
       "      <td>1.102108</td>\n",
       "      <td>Rating text</td>\n",
       "    </tr>\n",
       "    <tr>\n",
       "      <th>8</th>\n",
       "      <td>1.272669</td>\n",
       "      <td>Country</td>\n",
       "    </tr>\n",
       "  </tbody>\n",
       "</table>\n",
       "</div>"
      ],
      "text/plain": [
       "   VIF values             Features\n",
       "0    1.053514                 City\n",
       "1    1.031665             Cuisines\n",
       "2    1.389123    Has Table booking\n",
       "3    1.098334  Has Online delivery\n",
       "4    1.012905    Is delivering now\n",
       "5    1.763183          Price range\n",
       "6    1.543896     Aggregate rating\n",
       "7    1.102108          Rating text\n",
       "8    1.272669              Country"
      ]
     },
     "execution_count": 463,
     "metadata": {},
     "output_type": "execute_result"
    }
   ],
   "source": [
    "from statsmodels.stats.outliers_influence import variance_inflation_factor\n",
    "vif = pd.DataFrame()\n",
    "vif[\"VIF values\"] = [variance_inflation_factor(X_scale,i) for i in range(len(X.columns))]\n",
    "vif[\"Features\"] = X.columns\n",
    "vif"
   ]
  },
  {
   "cell_type": "markdown",
   "id": "0279ea8e-3df9-4cfe-8875-7cd85b804e2d",
   "metadata": {},
   "source": [
    "## Machine learning model"
   ]
  },
  {
   "cell_type": "code",
   "execution_count": 464,
   "id": "2c98b763-833c-487c-84b2-491c5a0f3e20",
   "metadata": {},
   "outputs": [],
   "source": [
    "from sklearn.linear_model import LinearRegression\n",
    "from sklearn.linear_model import LogisticRegression\n",
    "from sklearn.ensemble import RandomForestRegressor\n",
    "from sklearn.tree import DecisionTreeRegressor\n",
    "from sklearn.svm import SVR\n",
    "from sklearn.ensemble import AdaBoostRegressor\n",
    "from sklearn.ensemble import  GradientBoostingRegressor\n",
    "from sklearn.neighbors import KNeighborsRegressor\n",
    "from sklearn.metrics import mean_squared_error, mean_absolute_error\n",
    "from sklearn.metrics import r2_score\n",
    "from sklearn.model_selection import train_test_split\n",
    "from sklearn.linear_model import  Ridge\n",
    "from sklearn.linear_model import  Lasso\n",
    "from xgboost import XGBRegressor"
   ]
  },
  {
   "cell_type": "code",
   "execution_count": 465,
   "id": "e0e93235-3a9f-4910-862c-d7ca9fee90ad",
   "metadata": {},
   "outputs": [
    {
     "name": "stdout",
     "output_type": "stream",
     "text": [
      "Training feature matrix size: (7163, 9)\n",
      "Training target vector size: (7163,)\n",
      "Test feature matrix size: (2388, 9)\n",
      "Test target vector size: (2388,)\n"
     ]
    }
   ],
   "source": [
    "X_train, X_test, Y_train, Y_test = train_test_split(X, Y, random_state=42, test_size=.25)\n",
    "print('Training feature matrix size:',X_train.shape)\n",
    "print('Training target vector size:',Y_train.shape)\n",
    "print('Test feature matrix size:',X_test.shape)\n",
    "print('Test target vector size:',Y_test.shape)"
   ]
  },
  {
   "cell_type": "markdown",
   "id": "144c86bf-ea12-4db6-86bf-ef0f05f3a8cc",
   "metadata": {},
   "source": [
    "## Finding best random state"
   ]
  },
  {
   "cell_type": "code",
   "execution_count": 466,
   "id": "3520f54e-7541-4d2c-9d70-335f1edbc74c",
   "metadata": {},
   "outputs": [
    {
     "name": "stdout",
     "output_type": "stream",
     "text": [
      "Best R2 Score is 0.6187217504195726 on Random_state 23\n"
     ]
    }
   ],
   "source": [
    "from sklearn.linear_model import LinearRegression\n",
    "from sklearn.metrics import r2_score\n",
    "maxR2_score=0\n",
    "maxRS=0\n",
    "for i in range(1,250):\n",
    "    X_train, X_test, Y_train, Y_test = train_test_split(X, Y, random_state=i, test_size=.25)\n",
    "    lin_reg=LinearRegression()\n",
    "    lin_reg.fit(X_train,Y_train)\n",
    "    y_pred=lin_reg.predict(X_test)\n",
    "    R2=r2_score(Y_test,y_pred)\n",
    "    if R2>maxR2_score:\n",
    "        maxR2_score=R2\n",
    "        maxRS=i\n",
    "print('Best R2 Score is', maxR2_score ,'on Random_state', maxRS)"
   ]
  },
  {
   "cell_type": "markdown",
   "id": "153ca9eb-7976-4b73-9a34-cb1ffedd72a9",
   "metadata": {},
   "source": [
    "## Linear Regression : Base model"
   ]
  },
  {
   "cell_type": "code",
   "execution_count": 471,
   "id": "5b484b65-9958-4aeb-8fec-a46e78972f17",
   "metadata": {},
   "outputs": [
    {
     "name": "stdout",
     "output_type": "stream",
     "text": [
      "\u001b[1mPredicted price:\u001b[0m\n",
      " [ 803.84179166  653.36131517  120.41444698 ... 1792.37281328  719.91326832\n",
      " 1658.75233005]\n",
      "\n",
      "\n",
      "\u001b[1mActual price:\u001b[0m\n",
      " 3070     550\n",
      "600      600\n",
      "8207     100\n",
      "6504     300\n",
      "1368     350\n",
      "        ... \n",
      "2355     150\n",
      "3758     150\n",
      "6077    1400\n",
      "3696     500\n",
      "278     1500\n",
      "Name: Average Cost for two in INR, Length: 2388, dtype: int32\n"
     ]
    }
   ],
   "source": [
    "X_train, X_test, Y_train, Y_test = train_test_split(X, Y, random_state=23, test_size=.25)\n",
    "lin_reg=LinearRegression()\n",
    "lin_reg.fit(X_train,Y_train)\n",
    "lin_reg.score(X_train,Y_train)\n",
    "y_pred=lin_reg.predict(X_test)\n",
    "print('\\033[1m'+'Predicted price:'+'\\033[0m\\n',y_pred)\n",
    "print('\\n')\n",
    "print('\\033[1m'+'Actual price:'+'\\033[0m\\n',Y_test)"
   ]
  },
  {
   "cell_type": "code",
   "execution_count": 472,
   "id": "4626bc57-1ad2-488b-9cfa-d4d0cb748f03",
   "metadata": {},
   "outputs": [
    {
     "data": {
      "image/png": "[encoded data removed]",
      "text/plain": [
       "<Figure size 640x480 with 1 Axes>"
      ]
     },
     "metadata": {},
     "output_type": "display_data"
    }
   ],
   "source": [
    "plt.scatter (Y_test,y_pred)\n",
    "plt.xlabel('Actual Average Cost for two')\n",
    "plt.ylabel('Predicted Average Cost for two')\n",
    "plt.title('Actual vs model predicted')\n",
    "plt.show()"
   ]
  },
  {
   "cell_type": "markdown",
   "id": "e6fa7c5b-496a-46ce-81c4-47800d274189",
   "metadata": {},
   "source": [
    "## Linear Regression Evaluation Matrix"
   ]
  },
  {
   "cell_type": "code",
   "execution_count": 473,
   "id": "6817f5e4-116f-4f28-989b-3ae4560bf584",
   "metadata": {},
   "outputs": [
    {
     "name": "stdout",
     "output_type": "stream",
     "text": [
      "\u001b[1m Error :\u001b[0m\n",
      "Mean absolute error : 361.81322598165804\n",
      "Mean squared error : 415147.9551285617\n",
      "Root Mean Squared Error: 644.3197615536573\n",
      "\n",
      "\n",
      "\u001b[1m R2 Score :\u001b[0m\n",
      "0.6187217504195726\n"
     ]
    }
   ],
   "source": [
    "print('\\033[1m'+' Error :'+'\\033[0m')\n",
    "print('Mean absolute error :', mean_absolute_error(Y_test,y_pred))\n",
    "print('Mean squared error :', mean_squared_error(Y_test,y_pred))\n",
    "print('Root Mean Squared Error:', np.sqrt(mean_squared_error(Y_test,y_pred)))\n",
    "print('\\n')\n",
    "from sklearn.metrics import r2_score\n",
    "print('\\033[1m'+' R2 Score :'+'\\033[0m')\n",
    "print(r2_score(Y_test,y_pred,multioutput='variance_weighted'))"
   ]
  },
  {
   "cell_type": "markdown",
   "id": "838ca89a-9aeb-4e70-9d4a-43d091b15734",
   "metadata": {},
   "source": [
    "## Cross validation"
   ]
  },
  {
   "cell_type": "code",
   "execution_count": 474,
   "id": "2b810b2c-83d3-496d-9091-13f2cbb0e850",
   "metadata": {},
   "outputs": [
    {
     "name": "stdout",
     "output_type": "stream",
     "text": [
      "\u001b[1mCross Validation Score : LinearRegression() :\u001b[0m\n",
      "\n",
      "Mean CV Score : 0.23619912351230735\n"
     ]
    }
   ],
   "source": [
    "# Cross Validation\n",
    "from sklearn.model_selection import cross_val_score\n",
    "score = cross_val_score(lin_reg, principle_x, Y, cv =3)\n",
    "print('\\033[1m'+'Cross Validation Score :',lin_reg,\":\"+'\\033[0m\\n')\n",
    "print(\"Mean CV Score :\",score.mean())"
   ]
  },
  {
   "cell_type": "code",
   "execution_count": 475,
   "id": "2d9052ba-d8e9-4722-a167-fa23668a4712",
   "metadata": {},
   "outputs": [
    {
     "name": "stdout",
     "output_type": "stream",
     "text": [
      "\u001b[1m True Values Vs Predicted Value plot :\u001b[0m\n"
     ]
    },
    {
     "data": {
      "image/png": "[encoded data removed]",
      "text/plain": [
       "<Figure size 600x500 with 1 Axes>"
      ]
     },
     "metadata": {},
     "output_type": "display_data"
    }
   ],
   "source": [
    "plt.figure(figsize=(6,5))\n",
    "y_pred=lin_reg.predict(X_test)\n",
    "sns.swarmplot(x=Y_test.round(2),y= y_pred)\n",
    "print('\\033[1m'+' True Values Vs Predicted Value plot :' +'\\033[0m')\n",
    "plt.xlabel('True Values' , fontsize=15)\n",
    "plt.ylabel('Predictions', fontsize=15)\n",
    "plt.tight_layout()"
   ]
  },
  {
   "cell_type": "markdown",
   "id": "b3698d79-857a-4e36-9be8-5767254293b9",
   "metadata": {},
   "source": [
    "## Finding the best n_neighbors for KNN REgressor¶\n"
   ]
  },
  {
   "cell_type": "code",
   "execution_count": 477,
   "id": "fa521783-78e9-4896-bf27-52f60ec5b42d",
   "metadata": {},
   "outputs": [
    {
     "name": "stdout",
     "output_type": "stream",
     "text": [
      "RMSE value for k=  1 is: 1406.7158403925757\n",
      "RMSE value for k=  2 is: 1235.2926653274217\n",
      "RMSE value for k=  3 is: 1183.130718492576\n",
      "RMSE value for k=  4 is: 1068.1500368167344\n",
      "RMSE value for k=  5 is: 1043.454251773593\n",
      "RMSE value for k=  6 is: 1014.4547842130423\n",
      "RMSE value for k=  7 is: 971.6673279289039\n",
      "RMSE value for k=  8 is: 941.63609005497\n",
      "RMSE value for k=  9 is: 920.0194171988057\n",
      "RMSE value for k=  10 is: 907.5184171984824\n",
      "RMSE value for k=  11 is: 895.7933739366729\n",
      "RMSE value for k=  12 is: 887.6242145690467\n",
      "RMSE value for k=  13 is: 887.0014681899796\n",
      "RMSE value for k=  14 is: 886.1053882204202\n",
      "RMSE value for k=  15 is: 883.9236726090649\n",
      "RMSE value for k=  16 is: 879.5242691510275\n",
      "RMSE value for k=  17 is: 876.994906989633\n",
      "RMSE value for k=  18 is: 872.6201150590433\n",
      "RMSE value for k=  19 is: 871.489295822286\n",
      "RMSE value for k=  20 is: 870.7649078893555\n",
      "RMSE value for k=  21 is: 866.5504835273298\n",
      "RMSE value for k=  22 is: 866.4022093141672\n",
      "RMSE value for k=  23 is: 865.5681670427472\n",
      "RMSE value for k=  24 is: 865.743515755303\n",
      "RMSE value for k=  25 is: 865.635213749465\n",
      "RMSE value for k=  26 is: 863.4556367310589\n",
      "RMSE value for k=  27 is: 857.5607122572037\n",
      "RMSE value for k=  28 is: 857.1670539278301\n",
      "RMSE value for k=  29 is: 857.8297555000897\n",
      "RMSE value for k=  30 is: 857.2583009929122\n",
      "RMSE value for k=  31 is: 855.0983992128397\n",
      "RMSE value for k=  32 is: 856.9891522301103\n",
      "RMSE value for k=  33 is: 858.6094682153546\n",
      "RMSE value for k=  34 is: 861.031169833248\n",
      "RMSE value for k=  35 is: 863.1254025143701\n",
      "RMSE value for k=  36 is: 864.3563609667409\n",
      "RMSE value for k=  37 is: 864.2775939814466\n",
      "RMSE value for k=  38 is: 864.8345252078034\n",
      "RMSE value for k=  39 is: 867.6057084551907\n",
      "RMSE value for k=  40 is: 870.5846580476189\n",
      "RMSE value for k=  41 is: 872.3752644033925\n",
      "RMSE value for k=  42 is: 872.0498338089322\n",
      "RMSE value for k=  43 is: 873.2722637596272\n",
      "RMSE value for k=  44 is: 873.4184426858146\n",
      "RMSE value for k=  45 is: 874.1945388617748\n",
      "RMSE value for k=  46 is: 873.940534958237\n",
      "RMSE value for k=  47 is: 873.7991419188397\n",
      "RMSE value for k=  48 is: 874.7563309815293\n",
      "RMSE value for k=  49 is: 875.185708919954\n",
      "RMSE value for k=  50 is: 874.7581364696947\n",
      "RMSE value for k=  51 is: 875.1298033574476\n",
      "RMSE value for k=  52 is: 875.9430831311751\n",
      "RMSE value for k=  53 is: 877.4617456052764\n",
      "RMSE value for k=  54 is: 878.8995201876131\n",
      "RMSE value for k=  55 is: 878.8522221945685\n",
      "RMSE value for k=  56 is: 879.671191565272\n",
      "RMSE value for k=  57 is: 880.3885669878961\n",
      "RMSE value for k=  58 is: 880.3406711014495\n",
      "RMSE value for k=  59 is: 880.8434241958976\n",
      "RMSE value for k=  60 is: 881.3294488753153\n",
      "RMSE value for k=  61 is: 881.2437342564186\n",
      "RMSE value for k=  62 is: 881.8483582661562\n",
      "RMSE value for k=  63 is: 882.7101255497842\n",
      "RMSE value for k=  64 is: 882.7456221668789\n",
      "RMSE value for k=  65 is: 883.1933902370945\n",
      "RMSE value for k=  66 is: 883.2263511476467\n",
      "RMSE value for k=  67 is: 883.6670221375858\n",
      "RMSE value for k=  68 is: 884.1547406911892\n",
      "RMSE value for k=  69 is: 886.3265431247858\n",
      "RMSE value for k=  70 is: 886.4543235941068\n",
      "RMSE value for k=  71 is: 886.6179466724252\n",
      "RMSE value for k=  72 is: 886.6467723739689\n",
      "RMSE value for k=  73 is: 885.6400341066413\n",
      "RMSE value for k=  74 is: 885.526858076714\n",
      "RMSE value for k=  75 is: 885.4436469302126\n",
      "RMSE value for k=  76 is: 885.3044427007192\n",
      "RMSE value for k=  77 is: 885.8241862747557\n",
      "RMSE value for k=  78 is: 885.6362456840702\n",
      "RMSE value for k=  79 is: 886.3910445766105\n",
      "RMSE value for k=  80 is: 886.6328544471568\n",
      "RMSE value for k=  81 is: 887.2062780546516\n",
      "RMSE value for k=  82 is: 887.264981405391\n",
      "RMSE value for k=  83 is: 887.6702875337736\n",
      "RMSE value for k=  84 is: 887.5893483888078\n",
      "RMSE value for k=  85 is: 888.1155964148313\n",
      "RMSE value for k=  86 is: 888.3212591664359\n",
      "RMSE value for k=  87 is: 888.5379987126173\n",
      "RMSE value for k=  88 is: 888.6969255570255\n",
      "RMSE value for k=  89 is: 889.4408902787313\n",
      "RMSE value for k=  90 is: 889.2881175139858\n",
      "RMSE value for k=  91 is: 889.0108395532098\n",
      "RMSE value for k=  92 is: 890.0328690485132\n",
      "RMSE value for k=  93 is: 890.9618375654633\n",
      "RMSE value for k=  94 is: 891.5871814964567\n",
      "RMSE value for k=  95 is: 892.362857472702\n",
      "RMSE value for k=  96 is: 892.0633967069107\n",
      "RMSE value for k=  97 is: 893.1827662020762\n",
      "RMSE value for k=  98 is: 893.7161535753378\n",
      "RMSE value for k=  99 is: 894.4228371019707\n",
      "RMSE value for k=  100 is: 895.0365807867289\n"
     ]
    }
   ],
   "source": [
    "from sklearn.neighbors import KNeighborsRegressor\n",
    "from sklearn import neighbors\n",
    "from math import sqrt\n",
    "from sklearn.metrics import mean_squared_error\n",
    "rmse_val = [] #to store rmse values for different k\n",
    "for K in range(100):\n",
    "    K = K+1\n",
    "    model = neighbors.KNeighborsRegressor(n_neighbors = K)\n",
    "\n",
    "    model.fit(X_train,Y_train)  #fit the model\n",
    "    y_pred=model.predict(X_test) #make prediction on test set\n",
    "    error = sqrt(mean_squared_error(Y_test,y_pred)) #calculate rmse\n",
    "    rmse_val.append(error) #store rmse values\n",
    "    print('RMSE value for k= ' , K , 'is:', error)"
   ]
  },
  {
   "cell_type": "code",
   "execution_count": 478,
   "id": "42f0680e-9726-4c07-b0c4-ef90a5609406",
   "metadata": {},
   "outputs": [
    {
     "data": {
      "text/plain": [
       "[<matplotlib.lines.Line2D at 0x25e559f0c90>]"
      ]
     },
     "execution_count": 478,
     "metadata": {},
     "output_type": "execute_result"
    },
    {
     "data": {
      "image/png": "[encoded data removed]",
      "text/plain": [
       "<Figure size 800x600 with 1 Axes>"
      ]
     },
     "metadata": {},
     "output_type": "display_data"
    }
   ],
   "source": [
    "#plotting the rmse values against k values -\n",
    "plt.figure(figsize = (8,6))\n",
    "plt.plot(range(100), rmse_val, color='blue', linestyle='dashed', marker='o', markerfacecolor='green', markersize=10)"
   ]
  },
  {
   "cell_type": "markdown",
   "id": "d2fd2279-8672-47a8-97d8-a673d148382e",
   "metadata": {},
   "source": [
    "value of k is minimum at k=28"
   ]
  },
  {
   "cell_type": "markdown",
   "id": "18909d39-6826-4850-b1f1-9a18d73cf736",
   "metadata": {},
   "source": [
    "## Applyinf other Regression Model, Evaluation and Cross validation"
   ]
  },
  {
   "cell_type": "code",
   "execution_count": 480,
   "id": "e7802cb5-8933-41d2-8f2a-5f34f10162f8",
   "metadata": {},
   "outputs": [
    {
     "name": "stdout",
     "output_type": "stream",
     "text": [
      "\n",
      "\n",
      "\u001b[1m Error of  RandomForestRegressor() :\u001b[0m\n",
      "Mean absolute error : 163.5602760436193\n",
      "Mean squared error : 194333.62436483413\n",
      "Root Mean Squared Error: 440.8328757758819\n",
      "\n",
      "\n",
      "\u001b[1m R2 Score :\u001b[0m\n",
      "0.8215210186703228\n",
      "\n",
      "\n",
      "\u001b[1m Error of  Lasso() :\u001b[0m\n",
      "Mean absolute error : 361.0504809028823\n",
      "Mean squared error : 414556.5328569249\n",
      "Root Mean Squared Error: 643.8606470789506\n",
      "\n",
      "\n",
      "\u001b[1m R2 Score :\u001b[0m\n",
      "0.6192649217051513\n",
      "\n",
      "\n",
      "\u001b[1m Error of  Ridge() :\u001b[0m\n",
      "Mean absolute error : 361.73721618597483\n",
      "Mean squared error : 415107.54541940463\n",
      "Root Mean Squared Error: 644.2884023629516\n",
      "\n",
      "\n",
      "\u001b[1m R2 Score :\u001b[0m\n",
      "0.6187588633162715\n",
      "\n",
      "\n",
      "\u001b[1m Error of  SVR() :\u001b[0m\n",
      "Mean absolute error : 523.8904661765276\n",
      "Mean squared error : 1196333.995167305\n",
      "Root Mean Squared Error: 1093.7705404550377\n",
      "\n",
      "\n",
      "\u001b[1m R2 Score :\u001b[0m\n",
      "-0.09873149067949694\n",
      "\n",
      "\n",
      "\u001b[1m Error of  DecisionTreeRegressor() :\u001b[0m\n",
      "Mean absolute error : 187.54785839586313\n",
      "Mean squared error : 396390.7906932317\n",
      "Root Mean Squared Error: 629.5957359236414\n",
      "\n",
      "\n",
      "\u001b[1m R2 Score :\u001b[0m\n",
      "0.6359486179366731\n",
      "\n",
      "\n",
      "\u001b[1m Error of  AdaBoostRegressor() :\u001b[0m\n",
      "Mean absolute error : 1011.5783405009482\n",
      "Mean squared error : 1438098.7586003053\n",
      "Root Mean Squared Error: 1199.2075544293011\n",
      "\n",
      "\n",
      "\u001b[1m R2 Score :\u001b[0m\n",
      "-0.320771957634018\n",
      "\n",
      "\n",
      "\u001b[1m Error of  GradientBoostingRegressor() :\u001b[0m\n",
      "Mean absolute error : 181.73229553009122\n",
      "Mean squared error : 178751.04874877745\n",
      "Root Mean Squared Error: 422.78960340667965\n",
      "\n",
      "\n",
      "\u001b[1m R2 Score :\u001b[0m\n",
      "0.835832295123569\n",
      "\n",
      "\n",
      "\u001b[1m Error of  KNeighborsRegressor() :\u001b[0m\n",
      "Mean absolute error : 400.76633165829145\n",
      "Mean squared error : 1088796.7755443887\n",
      "Root Mean Squared Error: 1043.454251773593\n",
      "\n",
      "\n",
      "\u001b[1m R2 Score :\u001b[0m\n",
      "3.234124128015381e-05\n",
      "\n",
      "\n",
      "\u001b[1m Error of  XGBRegressor(base_score=None, booster=None, callbacks=None,\n",
      "             colsample_bylevel=None, colsample_bynode=None,\n",
      "             colsample_bytree=None, device=None, early_stopping_rounds=None,\n",
      "             enable_categorical=False, eval_metric=None, feature_types=None,\n",
      "             gamma=None, grow_policy=None, importance_type=None,\n",
      "             interaction_constraints=None, learning_rate=None, max_bin=None,\n",
      "             max_cat_threshold=None, max_cat_to_onehot=None,\n",
      "             max_delta_step=None, max_depth=None, max_leaves=None,\n",
      "             min_child_weight=None, missing=nan, monotone_constraints=None,\n",
      "             multi_strategy=None, n_estimators=None, n_jobs=None,\n",
      "             num_parallel_tree=None, random_state=None, ...) :\u001b[0m\n",
      "Mean absolute error : 168.2453028039517\n",
      "Mean squared error : 205470.02525455668\n",
      "Root Mean Squared Error: 453.2880157852805\n",
      "\n",
      "\n",
      "\u001b[1m R2 Score :\u001b[0m\n",
      "0.8112931772817161\n"
     ]
    }
   ],
   "source": [
    "rf = RandomForestRegressor()\n",
    "svr=SVR()\n",
    "dtc = DecisionTreeRegressor()\n",
    "adb=AdaBoostRegressor()\n",
    "gradb=GradientBoostingRegressor()\n",
    "knn=KNeighborsRegressor()\n",
    "ls= Lasso()\n",
    "rd=Ridge()\n",
    "xgb=XGBRegressor()\n",
    "model = [rf,ls,rd,svr,dtc,adb,gradb,knn,xgb]\n",
    "\n",
    "for m in model:\n",
    "    m.fit(X_train,Y_train)\n",
    "    m.score(X_train,Y_train)\n",
    "    y_pred = m.predict(X_test)\n",
    "    print('\\n')                                        \n",
    "    print('\\033[1m'+' Error of ', m, ':' +'\\033[0m')\n",
    "    print('Mean absolute error :', mean_absolute_error(Y_test,y_pred))\n",
    "    print('Mean squared error :', mean_squared_error(Y_test,y_pred))\n",
    "    print('Root Mean Squared Error:', np.sqrt(mean_squared_error(Y_test,y_pred)))\n",
    "    print('\\n')\n",
    "\n",
    "    print('\\033[1m'+' R2 Score :'+'\\033[0m')\n",
    "    print(r2_score(Y_test,y_pred)) "
   ]
  },
  {
   "cell_type": "markdown",
   "id": "e394c560-e3cc-4489-b417-ad3f9e3d8151",
   "metadata": {},
   "source": [
    "####  here the gradient boosting regressor gives the best r2 score so lets tune it using hyperparameter tuning"
   ]
  },
  {
   "cell_type": "markdown",
   "id": "cd4e87df-51df-4f41-a696-d23f083c6666",
   "metadata": {},
   "source": [
    "## Hyperparameter tuning"
   ]
  },
  {
   "cell_type": "code",
   "execution_count": 481,
   "id": "9852105e-95de-4c2c-ac45-05ae3f3f8e1b",
   "metadata": {},
   "outputs": [],
   "source": [
    "from sklearn.model_selection import GridSearchCV"
   ]
  },
  {
   "cell_type": "code",
   "execution_count": 486,
   "id": "0da505c6-f397-4a18-8b02-72453412da32",
   "metadata": {},
   "outputs": [],
   "source": [
    "param_grid = {\n",
    "    'max_depth': [3, 5, 7],\n",
    "    'learning_rate': [0.1, 0.5, 1],\n",
    "    'n_estimators': [50, 100, 200],\n",
    "    'subsample': [0.5, 0.8, 1.0],\n",
    "    'max_leaf_nodes': [10, 20, 30]\n",
    "}"
   ]
  },
  {
   "cell_type": "code",
   "execution_count": 487,
   "id": "c861e8cd-facb-4732-a16b-150ec4c21c9b",
   "metadata": {},
   "outputs": [],
   "source": [
    "GCV = GridSearchCV(GradientBoostingRegressor(),param_grid,cv=5,n_jobs = -1,verbose = 3)"
   ]
  },
  {
   "cell_type": "code",
   "execution_count": 488,
   "id": "25b0a4b6-0585-415f-b7a8-d8ef53f25cec",
   "metadata": {},
   "outputs": [
    {
     "name": "stdout",
     "output_type": "stream",
     "text": [
      "Fitting 5 folds for each of 243 candidates, totalling 1215 fits\n"
     ]
    },
    {
     "data": {
      "text/html": [
       "<style>#sk-container-id-1 {color: black;background-color: white;}#sk-container-id-1 pre{padding: 0;}#sk-container-id-1 div.sk-toggleable {background-color: white;}#sk-container-id-1 label.sk-toggleable__label {cursor: pointer;display: block;width: 100%;margin-bottom: 0;padding: 0.3em;box-sizing: border-box;text-align: center;}#sk-container-id-1 label.sk-toggleable__label-arrow:before {content: \"▸\";float: left;margin-right: 0.25em;color: #696969;}#sk-container-id-1 label.sk-toggleable__label-arrow:hover:before {color: black;}#sk-container-id-1 div.sk-estimator:hover label.sk-toggleable__label-arrow:before {color: black;}#sk-container-id-1 div.sk-toggleable__content {max-height: 0;max-width: 0;overflow: hidden;text-align: left;background-color: #f0f8ff;}#sk-container-id-1 div.sk-toggleable__content pre {margin: 0.2em;color: black;border-radius: 0.25em;background-color: #f0f8ff;}#sk-container-id-1 input.sk-toggleable__control:checked~div.sk-toggleable__content {max-height: 200px;max-width: 100%;overflow: auto;}#sk-container-id-1 input.sk-toggleable__control:checked~label.sk-toggleable__label-arrow:before {content: \"▾\";}#sk-container-id-1 div.sk-estimator input.sk-toggleable__control:checked~label.sk-toggleable__label {background-color: #d4ebff;}#sk-container-id-1 div.sk-label input.sk-toggleable__control:checked~label.sk-toggleable__label {background-color: #d4ebff;}#sk-container-id-1 input.sk-hidden--visually {border: 0;clip: rect(1px 1px 1px 1px);clip: rect(1px, 1px, 1px, 1px);height: 1px;margin: -1px;overflow: hidden;padding: 0;position: absolute;width: 1px;}#sk-container-id-1 div.sk-estimator {font-family: monospace;background-color: #f0f8ff;border: 1px dotted black;border-radius: 0.25em;box-sizing: border-box;margin-bottom: 0.5em;}#sk-container-id-1 div.sk-estimator:hover {background-color: #d4ebff;}#sk-container-id-1 div.sk-parallel-item::after {content: \"\";width: 100%;border-bottom: 1px solid gray;flex-grow: 1;}#sk-container-id-1 div.sk-label:hover label.sk-toggleable__label {background-color: #d4ebff;}#sk-container-id-1 div.sk-serial::before {content: \"\";position: absolute;border-left: 1px solid gray;box-sizing: border-box;top: 0;bottom: 0;left: 50%;z-index: 0;}#sk-container-id-1 div.sk-serial {display: flex;flex-direction: column;align-items: center;background-color: white;padding-right: 0.2em;padding-left: 0.2em;position: relative;}#sk-container-id-1 div.sk-item {position: relative;z-index: 1;}#sk-container-id-1 div.sk-parallel {display: flex;align-items: stretch;justify-content: center;background-color: white;position: relative;}#sk-container-id-1 div.sk-item::before, #sk-container-id-1 div.sk-parallel-item::before {content: \"\";position: absolute;border-left: 1px solid gray;box-sizing: border-box;top: 0;bottom: 0;left: 50%;z-index: -1;}#sk-container-id-1 div.sk-parallel-item {display: flex;flex-direction: column;z-index: 1;position: relative;background-color: white;}#sk-container-id-1 div.sk-parallel-item:first-child::after {align-self: flex-end;width: 50%;}#sk-container-id-1 div.sk-parallel-item:last-child::after {align-self: flex-start;width: 50%;}#sk-container-id-1 div.sk-parallel-item:only-child::after {width: 0;}#sk-container-id-1 div.sk-dashed-wrapped {border: 1px dashed gray;margin: 0 0.4em 0.5em 0.4em;box-sizing: border-box;padding-bottom: 0.4em;background-color: white;}#sk-container-id-1 div.sk-label label {font-family: monospace;font-weight: bold;display: inline-block;line-height: 1.2em;}#sk-container-id-1 div.sk-label-container {text-align: center;}#sk-container-id-1 div.sk-container {/* jupyter's `normalize.less` sets `[hidden] { display: none; }` but bootstrap.min.css set `[hidden] { display: none !important; }` so we also need the `!important` here to be able to override the default hidden behavior on the sphinx rendered scikit-learn.org. See: https://github.com/scikit-learn/scikit-learn/issues/21755 */display: inline-block !important;position: relative;}#sk-container-id-1 div.sk-text-repr-fallback {display: none;}</style><div id=\"sk-container-id-1\" class=\"sk-top-container\"><div class=\"sk-text-repr-fallback\"><pre>GridSearchCV(cv=5, estimator=GradientBoostingRegressor(), n_jobs=-1,\n",
       "             param_grid={&#x27;learning_rate&#x27;: [0.1, 0.5, 1], &#x27;max_depth&#x27;: [3, 5, 7],\n",
       "                         &#x27;max_leaf_nodes&#x27;: [10, 20, 30],\n",
       "                         &#x27;n_estimators&#x27;: [50, 100, 200],\n",
       "                         &#x27;subsample&#x27;: [0.5, 0.8, 1.0]},\n",
       "             verbose=3)</pre><b>In a Jupyter environment, please rerun this cell to show the HTML representation or trust the notebook. <br />On GitHub, the HTML representation is unable to render, please try loading this page with nbviewer.org.</b></div><div class=\"sk-container\" hidden><div class=\"sk-item sk-dashed-wrapped\"><div class=\"sk-label-container\"><div class=\"sk-label sk-toggleable\"><input class=\"sk-toggleable__control sk-hidden--visually\" id=\"sk-estimator-id-1\" type=\"checkbox\" ><label for=\"sk-estimator-id-1\" class=\"sk-toggleable__label sk-toggleable__label-arrow\">GridSearchCV</label><div class=\"sk-toggleable__content\"><pre>GridSearchCV(cv=5, estimator=GradientBoostingRegressor(), n_jobs=-1,\n",
       "             param_grid={&#x27;learning_rate&#x27;: [0.1, 0.5, 1], &#x27;max_depth&#x27;: [3, 5, 7],\n",
       "                         &#x27;max_leaf_nodes&#x27;: [10, 20, 30],\n",
       "                         &#x27;n_estimators&#x27;: [50, 100, 200],\n",
       "                         &#x27;subsample&#x27;: [0.5, 0.8, 1.0]},\n",
       "             verbose=3)</pre></div></div></div><div class=\"sk-parallel\"><div class=\"sk-parallel-item\"><div class=\"sk-item\"><div class=\"sk-label-container\"><div class=\"sk-label sk-toggleable\"><input class=\"sk-toggleable__control sk-hidden--visually\" id=\"sk-estimator-id-2\" type=\"checkbox\" ><label for=\"sk-estimator-id-2\" class=\"sk-toggleable__label sk-toggleable__label-arrow\">estimator: GradientBoostingRegressor</label><div class=\"sk-toggleable__content\"><pre>GradientBoostingRegressor()</pre></div></div></div><div class=\"sk-serial\"><div class=\"sk-item\"><div class=\"sk-estimator sk-toggleable\"><input class=\"sk-toggleable__control sk-hidden--visually\" id=\"sk-estimator-id-3\" type=\"checkbox\" ><label for=\"sk-estimator-id-3\" class=\"sk-toggleable__label sk-toggleable__label-arrow\">GradientBoostingRegressor</label><div class=\"sk-toggleable__content\"><pre>GradientBoostingRegressor()</pre></div></div></div></div></div></div></div></div></div></div>"
      ],
      "text/plain": [
       "GridSearchCV(cv=5, estimator=GradientBoostingRegressor(), n_jobs=-1,\n",
       "             param_grid={'learning_rate': [0.1, 0.5, 1], 'max_depth': [3, 5, 7],\n",
       "                         'max_leaf_nodes': [10, 20, 30],\n",
       "                         'n_estimators': [50, 100, 200],\n",
       "                         'subsample': [0.5, 0.8, 1.0]},\n",
       "             verbose=3)"
      ]
     },
     "execution_count": 488,
     "metadata": {},
     "output_type": "execute_result"
    }
   ],
   "source": [
    "GCV.fit(X_train,Y_train)"
   ]
  },
  {
   "cell_type": "code",
   "execution_count": 489,
   "id": "0c1955cf-e919-4d07-b91c-98f5e2e171fb",
   "metadata": {},
   "outputs": [
    {
     "data": {
      "text/plain": [
       "{'learning_rate': 0.1,\n",
       " 'max_depth': 5,\n",
       " 'max_leaf_nodes': 20,\n",
       " 'n_estimators': 100,\n",
       " 'subsample': 1.0}"
      ]
     },
     "execution_count": 489,
     "metadata": {},
     "output_type": "execute_result"
    }
   ],
   "source": [
    "GCV.best_params_"
   ]
  },
  {
   "cell_type": "markdown",
   "id": "9586ef0e-973e-47f1-99fb-5a66d77afd72",
   "metadata": {},
   "source": [
    "## Final model"
   ]
  },
  {
   "cell_type": "code",
   "execution_count": 490,
   "id": "aea7dfbd-ab1d-49da-a11d-2e0c72a8423d",
   "metadata": {},
   "outputs": [
    {
     "name": "stdout",
     "output_type": "stream",
     "text": [
      "\n",
      "\n",
      "\u001b[1m Error in Final Model :\u001b[0m\n",
      "Mean absolute error : 163.5168630346655\n",
      "Mean squared error : 167765.22971277768\n",
      "Root Mean Squared Error: 409.59154008936474\n",
      "\n",
      "\n",
      "\u001b[1m R2 Score of Final Model :\u001b[0m\n",
      "0.8459218398280738\n",
      "\n",
      "\n"
     ]
    }
   ],
   "source": [
    "Final_mod = GradientBoostingRegressor(learning_rate= 0.1,\n",
    " max_depth = 5,\n",
    " max_leaf_nodes= 20,\n",
    " n_estimators= 100,\n",
    " subsample=1)\n",
    "Final_mod.fit(X_train,Y_train)\n",
    "y_pred=Final_mod.predict(X_test)\n",
    "print('\\n')                                        \n",
    "print('\\033[1m'+' Error in Final Model :' +'\\033[0m')\n",
    "print('Mean absolute error :', mean_absolute_error(Y_test,y_pred))\n",
    "print('Mean squared error :', mean_squared_error(Y_test,y_pred))\n",
    "print('Root Mean Squared Error:', np.sqrt(mean_squared_error(Y_test,y_pred)))\n",
    "print('\\n')\n",
    "print('\\033[1m'+' R2 Score of Final Model :'+'\\033[0m')\n",
    "print(r2_score(Y_test,y_pred)) \n",
    "print('\\n')"
   ]
  },
  {
   "cell_type": "code",
   "execution_count": 491,
   "id": "7fd88211-f023-4245-a745-b4940b40660c",
   "metadata": {},
   "outputs": [
    {
     "name": "stdout",
     "output_type": "stream",
     "text": [
      "\u001b[1m True Values Vs Predicted Value plot :\u001b[0m\n"
     ]
    },
    {
     "data": {
      "image/png": "[encoded data removed]",
      "text/plain": [
       "<Figure size 600x500 with 1 Axes>"
      ]
     },
     "metadata": {},
     "output_type": "display_data"
    }
   ],
   "source": [
    "plt.figure(figsize=(6,5))\n",
    "y_pred=Final_mod.predict(X_test)\n",
    "sns.swarmplot(x=Y_test.round(2),y= y_pred)\n",
    "print('\\033[1m'+' True Values Vs Predicted Value plot :' +'\\033[0m')\n",
    "plt.xlabel('True Values' , fontsize=15)\n",
    "plt.ylabel('Predictions', fontsize=15)\n",
    "plt.tight_layout()"
   ]
  },
  {
   "cell_type": "markdown",
   "id": "2bf5ac02-1b8f-4f58-ab75-5a181239c707",
   "metadata": {},
   "source": [
    "## saving the regressor model"
   ]
  },
  {
   "cell_type": "code",
   "execution_count": 492,
   "id": "e27e8a89-b42c-4cd7-b8c8-f5951a96fa19",
   "metadata": {},
   "outputs": [
    {
     "data": {
      "text/plain": [
       "['Average_Cost_OF_two.pkl']"
      ]
     },
     "execution_count": 492,
     "metadata": {},
     "output_type": "execute_result"
    }
   ],
   "source": [
    "import joblib\n",
    "joblib.dump(Final_mod,'Average_Cost_OF_two.pkl')"
   ]
  },
  {
   "cell_type": "markdown",
   "id": "3c01bd1c-eff8-497c-a4ef-742e1cad1da9",
   "metadata": {},
   "source": [
    "# 2) CLassification model for the prediction of price range"
   ]
  },
  {
   "cell_type": "code",
   "execution_count": 493,
   "id": "2b84dc0c-45cf-45f4-b965-b8b6d52059f4",
   "metadata": {},
   "outputs": [
    {
     "data": {
      "text/html": [
       "<div>\n",
       "<style scoped>\n",
       "    .dataframe tbody tr th:only-of-type {\n",
       "        vertical-align: middle;\n",
       "    }\n",
       "\n",
       "    .dataframe tbody tr th {\n",
       "        vertical-align: top;\n",
       "    }\n",
       "\n",
       "    .dataframe thead th {\n",
       "        text-align: right;\n",
       "    }\n",
       "</style>\n",
       "<table border=\"1\" class=\"dataframe\">\n",
       "  <thead>\n",
       "    <tr style=\"text-align: right;\">\n",
       "      <th></th>\n",
       "      <th>City</th>\n",
       "      <th>Cuisines</th>\n",
       "      <th>Has Table booking</th>\n",
       "      <th>Has Online delivery</th>\n",
       "      <th>Is delivering now</th>\n",
       "      <th>Price range</th>\n",
       "      <th>Aggregate rating</th>\n",
       "      <th>Rating text</th>\n",
       "      <th>Country</th>\n",
       "      <th>Average Cost for two in INR</th>\n",
       "    </tr>\n",
       "  </thead>\n",
       "  <tbody>\n",
       "    <tr>\n",
       "      <th>0</th>\n",
       "      <td>1</td>\n",
       "      <td>1514</td>\n",
       "      <td>0</td>\n",
       "      <td>0</td>\n",
       "      <td>0</td>\n",
       "      <td>2</td>\n",
       "      <td>22</td>\n",
       "      <td>2</td>\n",
       "      <td>3</td>\n",
       "      <td>850</td>\n",
       "    </tr>\n",
       "    <tr>\n",
       "      <th>1</th>\n",
       "      <td>1</td>\n",
       "      <td>1514</td>\n",
       "      <td>0</td>\n",
       "      <td>0</td>\n",
       "      <td>0</td>\n",
       "      <td>1</td>\n",
       "      <td>18</td>\n",
       "      <td>2</td>\n",
       "      <td>3</td>\n",
       "      <td>700</td>\n",
       "    </tr>\n",
       "    <tr>\n",
       "      <th>2</th>\n",
       "      <td>1</td>\n",
       "      <td>1306</td>\n",
       "      <td>0</td>\n",
       "      <td>0</td>\n",
       "      <td>0</td>\n",
       "      <td>1</td>\n",
       "      <td>19</td>\n",
       "      <td>2</td>\n",
       "      <td>3</td>\n",
       "      <td>500</td>\n",
       "    </tr>\n",
       "    <tr>\n",
       "      <th>3</th>\n",
       "      <td>1</td>\n",
       "      <td>1645</td>\n",
       "      <td>0</td>\n",
       "      <td>0</td>\n",
       "      <td>0</td>\n",
       "      <td>1</td>\n",
       "      <td>23</td>\n",
       "      <td>5</td>\n",
       "      <td>3</td>\n",
       "      <td>400</td>\n",
       "    </tr>\n",
       "    <tr>\n",
       "      <th>4</th>\n",
       "      <td>1</td>\n",
       "      <td>1373</td>\n",
       "      <td>0</td>\n",
       "      <td>0</td>\n",
       "      <td>0</td>\n",
       "      <td>2</td>\n",
       "      <td>25</td>\n",
       "      <td>5</td>\n",
       "      <td>3</td>\n",
       "      <td>1000</td>\n",
       "    </tr>\n",
       "  </tbody>\n",
       "</table>\n",
       "</div>"
      ],
      "text/plain": [
       "   City  Cuisines  Has Table booking  Has Online delivery  Is delivering now  \\\n",
       "0     1      1514                  0                    0                  0   \n",
       "1     1      1514                  0                    0                  0   \n",
       "2     1      1306                  0                    0                  0   \n",
       "3     1      1645                  0                    0                  0   \n",
       "4     1      1373                  0                    0                  0   \n",
       "\n",
       "   Price range  Aggregate rating  Rating text  Country  \\\n",
       "0            2                22            2        3   \n",
       "1            1                18            2        3   \n",
       "2            1                19            2        3   \n",
       "3            1                23            5        3   \n",
       "4            2                25            5        3   \n",
       "\n",
       "   Average Cost for two in INR  \n",
       "0                          850  \n",
       "1                          700  \n",
       "2                          500  \n",
       "3                          400  \n",
       "4                         1000  "
      ]
     },
     "execution_count": 493,
     "metadata": {},
     "output_type": "execute_result"
    }
   ],
   "source": [
    "df.head()"
   ]
  },
  {
   "cell_type": "code",
   "execution_count": 494,
   "id": "98abb4b4-b71a-4687-bb22-7b87271736ed",
   "metadata": {},
   "outputs": [],
   "source": [
    "X=df.drop(\"Price range\",axis=1)\n",
    "Y=df[\"Price range\"]"
   ]
  },
  {
   "cell_type": "markdown",
   "id": "4fd49fd5-131b-4f8c-bb2e-1c385369b5e3",
   "metadata": {},
   "source": [
    "##  Balancing Imbalanced Target variable feature\n"
   ]
  },
  {
   "cell_type": "code",
   "execution_count": 495,
   "id": "255906bc-f37f-4cf8-aa5e-ee7edb60ba2e",
   "metadata": {},
   "outputs": [
    {
     "data": {
      "text/plain": [
       "Price range\n",
       "0    4444\n",
       "1    3113\n",
       "2    1408\n",
       "3     586\n",
       "Name: count, dtype: int64"
      ]
     },
     "execution_count": 495,
     "metadata": {},
     "output_type": "execute_result"
    }
   ],
   "source": [
    "df[\"Price range\"].value_counts()"
   ]
  },
  {
   "cell_type": "code",
   "execution_count": 496,
   "id": "0421bf80-8d21-4691-a8f8-1d19d932aa15",
   "metadata": {},
   "outputs": [],
   "source": [
    "# Balancing using smote\n",
    "from imblearn.over_sampling import SMOTE"
   ]
  },
  {
   "cell_type": "code",
   "execution_count": 497,
   "id": "139f1bc2-c0c2-475a-ad77-ad4253b16a55",
   "metadata": {},
   "outputs": [],
   "source": [
    "# Oversampleing using SMOTE Techniques\n",
    "oversample = SMOTE()\n",
    "X, Y = oversample.fit_resample(X, Y)"
   ]
  },
  {
   "cell_type": "code",
   "execution_count": 498,
   "id": "b1427eb1-db6b-48d0-8005-a14eb533ecac",
   "metadata": {},
   "outputs": [
    {
     "data": {
      "text/plain": [
       "Price range\n",
       "2    4444\n",
       "1    4444\n",
       "3    4444\n",
       "0    4444\n",
       "Name: count, dtype: int64"
      ]
     },
     "execution_count": 498,
     "metadata": {},
     "output_type": "execute_result"
    }
   ],
   "source": [
    "Y.value_counts()"
   ]
  },
  {
   "cell_type": "markdown",
   "id": "6bbf0b8d-9d68-41ee-b90c-38a8bcb47f41",
   "metadata": {},
   "source": [
    "## Machine Learning Model Building"
   ]
  },
  {
   "cell_type": "code",
   "execution_count": 499,
   "id": "c9f80e04-84ae-40b4-b563-db72fe63c643",
   "metadata": {},
   "outputs": [],
   "source": [
    "from sklearn.model_selection import train_test_split\n",
    "from sklearn.linear_model import LogisticRegression\n",
    "from sklearn.naive_bayes import GaussianNB\n",
    "from sklearn.svm import SVC\n",
    "from sklearn.tree import DecisionTreeClassifier\n",
    "from sklearn.neighbors import KNeighborsClassifier\n",
    "from sklearn.ensemble import RandomForestClassifier\n",
    "from sklearn.ensemble import ExtraTreesClassifier\n",
    "from sklearn.neighbors import KNeighborsClassifier\n",
    "from sklearn.metrics import accuracy_score, confusion_matrix,classification_report,f1_score"
   ]
  },
  {
   "cell_type": "code",
   "execution_count": 501,
   "id": "ad8320db-4614-4295-8031-ced36172e417",
   "metadata": {},
   "outputs": [
    {
     "name": "stdout",
     "output_type": "stream",
     "text": [
      "Training feature matrix size: (12443, 9)\n",
      "Training target vector size: (12443,)\n",
      "Test feature matrix size: (5333, 9)\n",
      "Test target vector size: (5333,)\n"
     ]
    }
   ],
   "source": [
    "X_train, X_test, Y_train, Y_test = train_test_split(X, Y, random_state=99, test_size=.3)\n",
    "print('Training feature matrix size:',X_train.shape)\n",
    "print('Training target vector size:',Y_train.shape)\n",
    "print('Test feature matrix size:',X_test.shape)\n",
    "print('Test target vector size:',Y_test.shape)"
   ]
  },
  {
   "cell_type": "markdown",
   "id": "9b4ca468-2cbc-44b5-a02f-d07ac7908849",
   "metadata": {},
   "source": [
    "## Finding best Random state\n"
   ]
  },
  {
   "cell_type": "code",
   "execution_count": 503,
   "id": "dbd81a3a-76a5-4bf2-893c-d2155ed7e351",
   "metadata": {},
   "outputs": [
    {
     "name": "stdout",
     "output_type": "stream",
     "text": [
      "Best accuracy is 0.7378586161635102 on Random_state 91\n"
     ]
    }
   ],
   "source": [
    "from sklearn.linear_model import LogisticRegression\n",
    "from sklearn.metrics import accuracy_score, confusion_matrix,classification_report,f1_score\n",
    "maxAccu=0\n",
    "maxRS=0\n",
    "for i in range(1,250):\n",
    "    X_train,X_test,Y_train,Y_test = train_test_split(X,Y,test_size = 0.3, random_state=i)\n",
    "    log_reg=LogisticRegression()\n",
    "    log_reg.fit(X_train,Y_train)\n",
    "    y_pred=log_reg.predict(X_test)\n",
    "    acc=accuracy_score(Y_test,y_pred)\n",
    "    if acc>maxAccu:\n",
    "        maxAccu=acc\n",
    "        maxRS=i\n",
    "print('Best accuracy is', maxAccu ,'on Random_state', maxRS)"
   ]
  },
  {
   "cell_type": "code",
   "execution_count": 504,
   "id": "5ab16269-0509-48d2-a69b-940c2d676d51",
   "metadata": {},
   "outputs": [
    {
     "name": "stdout",
     "output_type": "stream",
     "text": [
      "\u001b[1mLogistics Regression Evaluation\u001b[0m\n",
      "\n",
      "\n",
      "\u001b[1mAccuracy Score of Logistics Regression :\u001b[0m 0.7378586161635102\n",
      "\n",
      "\n",
      "\u001b[1mConfusion matrix of Logistics Regression :\u001b[0m \n",
      " [[1176  136   27    1]\n",
      " [ 125 1011  205   18]\n",
      " [  10  263  793  218]\n",
      " [   6   13  376  955]]\n",
      "\n",
      "\n",
      "\u001b[1mclassification Report of Logistics Regression\u001b[0m \n",
      "               precision    recall  f1-score   support\n",
      "\n",
      "           0       0.89      0.88      0.89      1340\n",
      "           1       0.71      0.74      0.73      1359\n",
      "           2       0.57      0.62      0.59      1284\n",
      "           3       0.80      0.71      0.75      1350\n",
      "\n",
      "    accuracy                           0.74      5333\n",
      "   macro avg       0.74      0.74      0.74      5333\n",
      "weighted avg       0.74      0.74      0.74      5333\n",
      "\n"
     ]
    }
   ],
   "source": [
    "X_train, X_test, Y_train, Y_test = train_test_split(X, Y, random_state=91, test_size=.3)\n",
    "log_reg=LogisticRegression()\n",
    "log_reg.fit(X_train,Y_train)\n",
    "y_pred=log_reg.predict(X_test)\n",
    "print('\\033[1m'+'Logistics Regression Evaluation'+'\\033[0m')\n",
    "print('\\n')\n",
    "print('\\033[1m'+'Accuracy Score of Logistics Regression :'+'\\033[0m', accuracy_score(Y_test, y_pred))\n",
    "print('\\n')\n",
    "print('\\033[1m'+'Confusion matrix of Logistics Regression :'+'\\033[0m \\n',confusion_matrix(Y_test, y_pred))\n",
    "print('\\n')\n",
    "print('\\033[1m'+'classification Report of Logistics Regression'+'\\033[0m \\n',classification_report(Y_test, y_pred))"
   ]
  },
  {
   "cell_type": "markdown",
   "id": "6cc36ee5-0d9b-4d37-87bb-364c704922ea",
   "metadata": {},
   "source": [
    "## Finding Optimal value of n_neighbors for KNN"
   ]
  },
  {
   "cell_type": "code",
   "execution_count": 505,
   "id": "67f4ff30-4704-4e04-a0d8-d96482aaf596",
   "metadata": {},
   "outputs": [
    {
     "name": "stdout",
     "output_type": "stream",
     "text": [
      "RMSE value for k=  1 is: 0.24648285358685607\n",
      "RMSE value for k=  2 is: 0.2765949774468922\n",
      "RMSE value for k=  3 is: 0.2772720775480498\n",
      "RMSE value for k=  4 is: 0.29369268115146335\n",
      "RMSE value for k=  5 is: 0.2885397779340236\n",
      "RMSE value for k=  6 is: 0.3031183639214377\n",
      "RMSE value for k=  7 is: 0.3052758172256467\n",
      "RMSE value for k=  8 is: 0.3092425859031361\n",
      "RMSE value for k=  9 is: 0.31732285351371264\n",
      "RMSE value for k=  10 is: 0.31613880888646884\n",
      "RMSE value for k=  11 is: 0.32143266392020536\n",
      "RMSE value for k=  12 is: 0.32404716155242264\n",
      "RMSE value for k=  13 is: 0.3249139856464004\n",
      "RMSE value for k=  14 is: 0.3357000795486398\n",
      "RMSE value for k=  15 is: 0.3420633171754315\n",
      "RMSE value for k=  16 is: 0.34315792258811345\n",
      "RMSE value for k=  17 is: 0.35523990092851443\n",
      "RMSE value for k=  18 is: 0.35681992311051736\n",
      "RMSE value for k=  19 is: 0.36332939671275877\n",
      "RMSE value for k=  20 is: 0.36590076210699796\n"
     ]
    }
   ],
   "source": [
    "from sklearn import neighbors\n",
    "from math import sqrt\n",
    "from sklearn.metrics import mean_squared_error\n",
    "rmse_val = [] #to store rmse values for different k\n",
    "for K in range(20):\n",
    "    K = K+1\n",
    "    model = neighbors.KNeighborsClassifier(n_neighbors = K)\n",
    "\n",
    "    model.fit(X_train,Y_train)  #fit the model\n",
    "    y_pred=model.predict(X_test) #make prediction on test set\n",
    "    error = sqrt(mean_squared_error(Y_test,y_pred)) #calculate rmse\n",
    "    rmse_val.append(error) #store rmse values\n",
    "    print('RMSE value for k= ' , K , 'is:', error)"
   ]
  },
  {
   "cell_type": "code",
   "execution_count": 506,
   "id": "376360cd-0258-4b21-91df-4f1237fd3a6b",
   "metadata": {},
   "outputs": [
    {
     "data": {
      "text/plain": [
       "[<matplotlib.lines.Line2D at 0x25e5d484810>]"
      ]
     },
     "execution_count": 506,
     "metadata": {},
     "output_type": "execute_result"
    },
    {
     "data": {
      "image/png": "[encoded data removed]",
      "text/plain": [
       "<Figure size 800x600 with 1 Axes>"
      ]
     },
     "metadata": {},
     "output_type": "display_data"
    }
   ],
   "source": [
    "#plotting the rmse values against k values -\n",
    "plt.figure(figsize = (8,6))\n",
    "plt.plot(range(20), rmse_val, color='blue', linestyle='dashed', marker='o', markerfacecolor='green', markersize=10)"
   ]
  },
  {
   "cell_type": "markdown",
   "id": "8a52a53e-b692-44f3-bc31-6dd01bd91514",
   "metadata": {},
   "source": [
    "at k= 1 we got the lowest RMSE value so we will consider that furter"
   ]
  },
  {
   "cell_type": "markdown",
   "id": "c795d5d1-bf13-4fd0-866e-d0dc6fd19aa6",
   "metadata": {},
   "source": [
    "## Applying other classification algorithm\n"
   ]
  },
  {
   "cell_type": "code",
   "execution_count": 507,
   "id": "aa56cb03-8bf3-4ee6-9ecd-13c6814a25fa",
   "metadata": {},
   "outputs": [
    {
     "name": "stdout",
     "output_type": "stream",
     "text": [
      "\u001b[1mClassification ML Algorithm Evaluation Matrix LogisticRegression() is\u001b[0m\n",
      "\n",
      "\n",
      "\u001b[1mAccuracy Score :\u001b[0m\n",
      " 0.7378586161635102\n",
      "\n",
      "\n",
      "\u001b[1mConfusion matrix :\u001b[0m \n",
      " [[1176  136   27    1]\n",
      " [ 125 1011  205   18]\n",
      " [  10  263  793  218]\n",
      " [   6   13  376  955]]\n",
      "\n",
      "\n",
      "\u001b[1mClassification Report :\u001b[0m \n",
      "               precision    recall  f1-score   support\n",
      "\n",
      "           0       0.89      0.88      0.89      1340\n",
      "           1       0.71      0.74      0.73      1359\n",
      "           2       0.57      0.62      0.59      1284\n",
      "           3       0.80      0.71      0.75      1350\n",
      "\n",
      "    accuracy                           0.74      5333\n",
      "   macro avg       0.74      0.74      0.74      5333\n",
      "weighted avg       0.74      0.74      0.74      5333\n",
      "\n",
      "\n",
      "\n",
      "============================================================================================================\n",
      "\u001b[1mClassification ML Algorithm Evaluation Matrix SVC() is\u001b[0m\n",
      "\n",
      "\n",
      "\u001b[1mAccuracy Score :\u001b[0m\n",
      " 0.8374273392087005\n",
      "\n",
      "\n",
      "\u001b[1mConfusion matrix :\u001b[0m \n",
      " [[1255   84    1    0]\n",
      " [  35 1187   52   85]\n",
      " [  16   98  879  291]\n",
      " [   4    5  196 1145]]\n",
      "\n",
      "\n",
      "\u001b[1mClassification Report :\u001b[0m \n",
      "               precision    recall  f1-score   support\n",
      "\n",
      "           0       0.96      0.94      0.95      1340\n",
      "           1       0.86      0.87      0.87      1359\n",
      "           2       0.78      0.68      0.73      1284\n",
      "           3       0.75      0.85      0.80      1350\n",
      "\n",
      "    accuracy                           0.84      5333\n",
      "   macro avg       0.84      0.84      0.84      5333\n",
      "weighted avg       0.84      0.84      0.84      5333\n",
      "\n",
      "\n",
      "\n",
      "============================================================================================================\n",
      "\u001b[1mClassification ML Algorithm Evaluation Matrix GaussianNB() is\u001b[0m\n",
      "\n",
      "\n",
      "\u001b[1mAccuracy Score :\u001b[0m\n",
      " 0.6096006000375024\n",
      "\n",
      "\n",
      "\u001b[1mConfusion matrix :\u001b[0m \n",
      " [[1281   15   40    4]\n",
      " [ 634  522  181   22]\n",
      " [  14  378  682  210]\n",
      " [   0   41  543  766]]\n",
      "\n",
      "\n",
      "\u001b[1mClassification Report :\u001b[0m \n",
      "               precision    recall  f1-score   support\n",
      "\n",
      "           0       0.66      0.96      0.78      1340\n",
      "           1       0.55      0.38      0.45      1359\n",
      "           2       0.47      0.53      0.50      1284\n",
      "           3       0.76      0.57      0.65      1350\n",
      "\n",
      "    accuracy                           0.61      5333\n",
      "   macro avg       0.61      0.61      0.60      5333\n",
      "weighted avg       0.61      0.61      0.60      5333\n",
      "\n",
      "\n",
      "\n",
      "============================================================================================================\n",
      "\u001b[1mClassification ML Algorithm Evaluation Matrix DecisionTreeClassifier() is\u001b[0m\n",
      "\n",
      "\n",
      "\u001b[1mAccuracy Score :\u001b[0m\n",
      " 0.9714982186386649\n",
      "\n",
      "\n",
      "\u001b[1mConfusion matrix :\u001b[0m \n",
      " [[1331    9    0    0]\n",
      " [  12 1315   28    4]\n",
      " [   0   23 1224   37]\n",
      " [   0    5   34 1311]]\n",
      "\n",
      "\n",
      "\u001b[1mClassification Report :\u001b[0m \n",
      "               precision    recall  f1-score   support\n",
      "\n",
      "           0       0.99      0.99      0.99      1340\n",
      "           1       0.97      0.97      0.97      1359\n",
      "           2       0.95      0.95      0.95      1284\n",
      "           3       0.97      0.97      0.97      1350\n",
      "\n",
      "    accuracy                           0.97      5333\n",
      "   macro avg       0.97      0.97      0.97      5333\n",
      "weighted avg       0.97      0.97      0.97      5333\n",
      "\n",
      "\n",
      "\n",
      "============================================================================================================\n",
      "\u001b[1mClassification ML Algorithm Evaluation Matrix KNeighborsClassifier(n_neighbors=1) is\u001b[0m\n",
      "\n",
      "\n",
      "\u001b[1mAccuracy Score :\u001b[0m\n",
      " 0.9583723982748922\n",
      "\n",
      "\n",
      "\u001b[1mConfusion matrix :\u001b[0m \n",
      " [[1319   16    4    1]\n",
      " [  30 1295   28    6]\n",
      " [   6   24 1207   47]\n",
      " [   5    2   53 1290]]\n",
      "\n",
      "\n",
      "\u001b[1mClassification Report :\u001b[0m \n",
      "               precision    recall  f1-score   support\n",
      "\n",
      "           0       0.97      0.98      0.98      1340\n",
      "           1       0.97      0.95      0.96      1359\n",
      "           2       0.93      0.94      0.94      1284\n",
      "           3       0.96      0.96      0.96      1350\n",
      "\n",
      "    accuracy                           0.96      5333\n",
      "   macro avg       0.96      0.96      0.96      5333\n",
      "weighted avg       0.96      0.96      0.96      5333\n",
      "\n",
      "\n",
      "\n",
      "============================================================================================================\n",
      "\u001b[1mClassification ML Algorithm Evaluation Matrix RandomForestClassifier() is\u001b[0m\n",
      "\n",
      "\n",
      "\u001b[1mAccuracy Score :\u001b[0m\n",
      " 0.9771235702231389\n",
      "\n",
      "\n",
      "\u001b[1mConfusion matrix :\u001b[0m \n",
      " [[1335    4    1    0]\n",
      " [  18 1321   15    5]\n",
      " [   0   20 1230   34]\n",
      " [   0    0   25 1325]]\n",
      "\n",
      "\n",
      "\u001b[1mClassification Report :\u001b[0m \n",
      "               precision    recall  f1-score   support\n",
      "\n",
      "           0       0.99      1.00      0.99      1340\n",
      "           1       0.98      0.97      0.98      1359\n",
      "           2       0.97      0.96      0.96      1284\n",
      "           3       0.97      0.98      0.98      1350\n",
      "\n",
      "    accuracy                           0.98      5333\n",
      "   macro avg       0.98      0.98      0.98      5333\n",
      "weighted avg       0.98      0.98      0.98      5333\n",
      "\n",
      "\n",
      "\n",
      "============================================================================================================\n",
      "\u001b[1mClassification ML Algorithm Evaluation Matrix ExtraTreesClassifier() is\u001b[0m\n",
      "\n",
      "\n",
      "\u001b[1mAccuracy Score :\u001b[0m\n",
      " 0.9636227264204013\n",
      "\n",
      "\n",
      "\u001b[1mConfusion matrix :\u001b[0m \n",
      " [[1331    9    0    0]\n",
      " [  12 1305   36    6]\n",
      " [   0   32 1197   55]\n",
      " [   0    0   44 1306]]\n",
      "\n",
      "\n",
      "\u001b[1mClassification Report :\u001b[0m \n",
      "               precision    recall  f1-score   support\n",
      "\n",
      "           0       0.99      0.99      0.99      1340\n",
      "           1       0.97      0.96      0.96      1359\n",
      "           2       0.94      0.93      0.93      1284\n",
      "           3       0.96      0.97      0.96      1350\n",
      "\n",
      "    accuracy                           0.96      5333\n",
      "   macro avg       0.96      0.96      0.96      5333\n",
      "weighted avg       0.96      0.96      0.96      5333\n",
      "\n",
      "\n",
      "\n",
      "============================================================================================================\n"
     ]
    }
   ],
   "source": [
    "model=[ LogisticRegression(),\n",
    "        SVC(),\n",
    "        GaussianNB(),\n",
    "        DecisionTreeClassifier(),\n",
    "        KNeighborsClassifier(n_neighbors = 1),\n",
    "        RandomForestClassifier(),\n",
    "        ExtraTreesClassifier()]\n",
    "        \n",
    "for m in model:\n",
    "    m.fit(X_train,Y_train)\n",
    "    y_pred=m.predict(X_test)\n",
    "    print('\\033[1m'+'Classification ML Algorithm Evaluation Matrix',m,'is' +'\\033[0m')\n",
    "    print('\\n')\n",
    "    print('\\033[1m'+'Accuracy Score :'+'\\033[0m\\n', accuracy_score(Y_test, y_pred))\n",
    "    print('\\n')\n",
    "    print('\\033[1m'+'Confusion matrix :'+'\\033[0m \\n',confusion_matrix(Y_test, y_pred))\n",
    "    print('\\n')\n",
    "    print('\\033[1m'+'Classification Report :'+'\\033[0m \\n',classification_report(Y_test, y_pred))\n",
    "    print('\\n')\n",
    "    print('============================================================================================================')"
   ]
  },
  {
   "cell_type": "markdown",
   "id": "5dfb0537-751d-46e7-85bd-e728b66b608d",
   "metadata": {},
   "source": [
    "## CrossValidation"
   ]
  },
  {
   "cell_type": "code",
   "execution_count": 509,
   "id": "d6de8d89-5e61-4458-a4c1-5b4e233b1c35",
   "metadata": {},
   "outputs": [
    {
     "name": "stdout",
     "output_type": "stream",
     "text": [
      "\n",
      "\n",
      "\u001b[1mCross Validation Score LogisticRegression() :\u001b[0m\n",
      "\n",
      "Score : [0.61614173 0.73080169 0.76933896 0.70970464 0.71420534]\n",
      "Mean Score : 0.7080384730389714\n",
      "Std deviation : 0.05052075005914527\n",
      "\n",
      "\n",
      "============================================================================================================\n",
      "\n",
      "\n",
      "\u001b[1mCross Validation Score SVC() :\u001b[0m\n",
      "\n",
      "Score : [0.89004499 0.83403657 0.87144866 0.78059072 0.78818565]\n",
      "Mean Score : 0.8328613195502461\n",
      "Std deviation : 0.04356252510498237\n",
      "\n",
      "\n",
      "============================================================================================================\n",
      "\n",
      "\n",
      "\u001b[1mCross Validation Score GaussianNB() :\u001b[0m\n",
      "\n",
      "Score : [0.58070866 0.58087201 0.59212377 0.62165963 0.56624473]\n",
      "Mean Score : 0.5883217604128598\n",
      "Std deviation : 0.01858344751264744\n",
      "\n",
      "\n",
      "============================================================================================================\n",
      "\n",
      "\n",
      "\u001b[1mCross Validation Score DecisionTreeClassifier() :\u001b[0m\n",
      "\n",
      "Score : [0.77587177 0.96849508 0.97440225 0.95555556 0.92039381]\n",
      "Mean Score : 0.9189436921650616\n",
      "Std deviation : 0.07395011681637018\n",
      "\n",
      "\n",
      "============================================================================================================\n",
      "\n",
      "\n",
      "\u001b[1mCross Validation Score KNeighborsClassifier(n_neighbors=1) :\u001b[0m\n",
      "\n",
      "Score : [0.93785152 0.96568214 0.97327707 0.95527426 0.93727145]\n",
      "Mean Score : 0.9538712882408686\n",
      "Std deviation : 0.014493010308236768\n",
      "\n",
      "\n",
      "============================================================================================================\n",
      "\n",
      "\n",
      "\u001b[1mCross Validation Score RandomForestClassifier() :\u001b[0m\n",
      "\n",
      "Score : [0.84533183 0.97749648 0.98424754 0.95386779 0.93248945]\n",
      "Mean Score : 0.938686619868719\n",
      "Std deviation : 0.050131810012662245\n",
      "\n",
      "\n",
      "============================================================================================================\n",
      "\n",
      "\n",
      "\u001b[1mCross Validation Score ExtraTreesClassifier() :\u001b[0m\n",
      "\n",
      "Score : [0.77530934 0.96540084 0.97777778 0.9440225  0.89845288]\n",
      "Mean Score : 0.9121926689543555\n",
      "Std deviation : 0.0735819043068506\n",
      "\n",
      "\n",
      "============================================================================================================\n"
     ]
    }
   ],
   "source": [
    "from sklearn.model_selection import cross_val_score\n",
    "model=[LogisticRegression(),\n",
    "        SVC(),\n",
    "        GaussianNB(),\n",
    "        DecisionTreeClassifier(),\n",
    "        KNeighborsClassifier(n_neighbors = 1),\n",
    "        RandomForestClassifier(),\n",
    "        ExtraTreesClassifier()]\n",
    "\n",
    "for m in model:\n",
    "    score = cross_val_score(m, X, Y, cv =5)\n",
    "    print('\\n')\n",
    "    print('\\033[1m'+'Cross Validation Score', m, ':'+'\\033[0m\\n')\n",
    "    print(\"Score :\" ,score)\n",
    "    print(\"Mean Score :\",score.mean())\n",
    "    print(\"Std deviation :\",score.std())\n",
    "    print('\\n')\n",
    "    print('============================================================================================================')"
   ]
  },
  {
   "cell_type": "markdown",
   "id": "79f62c76-313e-443e-bf81-a1a136e8567a",
   "metadata": {},
   "source": [
    "Here KNeighborsClassifier model performed best among all the models  so we will consider it for the hyperparameter tuning"
   ]
  },
  {
   "cell_type": "markdown",
   "id": "3e27f465-3326-42e0-ac31-ed6cdd8036f9",
   "metadata": {},
   "source": [
    "## Hyperparameter tuning"
   ]
  },
  {
   "cell_type": "code",
   "execution_count": 510,
   "id": "7b7b2e71-ddb0-4606-975a-c999a7b84c7c",
   "metadata": {},
   "outputs": [],
   "source": [
    "from sklearn.model_selection import GridSearchCV"
   ]
  },
  {
   "cell_type": "code",
   "execution_count": 511,
   "id": "f6395da3-53d4-4b14-8ba9-ddf96b587489",
   "metadata": {},
   "outputs": [],
   "source": [
    "parameter = {\n",
    "    'n_neighbors': [1, 5, 10, 20],  # or use a range of values\n",
    "    'leaf_size': [20, 30, 40],  # or use a range of values\n",
    "    'p': [1, 2],  # or use a range of values\n",
    "    'weights': ['uniform', 'distance'],\n",
    "    'metric': ['minkowski', 'chebyshev']\n",
    "}"
   ]
  },
  {
   "cell_type": "code",
   "execution_count": 515,
   "id": "81d0cb04-cb97-46f6-9ab6-0076a2cd84ba",
   "metadata": {},
   "outputs": [
    {
     "data": {
      "text/html": [
       "<style>#sk-container-id-3 {color: black;background-color: white;}#sk-container-id-3 pre{padding: 0;}#sk-container-id-3 div.sk-toggleable {background-color: white;}#sk-container-id-3 label.sk-toggleable__label {cursor: pointer;display: block;width: 100%;margin-bottom: 0;padding: 0.3em;box-sizing: border-box;text-align: center;}#sk-container-id-3 label.sk-toggleable__label-arrow:before {content: \"▸\";float: left;margin-right: 0.25em;color: #696969;}#sk-container-id-3 label.sk-toggleable__label-arrow:hover:before {color: black;}#sk-container-id-3 div.sk-estimator:hover label.sk-toggleable__label-arrow:before {color: black;}#sk-container-id-3 div.sk-toggleable__content {max-height: 0;max-width: 0;overflow: hidden;text-align: left;background-color: #f0f8ff;}#sk-container-id-3 div.sk-toggleable__content pre {margin: 0.2em;color: black;border-radius: 0.25em;background-color: #f0f8ff;}#sk-container-id-3 input.sk-toggleable__control:checked~div.sk-toggleable__content {max-height: 200px;max-width: 100%;overflow: auto;}#sk-container-id-3 input.sk-toggleable__control:checked~label.sk-toggleable__label-arrow:before {content: \"▾\";}#sk-container-id-3 div.sk-estimator input.sk-toggleable__control:checked~label.sk-toggleable__label {background-color: #d4ebff;}#sk-container-id-3 div.sk-label input.sk-toggleable__control:checked~label.sk-toggleable__label {background-color: #d4ebff;}#sk-container-id-3 input.sk-hidden--visually {border: 0;clip: rect(1px 1px 1px 1px);clip: rect(1px, 1px, 1px, 1px);height: 1px;margin: -1px;overflow: hidden;padding: 0;position: absolute;width: 1px;}#sk-container-id-3 div.sk-estimator {font-family: monospace;background-color: #f0f8ff;border: 1px dotted black;border-radius: 0.25em;box-sizing: border-box;margin-bottom: 0.5em;}#sk-container-id-3 div.sk-estimator:hover {background-color: #d4ebff;}#sk-container-id-3 div.sk-parallel-item::after {content: \"\";width: 100%;border-bottom: 1px solid gray;flex-grow: 1;}#sk-container-id-3 div.sk-label:hover label.sk-toggleable__label {background-color: #d4ebff;}#sk-container-id-3 div.sk-serial::before {content: \"\";position: absolute;border-left: 1px solid gray;box-sizing: border-box;top: 0;bottom: 0;left: 50%;z-index: 0;}#sk-container-id-3 div.sk-serial {display: flex;flex-direction: column;align-items: center;background-color: white;padding-right: 0.2em;padding-left: 0.2em;position: relative;}#sk-container-id-3 div.sk-item {position: relative;z-index: 1;}#sk-container-id-3 div.sk-parallel {display: flex;align-items: stretch;justify-content: center;background-color: white;position: relative;}#sk-container-id-3 div.sk-item::before, #sk-container-id-3 div.sk-parallel-item::before {content: \"\";position: absolute;border-left: 1px solid gray;box-sizing: border-box;top: 0;bottom: 0;left: 50%;z-index: -1;}#sk-container-id-3 div.sk-parallel-item {display: flex;flex-direction: column;z-index: 1;position: relative;background-color: white;}#sk-container-id-3 div.sk-parallel-item:first-child::after {align-self: flex-end;width: 50%;}#sk-container-id-3 div.sk-parallel-item:last-child::after {align-self: flex-start;width: 50%;}#sk-container-id-3 div.sk-parallel-item:only-child::after {width: 0;}#sk-container-id-3 div.sk-dashed-wrapped {border: 1px dashed gray;margin: 0 0.4em 0.5em 0.4em;box-sizing: border-box;padding-bottom: 0.4em;background-color: white;}#sk-container-id-3 div.sk-label label {font-family: monospace;font-weight: bold;display: inline-block;line-height: 1.2em;}#sk-container-id-3 div.sk-label-container {text-align: center;}#sk-container-id-3 div.sk-container {/* jupyter's `normalize.less` sets `[hidden] { display: none; }` but bootstrap.min.css set `[hidden] { display: none !important; }` so we also need the `!important` here to be able to override the default hidden behavior on the sphinx rendered scikit-learn.org. See: https://github.com/scikit-learn/scikit-learn/issues/21755 */display: inline-block !important;position: relative;}#sk-container-id-3 div.sk-text-repr-fallback {display: none;}</style><div id=\"sk-container-id-3\" class=\"sk-top-container\"><div class=\"sk-text-repr-fallback\"><pre>GridSearchCV(estimator=KNeighborsClassifier(n_jobs=-1),\n",
       "             param_grid={&#x27;leaf_size&#x27;: [20, 30, 40],\n",
       "                         &#x27;metric&#x27;: [&#x27;minkowski&#x27;, &#x27;chebyshev&#x27;],\n",
       "                         &#x27;n_neighbors&#x27;: [1, 5, 10, 20], &#x27;p&#x27;: [1, 2],\n",
       "                         &#x27;weights&#x27;: [&#x27;uniform&#x27;, &#x27;distance&#x27;]})</pre><b>In a Jupyter environment, please rerun this cell to show the HTML representation or trust the notebook. <br />On GitHub, the HTML representation is unable to render, please try loading this page with nbviewer.org.</b></div><div class=\"sk-container\" hidden><div class=\"sk-item sk-dashed-wrapped\"><div class=\"sk-label-container\"><div class=\"sk-label sk-toggleable\"><input class=\"sk-toggleable__control sk-hidden--visually\" id=\"sk-estimator-id-7\" type=\"checkbox\" ><label for=\"sk-estimator-id-7\" class=\"sk-toggleable__label sk-toggleable__label-arrow\">GridSearchCV</label><div class=\"sk-toggleable__content\"><pre>GridSearchCV(estimator=KNeighborsClassifier(n_jobs=-1),\n",
       "             param_grid={&#x27;leaf_size&#x27;: [20, 30, 40],\n",
       "                         &#x27;metric&#x27;: [&#x27;minkowski&#x27;, &#x27;chebyshev&#x27;],\n",
       "                         &#x27;n_neighbors&#x27;: [1, 5, 10, 20], &#x27;p&#x27;: [1, 2],\n",
       "                         &#x27;weights&#x27;: [&#x27;uniform&#x27;, &#x27;distance&#x27;]})</pre></div></div></div><div class=\"sk-parallel\"><div class=\"sk-parallel-item\"><div class=\"sk-item\"><div class=\"sk-label-container\"><div class=\"sk-label sk-toggleable\"><input class=\"sk-toggleable__control sk-hidden--visually\" id=\"sk-estimator-id-8\" type=\"checkbox\" ><label for=\"sk-estimator-id-8\" class=\"sk-toggleable__label sk-toggleable__label-arrow\">estimator: KNeighborsClassifier</label><div class=\"sk-toggleable__content\"><pre>KNeighborsClassifier(n_jobs=-1)</pre></div></div></div><div class=\"sk-serial\"><div class=\"sk-item\"><div class=\"sk-estimator sk-toggleable\"><input class=\"sk-toggleable__control sk-hidden--visually\" id=\"sk-estimator-id-9\" type=\"checkbox\" ><label for=\"sk-estimator-id-9\" class=\"sk-toggleable__label sk-toggleable__label-arrow\">KNeighborsClassifier</label><div class=\"sk-toggleable__content\"><pre>KNeighborsClassifier(n_jobs=-1)</pre></div></div></div></div></div></div></div></div></div></div>"
      ],
      "text/plain": [
       "GridSearchCV(estimator=KNeighborsClassifier(n_jobs=-1),\n",
       "             param_grid={'leaf_size': [20, 30, 40],\n",
       "                         'metric': ['minkowski', 'chebyshev'],\n",
       "                         'n_neighbors': [1, 5, 10, 20], 'p': [1, 2],\n",
       "                         'weights': ['uniform', 'distance']})"
      ]
     },
     "execution_count": 515,
     "metadata": {},
     "output_type": "execute_result"
    }
   ],
   "source": [
    "GCV = GridSearchCV(KNeighborsClassifier(n_jobs=-1),parameter)\n",
    "GCV.fit(X_train,Y_train)"
   ]
  },
  {
   "cell_type": "code",
   "execution_count": 516,
   "id": "10aa9d95-5511-4ed7-ae97-13b5a4372155",
   "metadata": {},
   "outputs": [
    {
     "data": {
      "text/plain": [
       "{'leaf_size': 40,\n",
       " 'metric': 'minkowski',\n",
       " 'n_neighbors': 1,\n",
       " 'p': 1,\n",
       " 'weights': 'uniform'}"
      ]
     },
     "execution_count": 516,
     "metadata": {},
     "output_type": "execute_result"
    }
   ],
   "source": [
    "GCV.best_params_"
   ]
  },
  {
   "cell_type": "code",
   "execution_count": 518,
   "id": "9931f0f7-4001-474e-95fc-93f438fbb3ac",
   "metadata": {},
   "outputs": [
    {
     "name": "stdout",
     "output_type": "stream",
     "text": [
      "\u001b[1mAccuracy Score :\u001b[0m\n",
      " 0.9662478904931558\n"
     ]
    }
   ],
   "source": [
    "Final_mod = KNeighborsClassifier(leaf_size=40,metric= \"minkowski\", n_neighbors=1,\n",
    "                                 p=1, weights= 'uniform')\n",
    "Final_mod.fit(X_train,Y_train)\n",
    "y_pred=Final_mod.predict(X_test)\n",
    "print('\\033[1m'+'Accuracy Score :'+'\\033[0m\\n', accuracy_score(Y_test, y_pred))"
   ]
  },
  {
   "cell_type": "code",
   "execution_count": 519,
   "id": "c8c72461-1bc0-4180-819c-dc5611b3d201",
   "metadata": {},
   "outputs": [
    {
     "data": {
      "image/png": "[encoded data removed]",
      "text/plain": [
       "<Figure size 500x500 with 2 Axes>"
      ]
     },
     "metadata": {},
     "output_type": "display_data"
    }
   ],
   "source": [
    "# Lets plot confusion matrix for  FinalModel\n",
    "Matrix = confusion_matrix(Y_test, y_pred)\n",
    "\n",
    "x_labels = [\"NO\",\"YES\"]\n",
    "y_labels = [\"NO\",\"YES\"]\n",
    "\n",
    "fig , ax = plt.subplots(figsize=(5,5))\n",
    "sns.heatmap(Matrix, annot = True,linewidths=.2, linecolor=\"black\", fmt = \".0f\", ax=ax, \n",
    "            cmap=\"plasma\", xticklabels = x_labels, yticklabels = y_labels)\n",
    "\n",
    "plt.xlabel(\"Predicted Label\",fontsize=14,fontweight='bold')\n",
    "plt.ylabel(\"True Label\",fontsize=14,fontweight='bold')\n",
    "plt.title('Confusion Matrix for Final Model',fontsize=20,fontweight='bold')\n",
    "plt.show()"
   ]
  },
  {
   "cell_type": "markdown",
   "id": "474dabe6-bd50-4c71-a7ff-4c1896803114",
   "metadata": {},
   "source": [
    "# Saving the classification model"
   ]
  },
  {
   "cell_type": "code",
   "execution_count": 522,
   "id": "e6d35234-1327-44fb-9869-4ba0adcb68fe",
   "metadata": {},
   "outputs": [
    {
     "data": {
      "text/plain": [
       "['Zomato_price_range.pkl']"
      ]
     },
     "execution_count": 522,
     "metadata": {},
     "output_type": "execute_result"
    }
   ],
   "source": [
    "import joblib\n",
    "joblib.dump(Final_mod,'Zomato_price_range.pkl')"
   ]
  },
  {
   "cell_type": "markdown",
   "id": "beb8ee21-ebb9-4dba-b2e7-b19aa5f3b85a",
   "metadata": {},
   "source": [
    "## Predicting the Final Model\n"
   ]
  },
  {
   "cell_type": "code",
   "execution_count": 523,
   "id": "ff80520e-142b-4615-bc63-be88165ae688",
   "metadata": {},
   "outputs": [],
   "source": [
    "# Prediction\n",
    "prediction = Final_mod.predict(X_test)"
   ]
  },
  {
   "cell_type": "code",
   "execution_count": 524,
   "id": "586d4764-d3ce-4729-8ed3-4e16b9aa45cd",
   "metadata": {},
   "outputs": [
    {
     "data": {
      "text/html": [
       "<div>\n",
       "<style scoped>\n",
       "    .dataframe tbody tr th:only-of-type {\n",
       "        vertical-align: middle;\n",
       "    }\n",
       "\n",
       "    .dataframe tbody tr th {\n",
       "        vertical-align: top;\n",
       "    }\n",
       "\n",
       "    .dataframe thead th {\n",
       "        text-align: right;\n",
       "    }\n",
       "</style>\n",
       "<table border=\"1\" class=\"dataframe\">\n",
       "  <thead>\n",
       "    <tr style=\"text-align: right;\">\n",
       "      <th></th>\n",
       "      <th>Predicted Values</th>\n",
       "      <th>Actual Values</th>\n",
       "    </tr>\n",
       "  </thead>\n",
       "  <tbody>\n",
       "    <tr>\n",
       "      <th>918</th>\n",
       "      <td>0</td>\n",
       "      <td>0</td>\n",
       "    </tr>\n",
       "    <tr>\n",
       "      <th>238</th>\n",
       "      <td>1</td>\n",
       "      <td>1</td>\n",
       "    </tr>\n",
       "    <tr>\n",
       "      <th>1329</th>\n",
       "      <td>0</td>\n",
       "      <td>0</td>\n",
       "    </tr>\n",
       "    <tr>\n",
       "      <th>3047</th>\n",
       "      <td>2</td>\n",
       "      <td>2</td>\n",
       "    </tr>\n",
       "    <tr>\n",
       "      <th>415</th>\n",
       "      <td>0</td>\n",
       "      <td>0</td>\n",
       "    </tr>\n",
       "    <tr>\n",
       "      <th>4703</th>\n",
       "      <td>2</td>\n",
       "      <td>2</td>\n",
       "    </tr>\n",
       "    <tr>\n",
       "      <th>827</th>\n",
       "      <td>3</td>\n",
       "      <td>3</td>\n",
       "    </tr>\n",
       "    <tr>\n",
       "      <th>2793</th>\n",
       "      <td>1</td>\n",
       "      <td>1</td>\n",
       "    </tr>\n",
       "    <tr>\n",
       "      <th>1747</th>\n",
       "      <td>1</td>\n",
       "      <td>1</td>\n",
       "    </tr>\n",
       "    <tr>\n",
       "      <th>368</th>\n",
       "      <td>3</td>\n",
       "      <td>3</td>\n",
       "    </tr>\n",
       "    <tr>\n",
       "      <th>5145</th>\n",
       "      <td>0</td>\n",
       "      <td>0</td>\n",
       "    </tr>\n",
       "    <tr>\n",
       "      <th>5307</th>\n",
       "      <td>1</td>\n",
       "      <td>1</td>\n",
       "    </tr>\n",
       "    <tr>\n",
       "      <th>1501</th>\n",
       "      <td>1</td>\n",
       "      <td>1</td>\n",
       "    </tr>\n",
       "    <tr>\n",
       "      <th>3225</th>\n",
       "      <td>0</td>\n",
       "      <td>0</td>\n",
       "    </tr>\n",
       "    <tr>\n",
       "      <th>4909</th>\n",
       "      <td>1</td>\n",
       "      <td>1</td>\n",
       "    </tr>\n",
       "    <tr>\n",
       "      <th>1026</th>\n",
       "      <td>0</td>\n",
       "      <td>0</td>\n",
       "    </tr>\n",
       "    <tr>\n",
       "      <th>2098</th>\n",
       "      <td>1</td>\n",
       "      <td>1</td>\n",
       "    </tr>\n",
       "    <tr>\n",
       "      <th>4265</th>\n",
       "      <td>0</td>\n",
       "      <td>0</td>\n",
       "    </tr>\n",
       "    <tr>\n",
       "      <th>5286</th>\n",
       "      <td>2</td>\n",
       "      <td>2</td>\n",
       "    </tr>\n",
       "    <tr>\n",
       "      <th>3824</th>\n",
       "      <td>1</td>\n",
       "      <td>1</td>\n",
       "    </tr>\n",
       "    <tr>\n",
       "      <th>3647</th>\n",
       "      <td>3</td>\n",
       "      <td>3</td>\n",
       "    </tr>\n",
       "    <tr>\n",
       "      <th>2912</th>\n",
       "      <td>3</td>\n",
       "      <td>3</td>\n",
       "    </tr>\n",
       "    <tr>\n",
       "      <th>2837</th>\n",
       "      <td>0</td>\n",
       "      <td>0</td>\n",
       "    </tr>\n",
       "    <tr>\n",
       "      <th>394</th>\n",
       "      <td>1</td>\n",
       "      <td>1</td>\n",
       "    </tr>\n",
       "    <tr>\n",
       "      <th>3772</th>\n",
       "      <td>2</td>\n",
       "      <td>3</td>\n",
       "    </tr>\n",
       "    <tr>\n",
       "      <th>601</th>\n",
       "      <td>0</td>\n",
       "      <td>0</td>\n",
       "    </tr>\n",
       "    <tr>\n",
       "      <th>268</th>\n",
       "      <td>3</td>\n",
       "      <td>3</td>\n",
       "    </tr>\n",
       "    <tr>\n",
       "      <th>2616</th>\n",
       "      <td>3</td>\n",
       "      <td>3</td>\n",
       "    </tr>\n",
       "    <tr>\n",
       "      <th>666</th>\n",
       "      <td>0</td>\n",
       "      <td>0</td>\n",
       "    </tr>\n",
       "    <tr>\n",
       "      <th>2041</th>\n",
       "      <td>0</td>\n",
       "      <td>0</td>\n",
       "    </tr>\n",
       "  </tbody>\n",
       "</table>\n",
       "</div>"
      ],
      "text/plain": [
       "      Predicted Values  Actual Values\n",
       "918                  0              0\n",
       "238                  1              1\n",
       "1329                 0              0\n",
       "3047                 2              2\n",
       "415                  0              0\n",
       "4703                 2              2\n",
       "827                  3              3\n",
       "2793                 1              1\n",
       "1747                 1              1\n",
       "368                  3              3\n",
       "5145                 0              0\n",
       "5307                 1              1\n",
       "1501                 1              1\n",
       "3225                 0              0\n",
       "4909                 1              1\n",
       "1026                 0              0\n",
       "2098                 1              1\n",
       "4265                 0              0\n",
       "5286                 2              2\n",
       "3824                 1              1\n",
       "3647                 3              3\n",
       "2912                 3              3\n",
       "2837                 0              0\n",
       "394                  1              1\n",
       "3772                 2              3\n",
       "601                  0              0\n",
       "268                  3              3\n",
       "2616                 3              3\n",
       "666                  0              0\n",
       "2041                 0              0"
      ]
     },
     "execution_count": 524,
     "metadata": {},
     "output_type": "execute_result"
    }
   ],
   "source": [
    "Actual = np.array(Y_test)\n",
    "df_Pred = pd.DataFrame()\n",
    "df_Pred[\"Predicted Values\"] = prediction\n",
    "df_Pred[\"Actual Values\"] = Actual\n",
    "df_Pred.sample(30)"
   ]
  },
  {
   "cell_type": "code",
   "execution_count": null,
   "id": "facdea2f-b8e5-4e7e-a94d-f173b55ac2d0",
   "metadata": {},
   "outputs": [],
   "source": []
  }
 ],
 "metadata": {
  "kernelspec": {
   "display_name": "Python 3 (ipykernel)",
   "language": "python",
   "name": "python3"
  },
  "language_info": {
   "codemirror_mode": {
    "name": "ipython",
    "version": 3
   },
   "file_extension": ".py",
   "mimetype": "text/x-python",
   "name": "python",
   "nbconvert_exporter": "python",
   "pygments_lexer": "ipython3",
   "version": "3.11.7"
  }
 },
 "nbformat": 4,
 "nbformat_minor": 5
}
